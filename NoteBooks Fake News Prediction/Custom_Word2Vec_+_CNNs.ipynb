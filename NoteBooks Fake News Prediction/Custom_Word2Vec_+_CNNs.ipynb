{
  "nbformat": 4,
  "nbformat_minor": 0,
  "metadata": {
    "colab": {
      "name": "Custom Word2Vec + CNNs.ipynb",
      "provenance": [],
      "collapsed_sections": [],
      "toc_visible": true
    },
    "kernelspec": {
      "name": "python3",
      "display_name": "Python 3"
    }
  },
  "cells": [
    {
      "cell_type": "code",
      "metadata": {
        "id": "7sNTwoYCjT1p",
        "colab_type": "code",
        "outputId": "af58d5e6-9485-4d72-c3bf-c8bcf4927db9",
        "colab": {
          "base_uri": "https://localhost:8080/",
          "height": 34
        }
      },
      "source": [
        "import tensorflow as tf\n",
        "print(tf.__version__)"
      ],
      "execution_count": 0,
      "outputs": [
        {
          "output_type": "stream",
          "text": [
            "2.2.0\n"
          ],
          "name": "stdout"
        }
      ]
    },
    {
      "cell_type": "code",
      "metadata": {
        "id": "4fp9Qg0PqIRA",
        "colab_type": "code",
        "colab": {}
      },
      "source": [
        "from tensorflow.keras.preprocessing.text import Tokenizer #Tokenize words to numerical format\n",
        "from tensorflow.keras.preprocessing.sequence import pad_sequences #Every word must have same length for matrix representation\n",
        "from tensorflow.keras.models import Sequential\n",
        "from tensorflow.keras.layers import Dense,Flatten,Embedding,Activation, Dropout\n",
        "from tensorflow.keras.layers import Conv1D, MaxPooling1D, GlobalMaxPooling1D"
      ],
      "execution_count": 0,
      "outputs": []
    },
    {
      "cell_type": "code",
      "metadata": {
        "id": "zag9ZXlCrMX9",
        "colab_type": "code",
        "colab": {}
      },
      "source": [
        "import numpy as np\n",
        "import pandas as pd\n",
        "from numpy import array\n",
        "from sklearn.model_selection import train_test_split"
      ],
      "execution_count": 0,
      "outputs": []
    },
    {
      "cell_type": "markdown",
      "metadata": {
        "id": "d08vbSkExcn5",
        "colab_type": "text"
      },
      "source": [
        "# Exploratory Data Analysis"
      ]
    },
    {
      "cell_type": "code",
      "metadata": {
        "id": "1uNcgQEsrZBv",
        "colab_type": "code",
        "outputId": "f77f1082-8360-450c-d608-a1b3dad3d99f",
        "colab": {
          "base_uri": "https://localhost:8080/",
          "height": 34
        }
      },
      "source": [
        "data = pd.read_csv('/content/drive/My Drive/fake.csv')\n",
        "data.shape"
      ],
      "execution_count": 0,
      "outputs": [
        {
          "output_type": "execute_result",
          "data": {
            "text/plain": [
              "(12999, 20)"
            ]
          },
          "metadata": {
            "tags": []
          },
          "execution_count": 4
        }
      ]
    },
    {
      "cell_type": "code",
      "metadata": {
        "id": "jI4H7z70tmLD",
        "colab_type": "code",
        "outputId": "c7984072-1526-4b1c-c24f-2684bf452e17",
        "colab": {
          "base_uri": "https://localhost:8080/",
          "height": 598
        }
      },
      "source": [
        "data.head(5)"
      ],
      "execution_count": 0,
      "outputs": [
        {
          "output_type": "execute_result",
          "data": {
            "text/html": [
              "<div>\n",
              "<style scoped>\n",
              "    .dataframe tbody tr th:only-of-type {\n",
              "        vertical-align: middle;\n",
              "    }\n",
              "\n",
              "    .dataframe tbody tr th {\n",
              "        vertical-align: top;\n",
              "    }\n",
              "\n",
              "    .dataframe thead th {\n",
              "        text-align: right;\n",
              "    }\n",
              "</style>\n",
              "<table border=\"1\" class=\"dataframe\">\n",
              "  <thead>\n",
              "    <tr style=\"text-align: right;\">\n",
              "      <th></th>\n",
              "      <th>uuid</th>\n",
              "      <th>ord_in_thread</th>\n",
              "      <th>author</th>\n",
              "      <th>published</th>\n",
              "      <th>title</th>\n",
              "      <th>text</th>\n",
              "      <th>language</th>\n",
              "      <th>crawled</th>\n",
              "      <th>site_url</th>\n",
              "      <th>country</th>\n",
              "      <th>domain_rank</th>\n",
              "      <th>thread_title</th>\n",
              "      <th>spam_score</th>\n",
              "      <th>main_img_url</th>\n",
              "      <th>replies_count</th>\n",
              "      <th>participants_count</th>\n",
              "      <th>likes</th>\n",
              "      <th>comments</th>\n",
              "      <th>shares</th>\n",
              "      <th>type</th>\n",
              "    </tr>\n",
              "  </thead>\n",
              "  <tbody>\n",
              "    <tr>\n",
              "      <th>0</th>\n",
              "      <td>6a175f46bcd24d39b3e962ad0f29936721db70db</td>\n",
              "      <td>0</td>\n",
              "      <td>Barracuda Brigade</td>\n",
              "      <td>2016-10-26T21:41:00.000+03:00</td>\n",
              "      <td>Muslims BUSTED: They Stole Millions In Gov’t B...</td>\n",
              "      <td>Print They should pay all the back all the mon...</td>\n",
              "      <td>english</td>\n",
              "      <td>2016-10-27T01:49:27.168+03:00</td>\n",
              "      <td>100percentfedup.com</td>\n",
              "      <td>US</td>\n",
              "      <td>25689.0</td>\n",
              "      <td>Muslims BUSTED: They Stole Millions In Gov’t B...</td>\n",
              "      <td>0.000</td>\n",
              "      <td>http://bb4sp.com/wp-content/uploads/2016/10/Fu...</td>\n",
              "      <td>0</td>\n",
              "      <td>1</td>\n",
              "      <td>0</td>\n",
              "      <td>0</td>\n",
              "      <td>0</td>\n",
              "      <td>bias</td>\n",
              "    </tr>\n",
              "    <tr>\n",
              "      <th>1</th>\n",
              "      <td>2bdc29d12605ef9cf3f09f9875040a7113be5d5b</td>\n",
              "      <td>0</td>\n",
              "      <td>reasoning with facts</td>\n",
              "      <td>2016-10-29T08:47:11.259+03:00</td>\n",
              "      <td>Re: Why Did Attorney General Loretta Lynch Ple...</td>\n",
              "      <td>Why Did Attorney General Loretta Lynch Plead T...</td>\n",
              "      <td>english</td>\n",
              "      <td>2016-10-29T08:47:11.259+03:00</td>\n",
              "      <td>100percentfedup.com</td>\n",
              "      <td>US</td>\n",
              "      <td>25689.0</td>\n",
              "      <td>Re: Why Did Attorney General Loretta Lynch Ple...</td>\n",
              "      <td>0.000</td>\n",
              "      <td>http://bb4sp.com/wp-content/uploads/2016/10/Fu...</td>\n",
              "      <td>0</td>\n",
              "      <td>1</td>\n",
              "      <td>0</td>\n",
              "      <td>0</td>\n",
              "      <td>0</td>\n",
              "      <td>bias</td>\n",
              "    </tr>\n",
              "    <tr>\n",
              "      <th>2</th>\n",
              "      <td>c70e149fdd53de5e61c29281100b9de0ed268bc3</td>\n",
              "      <td>0</td>\n",
              "      <td>Barracuda Brigade</td>\n",
              "      <td>2016-10-31T01:41:49.479+02:00</td>\n",
              "      <td>BREAKING: Weiner Cooperating With FBI On Hilla...</td>\n",
              "      <td>Red State : \\nFox News Sunday reported this mo...</td>\n",
              "      <td>english</td>\n",
              "      <td>2016-10-31T01:41:49.479+02:00</td>\n",
              "      <td>100percentfedup.com</td>\n",
              "      <td>US</td>\n",
              "      <td>25689.0</td>\n",
              "      <td>BREAKING: Weiner Cooperating With FBI On Hilla...</td>\n",
              "      <td>0.000</td>\n",
              "      <td>http://bb4sp.com/wp-content/uploads/2016/10/Fu...</td>\n",
              "      <td>0</td>\n",
              "      <td>1</td>\n",
              "      <td>0</td>\n",
              "      <td>0</td>\n",
              "      <td>0</td>\n",
              "      <td>bias</td>\n",
              "    </tr>\n",
              "    <tr>\n",
              "      <th>3</th>\n",
              "      <td>7cf7c15731ac2a116dd7f629bd57ea468ed70284</td>\n",
              "      <td>0</td>\n",
              "      <td>Fed Up</td>\n",
              "      <td>2016-11-01T05:22:00.000+02:00</td>\n",
              "      <td>PIN DROP SPEECH BY FATHER OF DAUGHTER Kidnappe...</td>\n",
              "      <td>Email Kayla Mueller was a prisoner and torture...</td>\n",
              "      <td>english</td>\n",
              "      <td>2016-11-01T15:46:26.304+02:00</td>\n",
              "      <td>100percentfedup.com</td>\n",
              "      <td>US</td>\n",
              "      <td>25689.0</td>\n",
              "      <td>PIN DROP SPEECH BY FATHER OF DAUGHTER Kidnappe...</td>\n",
              "      <td>0.068</td>\n",
              "      <td>http://100percentfedup.com/wp-content/uploads/...</td>\n",
              "      <td>0</td>\n",
              "      <td>0</td>\n",
              "      <td>0</td>\n",
              "      <td>0</td>\n",
              "      <td>0</td>\n",
              "      <td>bias</td>\n",
              "    </tr>\n",
              "    <tr>\n",
              "      <th>4</th>\n",
              "      <td>0206b54719c7e241ffe0ad4315b808290dbe6c0f</td>\n",
              "      <td>0</td>\n",
              "      <td>Fed Up</td>\n",
              "      <td>2016-11-01T21:56:00.000+02:00</td>\n",
              "      <td>FANTASTIC! TRUMP'S 7 POINT PLAN To Reform Heal...</td>\n",
              "      <td>Email HEALTHCARE REFORM TO MAKE AMERICA GREAT ...</td>\n",
              "      <td>english</td>\n",
              "      <td>2016-11-01T23:59:42.266+02:00</td>\n",
              "      <td>100percentfedup.com</td>\n",
              "      <td>US</td>\n",
              "      <td>25689.0</td>\n",
              "      <td>FANTASTIC! TRUMP'S 7 POINT PLAN To Reform Heal...</td>\n",
              "      <td>0.865</td>\n",
              "      <td>http://100percentfedup.com/wp-content/uploads/...</td>\n",
              "      <td>0</td>\n",
              "      <td>0</td>\n",
              "      <td>0</td>\n",
              "      <td>0</td>\n",
              "      <td>0</td>\n",
              "      <td>bias</td>\n",
              "    </tr>\n",
              "  </tbody>\n",
              "</table>\n",
              "</div>"
            ],
            "text/plain": [
              "                                       uuid  ord_in_thread  ... shares  type\n",
              "0  6a175f46bcd24d39b3e962ad0f29936721db70db              0  ...      0  bias\n",
              "1  2bdc29d12605ef9cf3f09f9875040a7113be5d5b              0  ...      0  bias\n",
              "2  c70e149fdd53de5e61c29281100b9de0ed268bc3              0  ...      0  bias\n",
              "3  7cf7c15731ac2a116dd7f629bd57ea468ed70284              0  ...      0  bias\n",
              "4  0206b54719c7e241ffe0ad4315b808290dbe6c0f              0  ...      0  bias\n",
              "\n",
              "[5 rows x 20 columns]"
            ]
          },
          "metadata": {
            "tags": []
          },
          "execution_count": 5
        }
      ]
    },
    {
      "cell_type": "code",
      "metadata": {
        "id": "4Ixy4Aaztsx9",
        "colab_type": "code",
        "outputId": "66d0e256-b957-4c03-9b80-9319f3604654",
        "colab": {
          "base_uri": "https://localhost:8080/",
          "height": 564
        }
      },
      "source": [
        "data.tail(5)"
      ],
      "execution_count": 0,
      "outputs": [
        {
          "output_type": "execute_result",
          "data": {
            "text/html": [
              "<div>\n",
              "<style scoped>\n",
              "    .dataframe tbody tr th:only-of-type {\n",
              "        vertical-align: middle;\n",
              "    }\n",
              "\n",
              "    .dataframe tbody tr th {\n",
              "        vertical-align: top;\n",
              "    }\n",
              "\n",
              "    .dataframe thead th {\n",
              "        text-align: right;\n",
              "    }\n",
              "</style>\n",
              "<table border=\"1\" class=\"dataframe\">\n",
              "  <thead>\n",
              "    <tr style=\"text-align: right;\">\n",
              "      <th></th>\n",
              "      <th>uuid</th>\n",
              "      <th>ord_in_thread</th>\n",
              "      <th>author</th>\n",
              "      <th>published</th>\n",
              "      <th>title</th>\n",
              "      <th>text</th>\n",
              "      <th>language</th>\n",
              "      <th>crawled</th>\n",
              "      <th>site_url</th>\n",
              "      <th>country</th>\n",
              "      <th>domain_rank</th>\n",
              "      <th>thread_title</th>\n",
              "      <th>spam_score</th>\n",
              "      <th>main_img_url</th>\n",
              "      <th>replies_count</th>\n",
              "      <th>participants_count</th>\n",
              "      <th>likes</th>\n",
              "      <th>comments</th>\n",
              "      <th>shares</th>\n",
              "      <th>type</th>\n",
              "    </tr>\n",
              "  </thead>\n",
              "  <tbody>\n",
              "    <tr>\n",
              "      <th>12994</th>\n",
              "      <td>f1b5d0e44803f48732bde854a9fdf95837219b12</td>\n",
              "      <td>2</td>\n",
              "      <td>replaceme</td>\n",
              "      <td>2016-10-26T23:58:00.000+03:00</td>\n",
              "      <td>NaN</td>\n",
              "      <td>It DOES allow you to put a dog face on top of ...</td>\n",
              "      <td>english</td>\n",
              "      <td>2016-10-27T00:37:46.194+03:00</td>\n",
              "      <td>zerohedge.com</td>\n",
              "      <td>US</td>\n",
              "      <td>2435.0</td>\n",
              "      <td>Snapchat To Raise Up To $4 Billion In IPO, Val...</td>\n",
              "      <td>0.0</td>\n",
              "      <td>NaN</td>\n",
              "      <td>40</td>\n",
              "      <td>32</td>\n",
              "      <td>0</td>\n",
              "      <td>0</td>\n",
              "      <td>0</td>\n",
              "      <td>bs</td>\n",
              "    </tr>\n",
              "    <tr>\n",
              "      <th>12995</th>\n",
              "      <td>36011ceba3647e1bea78299b68b6fb705a1fc1ad</td>\n",
              "      <td>3</td>\n",
              "      <td>Freedumb</td>\n",
              "      <td>2016-10-27T00:02:00.000+03:00</td>\n",
              "      <td>NaN</td>\n",
              "      <td>Wait till you see what happens to the valuatio...</td>\n",
              "      <td>english</td>\n",
              "      <td>2016-10-27T00:37:46.220+03:00</td>\n",
              "      <td>zerohedge.com</td>\n",
              "      <td>US</td>\n",
              "      <td>2435.0</td>\n",
              "      <td>Snapchat To Raise Up To $4 Billion In IPO, Val...</td>\n",
              "      <td>0.0</td>\n",
              "      <td>NaN</td>\n",
              "      <td>40</td>\n",
              "      <td>32</td>\n",
              "      <td>0</td>\n",
              "      <td>0</td>\n",
              "      <td>0</td>\n",
              "      <td>bs</td>\n",
              "    </tr>\n",
              "    <tr>\n",
              "      <th>12996</th>\n",
              "      <td>6995d1aa9ac99926106489b14b5530e85358059a</td>\n",
              "      <td>4</td>\n",
              "      <td>major major maj...</td>\n",
              "      <td>2016-10-27T00:06:00.000+03:00</td>\n",
              "      <td>NaN</td>\n",
              "      <td>I'm waiting for the one that puts a pussy on m...</td>\n",
              "      <td>english</td>\n",
              "      <td>2016-10-27T00:37:46.244+03:00</td>\n",
              "      <td>zerohedge.com</td>\n",
              "      <td>US</td>\n",
              "      <td>2435.0</td>\n",
              "      <td>Snapchat To Raise Up To $4 Billion In IPO, Val...</td>\n",
              "      <td>0.0</td>\n",
              "      <td>NaN</td>\n",
              "      <td>40</td>\n",
              "      <td>32</td>\n",
              "      <td>0</td>\n",
              "      <td>0</td>\n",
              "      <td>0</td>\n",
              "      <td>bs</td>\n",
              "    </tr>\n",
              "    <tr>\n",
              "      <th>12997</th>\n",
              "      <td>7de8ae90eee164eb756db6c8a3772288e11d7a94</td>\n",
              "      <td>5</td>\n",
              "      <td>beemasters</td>\n",
              "      <td>2016-10-27T00:09:00.000+03:00</td>\n",
              "      <td>NaN</td>\n",
              "      <td>$4 Billion even after they are known to be kee...</td>\n",
              "      <td>english</td>\n",
              "      <td>2016-10-27T00:37:46.247+03:00</td>\n",
              "      <td>zerohedge.com</td>\n",
              "      <td>US</td>\n",
              "      <td>2435.0</td>\n",
              "      <td>Snapchat To Raise Up To $4 Billion In IPO, Val...</td>\n",
              "      <td>0.0</td>\n",
              "      <td>NaN</td>\n",
              "      <td>40</td>\n",
              "      <td>32</td>\n",
              "      <td>0</td>\n",
              "      <td>0</td>\n",
              "      <td>0</td>\n",
              "      <td>bs</td>\n",
              "    </tr>\n",
              "    <tr>\n",
              "      <th>12998</th>\n",
              "      <td>dabef7095b7d9dae6eb0d83c4cbb40b85efd7ae5</td>\n",
              "      <td>6</td>\n",
              "      <td>i&amp;#039;m-confused</td>\n",
              "      <td>2016-10-27T00:09:00.000+03:00</td>\n",
              "      <td>NaN</td>\n",
              "      <td>of course - how else would they disceminate te...</td>\n",
              "      <td>english</td>\n",
              "      <td>2016-10-27T00:37:46.260+03:00</td>\n",
              "      <td>zerohedge.com</td>\n",
              "      <td>US</td>\n",
              "      <td>2435.0</td>\n",
              "      <td>Snapchat To Raise Up To $4 Billion In IPO, Val...</td>\n",
              "      <td>0.0</td>\n",
              "      <td>NaN</td>\n",
              "      <td>40</td>\n",
              "      <td>32</td>\n",
              "      <td>0</td>\n",
              "      <td>0</td>\n",
              "      <td>0</td>\n",
              "      <td>bs</td>\n",
              "    </tr>\n",
              "  </tbody>\n",
              "</table>\n",
              "</div>"
            ],
            "text/plain": [
              "                                           uuid  ord_in_thread  ... shares type\n",
              "12994  f1b5d0e44803f48732bde854a9fdf95837219b12              2  ...      0   bs\n",
              "12995  36011ceba3647e1bea78299b68b6fb705a1fc1ad              3  ...      0   bs\n",
              "12996  6995d1aa9ac99926106489b14b5530e85358059a              4  ...      0   bs\n",
              "12997  7de8ae90eee164eb756db6c8a3772288e11d7a94              5  ...      0   bs\n",
              "12998  dabef7095b7d9dae6eb0d83c4cbb40b85efd7ae5              6  ...      0   bs\n",
              "\n",
              "[5 rows x 20 columns]"
            ]
          },
          "metadata": {
            "tags": []
          },
          "execution_count": 6
        }
      ]
    },
    {
      "cell_type": "code",
      "metadata": {
        "id": "UTbNRbhJvA_W",
        "colab_type": "code",
        "colab": {}
      },
      "source": [
        "# Lets create y_label i.e Spam or not by Creating a Bias\n",
        "# Any article with spam level >0.2 is marked as spam\n",
        "\n",
        "y_data = []\n",
        "for e in data['spam_score']:\n",
        "  if e > 0.2:\n",
        "    y_data.append(1)\n",
        "  else:\n",
        "    y_data.append(0)"
      ],
      "execution_count": 0,
      "outputs": []
    },
    {
      "cell_type": "code",
      "metadata": {
        "id": "a8l9aHjsvTjX",
        "colab_type": "code",
        "outputId": "e3d980e1-6453-40c8-8090-e493d7b9b302",
        "colab": {
          "base_uri": "https://localhost:8080/",
          "height": 34
        }
      },
      "source": [
        "len(y_data)"
      ],
      "execution_count": 0,
      "outputs": [
        {
          "output_type": "execute_result",
          "data": {
            "text/plain": [
              "12999"
            ]
          },
          "metadata": {
            "tags": []
          },
          "execution_count": 6
        }
      ]
    },
    {
      "cell_type": "code",
      "metadata": {
        "id": "bUFdvnz1vhXb",
        "colab_type": "code",
        "colab": {}
      },
      "source": [
        "count_0 = 0\n",
        "count_1 = 0\n",
        "for e in y_data:\n",
        "  if(e == 1):\n",
        "    count_1 = count_1 + 1\n",
        "  else:\n",
        "    count_0 = count_0 + 1"
      ],
      "execution_count": 0,
      "outputs": []
    },
    {
      "cell_type": "code",
      "metadata": {
        "id": "vZyU4pTnvt2v",
        "colab_type": "code",
        "outputId": "62c15993-5ffd-4f71-d126-0d57d749724c",
        "colab": {
          "base_uri": "https://localhost:8080/",
          "height": 34
        }
      },
      "source": [
        "print(count_0)"
      ],
      "execution_count": 0,
      "outputs": [
        {
          "output_type": "stream",
          "text": [
            "12499\n"
          ],
          "name": "stdout"
        }
      ]
    },
    {
      "cell_type": "code",
      "metadata": {
        "id": "msmYWNnkvwHw",
        "colab_type": "code",
        "outputId": "e0750599-7aee-42f2-99f3-cdebcefdc8f9",
        "colab": {
          "base_uri": "https://localhost:8080/",
          "height": 34
        }
      },
      "source": [
        "print(count_1)"
      ],
      "execution_count": 0,
      "outputs": [
        {
          "output_type": "stream",
          "text": [
            "500\n"
          ],
          "name": "stdout"
        }
      ]
    },
    {
      "cell_type": "code",
      "metadata": {
        "id": "xl-opoi_gxj6",
        "colab_type": "code",
        "colab": {}
      },
      "source": [
        "# Clearly the Above analysis shows imbalanced dataset"
      ],
      "execution_count": 0,
      "outputs": []
    },
    {
      "cell_type": "code",
      "metadata": {
        "id": "Qb5YcISMxzQ4",
        "colab_type": "code",
        "colab": {}
      },
      "source": [
        "# X_data is combination of text and title because content + title both can play a pivotal role in determining label\n",
        "\n",
        "X_data = data['text'] + data['title']"
      ],
      "execution_count": 0,
      "outputs": []
    },
    {
      "cell_type": "code",
      "metadata": {
        "id": "8lhtF4Wgx9t0",
        "colab_type": "code",
        "outputId": "0c00a95d-9431-4a23-c26e-b32c9f72a4df",
        "colab": {
          "base_uri": "https://localhost:8080/",
          "height": 34
        }
      },
      "source": [
        "X_data.shape"
      ],
      "execution_count": 0,
      "outputs": [
        {
          "output_type": "execute_result",
          "data": {
            "text/plain": [
              "(12999,)"
            ]
          },
          "metadata": {
            "tags": []
          },
          "execution_count": 11
        }
      ]
    },
    {
      "cell_type": "code",
      "metadata": {
        "id": "RjxRtIP430ef",
        "colab_type": "code",
        "outputId": "a4961847-e5d8-4ef0-ba42-46f5e92342af",
        "colab": {
          "base_uri": "https://localhost:8080/",
          "height": 54
        }
      },
      "source": [
        "# How a sample X_data looks like\n",
        "\n",
        "X_data[10000]"
      ],
      "execution_count": 0,
      "outputs": [
        {
          "output_type": "execute_result",
          "data": {
            "text/plain": [
              "\"Experts Recommend Breaking Down Crushing Defeats Into Smaller, More Manageable Failures Close Vol 50 Issue 20 · Lifestyle \\nSANTA BARBARA, CA—Offering advice to those who feel overwhelmed at the thought of becoming massive failures, a group of experts reported this week that the best way to approach a crippling defeat is to break it down into a set of smaller and more manageable setbacks. “The key to failing on a monumental scale is to take life one small misstep at a time,” life coach Jack V. Royce told reporters, emphasizing that people who hit absolute rock bottom seldom get there overnight. “Just start with a couple of minor fuckups and then build off that. It’s all about working through your long, humiliating downward spiral in workable increments: botch this, flub that, make a wreck of something else—and then, before you know it, you’re well on your way to being totally screwed.” Royce added that it’s also helpful every now and then to stop, take stock of your situation, and really beat yourself up about it. Share This Story: WATCH VIDEO FROM THE ONION Sign up For The Onion's Newsletter \\nGive your spam filter something to do. Daily Headlines Experts Recommend Breaking Down Crushing Defeats Into Smaller, More Manageable Failures - The Onion - America's Finest News Source\""
            ]
          },
          "metadata": {
            "tags": []
          },
          "execution_count": 12
        }
      ]
    },
    {
      "cell_type": "markdown",
      "metadata": {
        "id": "4HSowvt72Orw",
        "colab_type": "text"
      },
      "source": [
        "# Cleaning and Tokenizing X_data and y_data"
      ]
    },
    {
      "cell_type": "code",
      "metadata": {
        "id": "biBejCo62V5-",
        "colab_type": "code",
        "outputId": "8ee340a5-3c7d-48aa-9acf-5d444beb3fd6",
        "colab": {
          "base_uri": "https://localhost:8080/",
          "height": 51
        }
      },
      "source": [
        "import matplotlib.pyplot as plt\n",
        "from bs4 import BeautifulSoup\n",
        "import re\n",
        "import nltk\n",
        "nltk.download('stopwords')\n",
        "from nltk.corpus import stopwords"
      ],
      "execution_count": 0,
      "outputs": [
        {
          "output_type": "stream",
          "text": [
            "[nltk_data] Downloading package stopwords to /root/nltk_data...\n",
            "[nltk_data]   Unzipping corpora/stopwords.zip.\n"
          ],
          "name": "stdout"
        }
      ]
    },
    {
      "cell_type": "code",
      "metadata": {
        "id": "qrqDH7IY2ip_",
        "colab_type": "code",
        "colab": {}
      },
      "source": [
        "#Data Pre-Processing(Treating Symbols and Stopwords Present in Data)\n",
        "\n",
        "REPLACE_BY_SPACE_RE = re.compile('[/(){}\\[\\]\\|@,;]') #These Symbols will be replaced with Space\n",
        "BAD_SYMBOLS_RE = re.compile('[^0-9a-z #+_]')         #These Symbols will be Removed from Text\n",
        "STOPWORDS = set(stopwords.words('english')) "
      ],
      "execution_count": 0,
      "outputs": []
    },
    {
      "cell_type": "code",
      "metadata": {
        "id": "MxFr66Qn2l-3",
        "colab_type": "code",
        "colab": {}
      },
      "source": [
        "#Text Cleaning Functions\n",
        "\n",
        "def string_form(value):\n",
        "    return str(value)\n",
        "\n",
        "def clean_text(text):\n",
        "   \n",
        "    text = BeautifulSoup(text, \"lxml\").text\n",
        "    text = text.lower()  #LowerCase Text\n",
        "    text = REPLACE_BY_SPACE_RE.sub(' ', text) #Replace Certain Symbols by Space in Text\n",
        "    text = BAD_SYMBOLS_RE.sub('', text) #Delete Certain Symbols from Text\n",
        "    text = ' '.join(word for word in text.split() if word not in STOPWORDS) #Remove Stopwords from Text\n",
        "    return text"
      ],
      "execution_count": 0,
      "outputs": []
    },
    {
      "cell_type": "code",
      "metadata": {
        "id": "smodOObg2qS_",
        "colab_type": "code",
        "colab": {}
      },
      "source": [
        "# Text Pre-processing and cleaning operations\n",
        "\n",
        "X_data = X_data.apply(string_form)\n",
        "X_data = X_data.apply(clean_text)"
      ],
      "execution_count": 0,
      "outputs": []
    },
    {
      "cell_type": "code",
      "metadata": {
        "id": "WmagNjfU4OjY",
        "colab_type": "code",
        "colab": {}
      },
      "source": [
        "# Let us Remove all nan values\n",
        "\n",
        "X_data_final = []\n",
        "y_data_final = []\n",
        "\n",
        "for e in range(len(X_data)):\n",
        "  if(X_data[e] != 'nan'):\n",
        "    X_data_final.append(X_data[e])\n",
        "    y_data_final.append(y_data[e])"
      ],
      "execution_count": 0,
      "outputs": []
    },
    {
      "cell_type": "code",
      "metadata": {
        "id": "T4XPSEkP4uPh",
        "colab_type": "code",
        "outputId": "12bdabde-05c0-4640-c91e-b4a58a309866",
        "colab": {
          "base_uri": "https://localhost:8080/",
          "height": 34
        }
      },
      "source": [
        "len(X_data_final)"
      ],
      "execution_count": 0,
      "outputs": [
        {
          "output_type": "execute_result",
          "data": {
            "text/plain": [
              "12273"
            ]
          },
          "metadata": {
            "tags": []
          },
          "execution_count": 18
        }
      ]
    },
    {
      "cell_type": "code",
      "metadata": {
        "id": "EwB117q540Ec",
        "colab_type": "code",
        "outputId": "34d3c251-7318-4a9c-f72e-8ce72cf6df4b",
        "colab": {
          "base_uri": "https://localhost:8080/",
          "height": 34
        }
      },
      "source": [
        "len(y_data_final)"
      ],
      "execution_count": 0,
      "outputs": [
        {
          "output_type": "execute_result",
          "data": {
            "text/plain": [
              "12273"
            ]
          },
          "metadata": {
            "tags": []
          },
          "execution_count": 19
        }
      ]
    },
    {
      "cell_type": "code",
      "metadata": {
        "id": "cB0_lP_35ysh",
        "colab_type": "code",
        "colab": {}
      },
      "source": [
        "tokenizer = Tokenizer()\n",
        "tokenizer.fit_on_texts(X_data_final)"
      ],
      "execution_count": 0,
      "outputs": []
    },
    {
      "cell_type": "code",
      "metadata": {
        "id": "ed3sen1N5-G3",
        "colab_type": "code",
        "colab": {}
      },
      "source": [
        "# Let's see all the words tokenized\n",
        "\n",
        "vocab = tokenizer.index_word\n",
        "vocab"
      ],
      "execution_count": 0,
      "outputs": []
    },
    {
      "cell_type": "code",
      "metadata": {
        "id": "da4NWR0_6Lud",
        "colab_type": "code",
        "outputId": "d5157da9-7c9e-4201-e608-53d53a80c618",
        "colab": {
          "base_uri": "https://localhost:8080/",
          "height": 34
        }
      },
      "source": [
        "#We saw the tokenization of words\n",
        "#Now we will get length of vocabulary then do embedding\n",
        "vocab_size = len(tokenizer.word_index) + 1\n",
        "vocab_size"
      ],
      "execution_count": 0,
      "outputs": [
        {
          "output_type": "execute_result",
          "data": {
            "text/plain": [
              "171533"
            ]
          },
          "metadata": {
            "tags": []
          },
          "execution_count": 22
        }
      ]
    },
    {
      "cell_type": "code",
      "metadata": {
        "id": "tmBHLz0r6XUY",
        "colab_type": "code",
        "colab": {}
      },
      "source": [
        "# We have a staggering 171533 distinct words after text cleaning"
      ],
      "execution_count": 0,
      "outputs": []
    },
    {
      "cell_type": "code",
      "metadata": {
        "id": "SLmuyYTz6eH4",
        "colab_type": "code",
        "colab": {}
      },
      "source": [
        "#We have 28711 unique words\n",
        "encoded_text = tokenizer.texts_to_sequences(X_data_final)"
      ],
      "execution_count": 0,
      "outputs": []
    },
    {
      "cell_type": "code",
      "metadata": {
        "id": "6pHyDJ6W6n5X",
        "colab_type": "code",
        "outputId": "97e4eb1a-11c7-471f-d51f-8587430b8f62",
        "colab": {
          "base_uri": "https://localhost:8080/",
          "height": 918
        }
      },
      "source": [
        "#This is text data tokenized and as present in dataset, i.e as sentences\n",
        "encoded_text[0]"
      ],
      "execution_count": 0,
      "outputs": [
        {
          "output_type": "execute_result",
          "data": {
            "text/plain": [
              "[1230,\n",
              " 415,\n",
              " 51,\n",
              " 97,\n",
              " 1541,\n",
              " 501,\n",
              " 340,\n",
              " 209,\n",
              " 390,\n",
              " 275,\n",
              " 77,\n",
              " 6432,\n",
              " 16035,\n",
              " 53,\n",
              " 36,\n",
              " 25,\n",
              " 9643,\n",
              " 61,\n",
              " 69,\n",
              " 156,\n",
              " 4428,\n",
              " 20,\n",
              " 3317,\n",
              " 156,\n",
              " 30275,\n",
              " 6086,\n",
              " 396,\n",
              " 135,\n",
              " 20,\n",
              " 1103,\n",
              " 176,\n",
              " 331,\n",
              " 825,\n",
              " 210,\n",
              " 1384,\n",
              " 798,\n",
              " 10,\n",
              " 5,\n",
              " 574,\n",
              " 1154,\n",
              " 1104,\n",
              " 2464,\n",
              " 683,\n",
              " 22313,\n",
              " 82760,\n",
              " 39,\n",
              " 139,\n",
              " 82761,\n",
              " 7402,\n",
              " 6086,\n",
              " 397,\n",
              " 3318,\n",
              " 1103]"
            ]
          },
          "metadata": {
            "tags": []
          },
          "execution_count": 25
        }
      ]
    },
    {
      "cell_type": "code",
      "metadata": {
        "id": "okL4lKJ3FLi-",
        "colab_type": "code",
        "outputId": "e6adbfaf-a7bd-4770-9781-57e8c246f51c",
        "colab": {
          "base_uri": "https://localhost:8080/",
          "height": 34
        }
      },
      "source": [
        "len(encoded_text)"
      ],
      "execution_count": 0,
      "outputs": [
        {
          "output_type": "execute_result",
          "data": {
            "text/plain": [
              "12273"
            ]
          },
          "metadata": {
            "tags": []
          },
          "execution_count": 26
        }
      ]
    },
    {
      "cell_type": "markdown",
      "metadata": {
        "id": "ZRj0H35RFtiQ",
        "colab_type": "text"
      },
      "source": [
        "# Finding Average Length of an article"
      ]
    },
    {
      "cell_type": "code",
      "metadata": {
        "id": "v9wntDufFPCp",
        "colab_type": "code",
        "outputId": "e31c9e66-f540-4dfc-f0ea-67b69fdf5b18",
        "colab": {
          "base_uri": "https://localhost:8080/",
          "height": 34
        }
      },
      "source": [
        "# We want to keep articles which have minimum 100 words and maximum 1500 words to prevent under-fitting and over-fitting\n",
        "\n",
        "min = 100\n",
        "max = 1500\n",
        "count = 0\n",
        "for e in encoded_text:\n",
        "  if(len(e) > min and len(e) < max):\n",
        "    count = count + 1\n",
        "  \n",
        "count"
      ],
      "execution_count": 0,
      "outputs": [
        {
          "output_type": "execute_result",
          "data": {
            "text/plain": [
              "9461"
            ]
          },
          "metadata": {
            "tags": []
          },
          "execution_count": 27
        }
      ]
    },
    {
      "cell_type": "code",
      "metadata": {
        "id": "310zV-bEGXbh",
        "colab_type": "code",
        "colab": {}
      },
      "source": [
        "# By trial and error it is observed that 9461 artciles out of 12773 fall between 100 and 1500 words\n",
        "# Hence, we pad sequences to length 1500 to take care of bulk of the articles"
      ],
      "execution_count": 0,
      "outputs": []
    },
    {
      "cell_type": "code",
      "metadata": {
        "id": "BUjbJWnP62z7",
        "colab_type": "code",
        "colab": {}
      },
      "source": [
        "#Max length of any text sequence in the dataset\n",
        "\n",
        "max_length = 1500\n",
        "X = pad_sequences(encoded_text, maxlen = max_length, padding = 'post')"
      ],
      "execution_count": 0,
      "outputs": []
    },
    {
      "cell_type": "code",
      "metadata": {
        "id": "rw6tDf5O67MM",
        "colab_type": "code",
        "outputId": "6268a8ab-b0a7-4de8-930e-969361e11655",
        "colab": {
          "base_uri": "https://localhost:8080/",
          "height": 136
        }
      },
      "source": [
        "print(X)"
      ],
      "execution_count": 0,
      "outputs": [
        {
          "output_type": "stream",
          "text": [
            "[[  1230    415     51 ...      0      0      0]\n",
            " [   712    173   2946 ...      0      0      0]\n",
            " [   838     17    922 ...      0      0      0]\n",
            " ...\n",
            " [  1373      7      3 ...      0      0      0]\n",
            " [171521    896    687 ...      0      0      0]\n",
            " [   896    687     15 ...      0      0      0]]\n"
          ],
          "name": "stdout"
        }
      ]
    },
    {
      "cell_type": "code",
      "metadata": {
        "id": "4T-EQ5G-7ClI",
        "colab_type": "code",
        "outputId": "07369a0d-6348-4b32-c7c6-e150d7f41805",
        "colab": {
          "base_uri": "https://localhost:8080/",
          "height": 34
        }
      },
      "source": [
        "X.shape"
      ],
      "execution_count": 0,
      "outputs": [
        {
          "output_type": "execute_result",
          "data": {
            "text/plain": [
              "(12273, 1500)"
            ]
          },
          "metadata": {
            "tags": []
          },
          "execution_count": 30
        }
      ]
    },
    {
      "cell_type": "code",
      "metadata": {
        "id": "8x0dd-UdKEqU",
        "colab_type": "code",
        "outputId": "f2258b8f-faec-468d-a359-c06d780dc2fd",
        "colab": {
          "base_uri": "https://localhost:8080/",
          "height": 34
        }
      },
      "source": [
        "X[0]"
      ],
      "execution_count": 0,
      "outputs": [
        {
          "output_type": "execute_result",
          "data": {
            "text/plain": [
              "array([1230,  415,   51, ...,    0,    0,    0], dtype=int32)"
            ]
          },
          "metadata": {
            "tags": []
          },
          "execution_count": 31
        }
      ]
    },
    {
      "cell_type": "code",
      "metadata": {
        "id": "M3-A4GmZ7JNp",
        "colab_type": "code",
        "colab": {}
      },
      "source": [
        "# Now finally we have X as cleaned, tokenized and padded X_data and y_data_final as y_data"
      ],
      "execution_count": 0,
      "outputs": []
    },
    {
      "cell_type": "code",
      "metadata": {
        "id": "hG8XcaNr0XAS",
        "colab_type": "code",
        "colab": {}
      },
      "source": [
        "# Now that we have X_data and y_data we will split them\n",
        "\n",
        "from sklearn.model_selection import train_test_split\n",
        "X_train, X_test, y_train , y_test = train_test_split(X,y_data_final, test_size = 0.2)"
      ],
      "execution_count": 0,
      "outputs": []
    },
    {
      "cell_type": "code",
      "metadata": {
        "id": "OWRrTCp5v5bX",
        "colab_type": "code",
        "colab": {}
      },
      "source": [
        "#Since the Dataset is Un-Balanced we need to apply Over-Sampling\n",
        "#We need to tokenize and pad X_train and X_test before applying smote"
      ],
      "execution_count": 0,
      "outputs": []
    },
    {
      "cell_type": "code",
      "metadata": {
        "id": "9ZAaEXxfwsS4",
        "colab_type": "code",
        "colab": {}
      },
      "source": [
        "from imblearn.over_sampling import SMOTE\n",
        "sm = SMOTE(random_state=27, ratio = 1.0)\n",
        "x_train_over, y_train_over = sm.fit_sample(X_train, y_train)"
      ],
      "execution_count": 0,
      "outputs": []
    },
    {
      "cell_type": "code",
      "metadata": {
        "id": "BLP2bEFjKV_G",
        "colab_type": "code",
        "colab": {}
      },
      "source": [
        "# Let us count classes in y_train_over\n",
        "\n",
        "count1 = 0\n",
        "count0 = 0\n",
        "for e in y_train_over:\n",
        "  if e == 1:\n",
        "    count1 = count1 + 1\n",
        "  elif e == 0:\n",
        "    count0 = count0 + 1"
      ],
      "execution_count": 0,
      "outputs": []
    },
    {
      "cell_type": "code",
      "metadata": {
        "id": "VZyVYxx_KlVZ",
        "colab_type": "code",
        "outputId": "8441648a-027d-4cfb-f487-ee4991751ad2",
        "colab": {
          "base_uri": "https://localhost:8080/",
          "height": 34
        }
      },
      "source": [
        "# Now we can see that both classes are balanced\n",
        "\n",
        "print(count0,count1)"
      ],
      "execution_count": 0,
      "outputs": [
        {
          "output_type": "stream",
          "text": [
            "9467 9467\n"
          ],
          "name": "stdout"
        }
      ]
    },
    {
      "cell_type": "code",
      "metadata": {
        "id": "KvcmGxvL7fsX",
        "colab_type": "code",
        "outputId": "8239817e-25e1-401b-b6cc-e0fed7c0b55d",
        "colab": {
          "base_uri": "https://localhost:8080/",
          "height": 34
        }
      },
      "source": [
        "y_train_over.shape"
      ],
      "execution_count": 0,
      "outputs": [
        {
          "output_type": "execute_result",
          "data": {
            "text/plain": [
              "(18934,)"
            ]
          },
          "metadata": {
            "tags": []
          },
          "execution_count": 36
        }
      ]
    },
    {
      "cell_type": "code",
      "metadata": {
        "id": "OoNcUK2u7lyK",
        "colab_type": "code",
        "colab": {}
      },
      "source": [
        "# now finally classes are balanced"
      ],
      "execution_count": 0,
      "outputs": []
    },
    {
      "cell_type": "markdown",
      "metadata": {
        "id": "_gQ86mRDtpHF",
        "colab_type": "text"
      },
      "source": [
        "Using Self-Trained Vectors\n"
      ]
    },
    {
      "cell_type": "code",
      "metadata": {
        "id": "D8ykxWpUuE3i",
        "colab_type": "code",
        "colab": {}
      },
      "source": [
        "self_vectors = dict()"
      ],
      "execution_count": 0,
      "outputs": []
    },
    {
      "cell_type": "code",
      "metadata": {
        "id": "84Vk4kxSwezR",
        "colab_type": "code",
        "colab": {}
      },
      "source": [
        "file = open('/content/drive/My Drive/w2v_model_New.txt',encoding = 'utf-8')\n",
        "\n",
        "for line in file:\n",
        "  values = line.split()\n",
        "  word = values[0]\n",
        "  vectors = np.asarray(values[1:])\n",
        "  self_vectors[word] = vectors\n",
        "file.close()"
      ],
      "execution_count": 0,
      "outputs": []
    },
    {
      "cell_type": "code",
      "metadata": {
        "id": "wMZ7ufBrxbJN",
        "colab_type": "code",
        "outputId": "97f9048f-267e-4284-eb86-21f0398890b2",
        "colab": {
          "base_uri": "https://localhost:8080/",
          "height": 34
        }
      },
      "source": [
        "#There are 73,083 words with their vectors here\n",
        "len(self_vectors.keys())"
      ],
      "execution_count": 0,
      "outputs": [
        {
          "output_type": "execute_result",
          "data": {
            "text/plain": [
              "73083"
            ]
          },
          "metadata": {
            "tags": []
          },
          "execution_count": 39
        }
      ]
    },
    {
      "cell_type": "code",
      "metadata": {
        "id": "FfwwTvNR3giV",
        "colab_type": "code",
        "colab": {}
      },
      "source": [
        "# Creating a word and correspoding vector matrix and finding out which words arent present in glove\n",
        "word_vector_matrix = np.zeros((vocab_size, 100))\n",
        "unavailable = 0\n",
        "\n",
        "for word, index in tokenizer.word_index.items():\n",
        "  vector = self_vectors.get(word)\n",
        "  if vector is not None:\n",
        "    word_vector_matrix[index] = vector\n",
        "  else:\n",
        "    unavailable = unavailable + 1\n",
        "    print(word)"
      ],
      "execution_count": 0,
      "outputs": []
    },
    {
      "cell_type": "code",
      "metadata": {
        "id": "Xjos-kgRLrvl",
        "colab_type": "code",
        "outputId": "59ebf227-ea65-43cb-9210-fce60af42589",
        "colab": {
          "base_uri": "https://localhost:8080/",
          "height": 34
        }
      },
      "source": [
        "unavailable"
      ],
      "execution_count": 0,
      "outputs": [
        {
          "output_type": "execute_result",
          "data": {
            "text/plain": [
              "106599"
            ]
          },
          "metadata": {
            "tags": []
          },
          "execution_count": 44
        }
      ]
    },
    {
      "cell_type": "code",
      "metadata": {
        "id": "0qf-UD78L9lO",
        "colab_type": "code",
        "colab": {}
      },
      "source": [
        "# Out of 171,533 words , 106,599 are unavailable in self because we used word2vec model with min_freq 2\n",
        "# This problem can be removed by using customised word2vec modelling using all these words"
      ],
      "execution_count": 0,
      "outputs": []
    },
    {
      "cell_type": "code",
      "metadata": {
        "id": "tBOMaUZNykWa",
        "colab_type": "code",
        "colab": {}
      },
      "source": [
        "#Now we will search for vectors of words in our dataset and build model"
      ],
      "execution_count": 0,
      "outputs": []
    },
    {
      "cell_type": "code",
      "metadata": {
        "id": "CwYUn_nA4mvv",
        "colab_type": "code",
        "outputId": "0ad29422-3b5e-47c3-9d9f-851edfb74980",
        "colab": {
          "base_uri": "https://localhost:8080/",
          "height": 136
        }
      },
      "source": [
        "X"
      ],
      "execution_count": 0,
      "outputs": [
        {
          "output_type": "execute_result",
          "data": {
            "text/plain": [
              "array([[  1230,    415,     51, ...,      0,      0,      0],\n",
              "       [   712,    173,   2946, ...,      0,      0,      0],\n",
              "       [   838,     17,    922, ...,      0,      0,      0],\n",
              "       ...,\n",
              "       [  1373,      7,      3, ...,      0,      0,      0],\n",
              "       [171521,    896,    687, ...,      0,      0,      0],\n",
              "       [   896,    687,     15, ...,      0,      0,      0]], dtype=int32)"
            ]
          },
          "metadata": {
            "tags": []
          },
          "execution_count": 45
        }
      ]
    },
    {
      "cell_type": "code",
      "metadata": {
        "id": "4mfzkK8G40lO",
        "colab_type": "code",
        "colab": {}
      },
      "source": [
        "vec_size = 100\n",
        "max_length = 1500\n",
        "#The glove vectors are represented in 25 dimension"
      ],
      "execution_count": 0,
      "outputs": []
    },
    {
      "cell_type": "code",
      "metadata": {
        "id": "ZOgohPQvGPNg",
        "colab_type": "code",
        "colab": {}
      },
      "source": [
        "import tensorflow as tf"
      ],
      "execution_count": 0,
      "outputs": []
    },
    {
      "cell_type": "code",
      "metadata": {
        "id": "Oy_UJ23DVPHu",
        "colab_type": "code",
        "outputId": "55d82307-cf94-427a-f608-be730283f6b3",
        "colab": {
          "base_uri": "https://localhost:8080/",
          "height": 629
        }
      },
      "source": [
        "#Let's make a keras model\n",
        "\n",
        "model = tf.keras.Sequential()\n",
        "#Now we will add embedding layer telling how many words are there and which weights to use(the trained ones)\n",
        "model.add(Embedding(vocab_size, vec_size, input_length = max_length, weights = [word_vector_matrix], trainable = False))\n",
        "\n",
        "model.add(Conv1D(128, 8 ,activation = 'relu'))\n",
        "model.add(MaxPooling1D(2))\n",
        "model.add(Dropout(0.3))\n",
        "\n",
        "model.add(Conv1D(64, 4, activation = 'relu'))\n",
        "model.add(MaxPooling1D(2))\n",
        "model.add(Dropout(0.2))\n",
        "\n",
        "model.add(Conv1D(32, 2, activation = 'relu'))\n",
        "model.add(MaxPooling1D(2))\n",
        "model.add(Dropout(0.1))\n",
        "\n",
        "model.add(Flatten())\n",
        "model.add(Dense(16, activation = 'relu' ))\n",
        "model.add(Dense(8,activation = 'relu'))\n",
        "model.add(Dense(1, activation = 'sigmoid'))\n",
        "\n",
        "model.summary()\n"
      ],
      "execution_count": 0,
      "outputs": [
        {
          "output_type": "stream",
          "text": [
            "Model: \"sequential\"\n",
            "_________________________________________________________________\n",
            "Layer (type)                 Output Shape              Param #   \n",
            "=================================================================\n",
            "embedding (Embedding)        (None, 1500, 100)         17153300  \n",
            "_________________________________________________________________\n",
            "conv1d (Conv1D)              (None, 1493, 128)         102528    \n",
            "_________________________________________________________________\n",
            "max_pooling1d (MaxPooling1D) (None, 746, 128)          0         \n",
            "_________________________________________________________________\n",
            "dropout (Dropout)            (None, 746, 128)          0         \n",
            "_________________________________________________________________\n",
            "conv1d_1 (Conv1D)            (None, 743, 64)           32832     \n",
            "_________________________________________________________________\n",
            "max_pooling1d_1 (MaxPooling1 (None, 371, 64)           0         \n",
            "_________________________________________________________________\n",
            "dropout_1 (Dropout)          (None, 371, 64)           0         \n",
            "_________________________________________________________________\n",
            "conv1d_2 (Conv1D)            (None, 370, 32)           4128      \n",
            "_________________________________________________________________\n",
            "max_pooling1d_2 (MaxPooling1 (None, 185, 32)           0         \n",
            "_________________________________________________________________\n",
            "dropout_2 (Dropout)          (None, 185, 32)           0         \n",
            "_________________________________________________________________\n",
            "flatten (Flatten)            (None, 5920)              0         \n",
            "_________________________________________________________________\n",
            "dense (Dense)                (None, 16)                94736     \n",
            "_________________________________________________________________\n",
            "dense_1 (Dense)              (None, 8)                 136       \n",
            "_________________________________________________________________\n",
            "dense_2 (Dense)              (None, 1)                 9         \n",
            "=================================================================\n",
            "Total params: 17,387,669\n",
            "Trainable params: 234,369\n",
            "Non-trainable params: 17,153,300\n",
            "_________________________________________________________________\n"
          ],
          "name": "stdout"
        }
      ]
    },
    {
      "cell_type": "code",
      "metadata": {
        "id": "zGyU-0XkXt1W",
        "colab_type": "code",
        "colab": {}
      },
      "source": [
        "model.compile(optimizer = 'adam', loss = 'binary_crossentropy', metrics = ['accuracy'])"
      ],
      "execution_count": 0,
      "outputs": []
    },
    {
      "cell_type": "code",
      "metadata": {
        "id": "S_CKy6F2XaiT",
        "colab_type": "code",
        "colab": {}
      },
      "source": [
        "# Adam Optimizer was used for Experiment\n",
        "adam = tf.keras.optimizers.Adadelta(learning_rate=0.001, rho=0.95)"
      ],
      "execution_count": 0,
      "outputs": []
    },
    {
      "cell_type": "code",
      "metadata": {
        "id": "D8MoeoaNM_vm",
        "colab_type": "code",
        "colab": {}
      },
      "source": [
        "X_train = np.array(X_train)\n",
        "X_test = np.array(X_test)\n",
        "y_train = np.array(y_train)\n",
        "y_test = np.array(y_test)"
      ],
      "execution_count": 0,
      "outputs": []
    },
    {
      "cell_type": "code",
      "metadata": {
        "id": "cANRWPgmBEMt",
        "colab_type": "code",
        "outputId": "7550b93a-dc66-4525-9021-49fc9458d002",
        "colab": {
          "base_uri": "https://localhost:8080/",
          "height": 717
        }
      },
      "source": [
        "#Training the Model\n",
        "epochs = 20\n",
        "batch_size = 15\n",
        "\n",
        "history = model.fit(X_train, y_train, epochs=epochs, batch_size=batch_size,validation_split = 0.2)"
      ],
      "execution_count": 0,
      "outputs": [
        {
          "output_type": "stream",
          "text": [
            "Epoch 1/20\n",
            "655/655 [==============================] - 13s 20ms/step - loss: 0.1743 - accuracy: 0.9642 - val_loss: 0.1882 - val_accuracy: 0.9568\n",
            "Epoch 2/20\n",
            "655/655 [==============================] - 13s 20ms/step - loss: 0.1703 - accuracy: 0.9642 - val_loss: 0.1915 - val_accuracy: 0.9568\n",
            "Epoch 3/20\n",
            "655/655 [==============================] - 13s 20ms/step - loss: 0.1543 - accuracy: 0.9642 - val_loss: 0.1816 - val_accuracy: 0.9568\n",
            "Epoch 4/20\n",
            "655/655 [==============================] - 13s 20ms/step - loss: 0.1461 - accuracy: 0.9642 - val_loss: 0.1707 - val_accuracy: 0.9568\n",
            "Epoch 5/20\n",
            "655/655 [==============================] - 13s 20ms/step - loss: 0.1315 - accuracy: 0.9642 - val_loss: 0.1706 - val_accuracy: 0.9568\n",
            "Epoch 6/20\n",
            "655/655 [==============================] - 13s 20ms/step - loss: 0.1142 - accuracy: 0.9645 - val_loss: 0.1647 - val_accuracy: 0.9568\n",
            "Epoch 7/20\n",
            "655/655 [==============================] - 13s 20ms/step - loss: 0.0980 - accuracy: 0.9680 - val_loss: 0.1843 - val_accuracy: 0.9564\n",
            "Epoch 8/20\n",
            "655/655 [==============================] - 13s 20ms/step - loss: 0.0784 - accuracy: 0.9744 - val_loss: 0.1886 - val_accuracy: 0.9548\n",
            "Epoch 9/20\n",
            "655/655 [==============================] - 13s 20ms/step - loss: 0.0627 - accuracy: 0.9774 - val_loss: 0.2629 - val_accuracy: 0.9572\n",
            "Epoch 10/20\n",
            "655/655 [==============================] - 13s 20ms/step - loss: 0.0531 - accuracy: 0.9824 - val_loss: 0.2404 - val_accuracy: 0.9548\n",
            "Epoch 11/20\n",
            "655/655 [==============================] - 13s 20ms/step - loss: 0.0450 - accuracy: 0.9845 - val_loss: 0.2485 - val_accuracy: 0.9532\n",
            "Epoch 12/20\n",
            "655/655 [==============================] - 13s 20ms/step - loss: 0.0382 - accuracy: 0.9862 - val_loss: 0.2953 - val_accuracy: 0.9556\n",
            "Epoch 13/20\n",
            "655/655 [==============================] - 13s 20ms/step - loss: 0.0357 - accuracy: 0.9873 - val_loss: 0.3188 - val_accuracy: 0.9568\n",
            "Epoch 14/20\n",
            "655/655 [==============================] - 13s 20ms/step - loss: 0.0329 - accuracy: 0.9885 - val_loss: 0.2934 - val_accuracy: 0.9527\n",
            "Epoch 15/20\n",
            "655/655 [==============================] - 13s 20ms/step - loss: 0.0330 - accuracy: 0.9874 - val_loss: 0.3251 - val_accuracy: 0.9487\n",
            "Epoch 16/20\n",
            "655/655 [==============================] - 13s 20ms/step - loss: 0.0243 - accuracy: 0.9910 - val_loss: 0.3609 - val_accuracy: 0.9572\n",
            "Epoch 17/20\n",
            "655/655 [==============================] - 13s 20ms/step - loss: 0.0232 - accuracy: 0.9934 - val_loss: 0.3884 - val_accuracy: 0.9544\n",
            "Epoch 18/20\n",
            "655/655 [==============================] - 13s 20ms/step - loss: 0.0232 - accuracy: 0.9912 - val_loss: 0.4626 - val_accuracy: 0.9426\n",
            "Epoch 19/20\n",
            "655/655 [==============================] - 13s 20ms/step - loss: 0.0237 - accuracy: 0.9909 - val_loss: 0.3899 - val_accuracy: 0.9523\n",
            "Epoch 20/20\n",
            "655/655 [==============================] - 13s 20ms/step - loss: 0.0277 - accuracy: 0.9907 - val_loss: 0.3616 - val_accuracy: 0.9536\n"
          ],
          "name": "stdout"
        }
      ]
    },
    {
      "cell_type": "code",
      "metadata": {
        "id": "rVbeHgGiHt2C",
        "colab_type": "code",
        "outputId": "a55b4a89-a318-4797-9857-d5d0c5ba8d96",
        "colab": {
          "base_uri": "https://localhost:8080/",
          "height": 545
        }
      },
      "source": [
        "acc = history.history['accuracy']\n",
        "val_acc = history.history['val_accuracy']\n",
        "loss = history.history['loss']\n",
        "val_loss = history.history['val_loss']\n",
        "\n",
        "epochs = range(len(acc))\n",
        "\n",
        "plt.plot(epochs, acc, 'r', label='Training accuracy')\n",
        "plt.plot(epochs, val_acc, 'b', label='Validation accuracy')\n",
        "plt.title('Training and validation accuracy')\n",
        "\n",
        "plt.figure()\n",
        "\n",
        "plt.plot(epochs, loss, 'r', label='Training Loss')\n",
        "plt.plot(epochs, val_loss, 'b', label='Validation Loss')\n",
        "plt.title('Training and validation loss')\n",
        "plt.legend()\n",
        "\n",
        "plt.show()"
      ],
      "execution_count": 0,
      "outputs": [
        {
          "output_type": "display_data",
          "data": {
            "image/png": "[encoded data removed]",
            "text/plain": [
              "<Figure size 432x288 with 1 Axes>"
            ]
          },
          "metadata": {
            "tags": [],
            "needs_background": "light"
          }
        },
        {
          "output_type": "display_data",
          "data": {
            "image/png": "[encoded data removed]",
            "text/plain": [
              "<Figure size 432x288 with 1 Axes>"
            ]
          },
          "metadata": {
            "tags": [],
            "needs_background": "light"
          }
        }
      ]
    },
    {
      "cell_type": "code",
      "metadata": {
        "id": "SD-8xnQMRhhQ",
        "colab_type": "code",
        "colab": {}
      },
      "source": [
        "y_pred = model.predict(X_test)"
      ],
      "execution_count": 0,
      "outputs": []
    },
    {
      "cell_type": "code",
      "metadata": {
        "id": "A_YWVJlAR1pU",
        "colab_type": "code",
        "outputId": "b9f24600-5bb9-40a6-a958-14d1dc05d13d",
        "colab": {
          "base_uri": "https://localhost:8080/",
          "height": 34
        }
      },
      "source": [
        "y_pred.shape"
      ],
      "execution_count": 0,
      "outputs": [
        {
          "output_type": "execute_result",
          "data": {
            "text/plain": [
              "(2455, 1)"
            ]
          },
          "metadata": {
            "tags": []
          },
          "execution_count": 56
        }
      ]
    },
    {
      "cell_type": "code",
      "metadata": {
        "id": "wD4EH05kR-Dn",
        "colab_type": "code",
        "outputId": "35f9bb01-18f3-43e7-de04-c206bd63f3bc",
        "colab": {
          "base_uri": "https://localhost:8080/",
          "height": 34
        }
      },
      "source": [
        "# Creating a bias for final prediction\n",
        "\n",
        "y_predfinal = []\n",
        "for e in y_pred:\n",
        "  if e > 0.2:\n",
        "    y_predfinal.append(1)\n",
        "  else:\n",
        "    y_predfinal.append(0)\n",
        "  \n",
        "y_predfinal = np.array(y_predfinal)\n",
        "y_predfinal.shape"
      ],
      "execution_count": 0,
      "outputs": [
        {
          "output_type": "execute_result",
          "data": {
            "text/plain": [
              "(2455,)"
            ]
          },
          "metadata": {
            "tags": []
          },
          "execution_count": 57
        }
      ]
    },
    {
      "cell_type": "code",
      "metadata": {
        "id": "wNnnRNRpR4Ut",
        "colab_type": "code",
        "outputId": "7846ec92-8865-4dce-8ca5-b77936da977a",
        "colab": {
          "base_uri": "https://localhost:8080/",
          "height": 34
        }
      },
      "source": [
        "y_test.shape"
      ],
      "execution_count": 0,
      "outputs": [
        {
          "output_type": "execute_result",
          "data": {
            "text/plain": [
              "(2455,)"
            ]
          },
          "metadata": {
            "tags": []
          },
          "execution_count": 58
        }
      ]
    },
    {
      "cell_type": "code",
      "metadata": {
        "id": "Yqro_ptuRqVY",
        "colab_type": "code",
        "outputId": "7c21df4c-6451-4f2a-d02b-3d859c5a5c45",
        "colab": {
          "base_uri": "https://localhost:8080/",
          "height": 51
        }
      },
      "source": [
        "# Out of 2387 Real News Articles, 2301 are detected Correctly\n",
        "# Out of 68 Fake News Articles, 20 are detected Correctly\n",
        "\n",
        "from sklearn.metrics import confusion_matrix,classification_report\n",
        "confusion_matrix(y_test,y_predfinal)"
      ],
      "execution_count": 0,
      "outputs": [
        {
          "output_type": "execute_result",
          "data": {
            "text/plain": [
              "array([[2301,   48],\n",
              "       [  86,   20]])"
            ]
          },
          "metadata": {
            "tags": []
          },
          "execution_count": 61
        }
      ]
    },
    {
      "cell_type": "code",
      "metadata": {
        "id": "-cVMFEd8POHA",
        "colab_type": "code",
        "outputId": "1a4646d2-bdb3-4fbc-94c7-148421bf4bce",
        "colab": {
          "base_uri": "https://localhost:8080/",
          "height": 170
        }
      },
      "source": [
        "print(classification_report(y_test,y_predfinal))"
      ],
      "execution_count": 0,
      "outputs": [
        {
          "output_type": "stream",
          "text": [
            "              precision    recall  f1-score   support\n",
            "\n",
            "           0       0.96      0.98      0.97      2349\n",
            "           1       0.29      0.19      0.23       106\n",
            "\n",
            "    accuracy                           0.95      2455\n",
            "   macro avg       0.63      0.58      0.60      2455\n",
            "weighted avg       0.94      0.95      0.94      2455\n",
            "\n"
          ],
          "name": "stdout"
        }
      ]
    },
    {
      "cell_type": "code",
      "metadata": {
        "id": "t_tyN6okP03N",
        "colab_type": "code",
        "outputId": "c8548fa3-8995-4bf8-d73a-6625d44f1960",
        "colab": {
          "base_uri": "https://localhost:8080/",
          "height": 34
        }
      },
      "source": [
        "# Saving Model\n",
        "# serialize model to JSON\n",
        "model_json = model.to_json()\n",
        "with open(\"model.json\", \"w\") as json_file:\n",
        "    json_file.write(model_json)\n",
        "# serialize weights to HDF5\n",
        "model.save_weights(\"model.h5\")\n",
        "print(\"Saved model to disk\")"
      ],
      "execution_count": 0,
      "outputs": [
        {
          "output_type": "stream",
          "text": [
            "Saved model to disk\n"
          ],
          "name": "stdout"
        }
      ]
    }
  ]
}