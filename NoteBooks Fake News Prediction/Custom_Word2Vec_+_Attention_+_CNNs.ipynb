{
  "nbformat": 4,
  "nbformat_minor": 0,
  "metadata": {
    "colab": {
      "name": "Custom Word2Vec + Attention + CNNs.ipynb",
      "provenance": [],
      "collapsed_sections": [],
      "toc_visible": true,
      "machine_shape": "hm"
    },
    "kernelspec": {
      "name": "python3",
      "display_name": "Python 3"
    },
    "accelerator": "GPU"
  },
  "cells": [
    {
      "cell_type": "code",
      "metadata": {
        "id": "7sNTwoYCjT1p",
        "colab_type": "code",
        "outputId": "d17dba23-c062-4623-d537-c1a4fa38fdbf",
        "colab": {
          "base_uri": "https://localhost:8080/",
          "height": 34
        }
      },
      "source": [
        "import tensorflow as tf\n",
        "print(tf.__version__)"
      ],
      "execution_count": 0,
      "outputs": [
        {
          "output_type": "stream",
          "text": [
            "2.2.0\n"
          ],
          "name": "stdout"
        }
      ]
    },
    {
      "cell_type": "code",
      "metadata": {
        "id": "4fp9Qg0PqIRA",
        "colab_type": "code",
        "colab": {}
      },
      "source": [
        "from tensorflow.keras.preprocessing.text import Tokenizer #Tokenize words to numerical format\n",
        "from tensorflow.keras.preprocessing.sequence import pad_sequences #Every word must have same length for matrix representation\n",
        "from tensorflow.keras.models import Sequential\n",
        "from tensorflow.keras.layers import Dense,Flatten,Embedding,Activation, Dropout\n",
        "from tensorflow.keras.layers import Conv1D, MaxPooling1D, GlobalMaxPooling1D"
      ],
      "execution_count": 0,
      "outputs": []
    },
    {
      "cell_type": "code",
      "metadata": {
        "id": "zag9ZXlCrMX9",
        "colab_type": "code",
        "colab": {}
      },
      "source": [
        "import numpy as np\n",
        "import pandas as pd\n",
        "from numpy import array\n",
        "from sklearn.model_selection import train_test_split"
      ],
      "execution_count": 0,
      "outputs": []
    },
    {
      "cell_type": "markdown",
      "metadata": {
        "id": "d08vbSkExcn5",
        "colab_type": "text"
      },
      "source": [
        "# Exploratory Data Analysis"
      ]
    },
    {
      "cell_type": "code",
      "metadata": {
        "id": "1uNcgQEsrZBv",
        "colab_type": "code",
        "outputId": "a5131e04-fa90-4bf5-ca91-30ce5d859b9b",
        "colab": {
          "base_uri": "https://localhost:8080/",
          "height": 34
        }
      },
      "source": [
        "# Loading the Data\n",
        "\n",
        "data = pd.read_csv('/content/drive/My Drive/fake.csv')\n",
        "data.shape"
      ],
      "execution_count": 0,
      "outputs": [
        {
          "output_type": "execute_result",
          "data": {
            "text/plain": [
              "(12999, 20)"
            ]
          },
          "metadata": {
            "tags": []
          },
          "execution_count": 40
        }
      ]
    },
    {
      "cell_type": "code",
      "metadata": {
        "id": "jI4H7z70tmLD",
        "colab_type": "code",
        "outputId": "b9a9207b-cc71-4cad-b461-b78b5fa9735d",
        "colab": {
          "base_uri": "https://localhost:8080/",
          "height": 598
        }
      },
      "source": [
        "data.head(5)"
      ],
      "execution_count": 0,
      "outputs": [
        {
          "output_type": "execute_result",
          "data": {
            "text/html": [
              "<div>\n",
              "<style scoped>\n",
              "    .dataframe tbody tr th:only-of-type {\n",
              "        vertical-align: middle;\n",
              "    }\n",
              "\n",
              "    .dataframe tbody tr th {\n",
              "        vertical-align: top;\n",
              "    }\n",
              "\n",
              "    .dataframe thead th {\n",
              "        text-align: right;\n",
              "    }\n",
              "</style>\n",
              "<table border=\"1\" class=\"dataframe\">\n",
              "  <thead>\n",
              "    <tr style=\"text-align: right;\">\n",
              "      <th></th>\n",
              "      <th>uuid</th>\n",
              "      <th>ord_in_thread</th>\n",
              "      <th>author</th>\n",
              "      <th>published</th>\n",
              "      <th>title</th>\n",
              "      <th>text</th>\n",
              "      <th>language</th>\n",
              "      <th>crawled</th>\n",
              "      <th>site_url</th>\n",
              "      <th>country</th>\n",
              "      <th>domain_rank</th>\n",
              "      <th>thread_title</th>\n",
              "      <th>spam_score</th>\n",
              "      <th>main_img_url</th>\n",
              "      <th>replies_count</th>\n",
              "      <th>participants_count</th>\n",
              "      <th>likes</th>\n",
              "      <th>comments</th>\n",
              "      <th>shares</th>\n",
              "      <th>type</th>\n",
              "    </tr>\n",
              "  </thead>\n",
              "  <tbody>\n",
              "    <tr>\n",
              "      <th>0</th>\n",
              "      <td>6a175f46bcd24d39b3e962ad0f29936721db70db</td>\n",
              "      <td>0</td>\n",
              "      <td>Barracuda Brigade</td>\n",
              "      <td>2016-10-26T21:41:00.000+03:00</td>\n",
              "      <td>Muslims BUSTED: They Stole Millions In Gov’t B...</td>\n",
              "      <td>Print They should pay all the back all the mon...</td>\n",
              "      <td>english</td>\n",
              "      <td>2016-10-27T01:49:27.168+03:00</td>\n",
              "      <td>100percentfedup.com</td>\n",
              "      <td>US</td>\n",
              "      <td>25689.0</td>\n",
              "      <td>Muslims BUSTED: They Stole Millions In Gov’t B...</td>\n",
              "      <td>0.000</td>\n",
              "      <td>http://bb4sp.com/wp-content/uploads/2016/10/Fu...</td>\n",
              "      <td>0</td>\n",
              "      <td>1</td>\n",
              "      <td>0</td>\n",
              "      <td>0</td>\n",
              "      <td>0</td>\n",
              "      <td>bias</td>\n",
              "    </tr>\n",
              "    <tr>\n",
              "      <th>1</th>\n",
              "      <td>2bdc29d12605ef9cf3f09f9875040a7113be5d5b</td>\n",
              "      <td>0</td>\n",
              "      <td>reasoning with facts</td>\n",
              "      <td>2016-10-29T08:47:11.259+03:00</td>\n",
              "      <td>Re: Why Did Attorney General Loretta Lynch Ple...</td>\n",
              "      <td>Why Did Attorney General Loretta Lynch Plead T...</td>\n",
              "      <td>english</td>\n",
              "      <td>2016-10-29T08:47:11.259+03:00</td>\n",
              "      <td>100percentfedup.com</td>\n",
              "      <td>US</td>\n",
              "      <td>25689.0</td>\n",
              "      <td>Re: Why Did Attorney General Loretta Lynch Ple...</td>\n",
              "      <td>0.000</td>\n",
              "      <td>http://bb4sp.com/wp-content/uploads/2016/10/Fu...</td>\n",
              "      <td>0</td>\n",
              "      <td>1</td>\n",
              "      <td>0</td>\n",
              "      <td>0</td>\n",
              "      <td>0</td>\n",
              "      <td>bias</td>\n",
              "    </tr>\n",
              "    <tr>\n",
              "      <th>2</th>\n",
              "      <td>c70e149fdd53de5e61c29281100b9de0ed268bc3</td>\n",
              "      <td>0</td>\n",
              "      <td>Barracuda Brigade</td>\n",
              "      <td>2016-10-31T01:41:49.479+02:00</td>\n",
              "      <td>BREAKING: Weiner Cooperating With FBI On Hilla...</td>\n",
              "      <td>Red State : \\nFox News Sunday reported this mo...</td>\n",
              "      <td>english</td>\n",
              "      <td>2016-10-31T01:41:49.479+02:00</td>\n",
              "      <td>100percentfedup.com</td>\n",
              "      <td>US</td>\n",
              "      <td>25689.0</td>\n",
              "      <td>BREAKING: Weiner Cooperating With FBI On Hilla...</td>\n",
              "      <td>0.000</td>\n",
              "      <td>http://bb4sp.com/wp-content/uploads/2016/10/Fu...</td>\n",
              "      <td>0</td>\n",
              "      <td>1</td>\n",
              "      <td>0</td>\n",
              "      <td>0</td>\n",
              "      <td>0</td>\n",
              "      <td>bias</td>\n",
              "    </tr>\n",
              "    <tr>\n",
              "      <th>3</th>\n",
              "      <td>7cf7c15731ac2a116dd7f629bd57ea468ed70284</td>\n",
              "      <td>0</td>\n",
              "      <td>Fed Up</td>\n",
              "      <td>2016-11-01T05:22:00.000+02:00</td>\n",
              "      <td>PIN DROP SPEECH BY FATHER OF DAUGHTER Kidnappe...</td>\n",
              "      <td>Email Kayla Mueller was a prisoner and torture...</td>\n",
              "      <td>english</td>\n",
              "      <td>2016-11-01T15:46:26.304+02:00</td>\n",
              "      <td>100percentfedup.com</td>\n",
              "      <td>US</td>\n",
              "      <td>25689.0</td>\n",
              "      <td>PIN DROP SPEECH BY FATHER OF DAUGHTER Kidnappe...</td>\n",
              "      <td>0.068</td>\n",
              "      <td>http://100percentfedup.com/wp-content/uploads/...</td>\n",
              "      <td>0</td>\n",
              "      <td>0</td>\n",
              "      <td>0</td>\n",
              "      <td>0</td>\n",
              "      <td>0</td>\n",
              "      <td>bias</td>\n",
              "    </tr>\n",
              "    <tr>\n",
              "      <th>4</th>\n",
              "      <td>0206b54719c7e241ffe0ad4315b808290dbe6c0f</td>\n",
              "      <td>0</td>\n",
              "      <td>Fed Up</td>\n",
              "      <td>2016-11-01T21:56:00.000+02:00</td>\n",
              "      <td>FANTASTIC! TRUMP'S 7 POINT PLAN To Reform Heal...</td>\n",
              "      <td>Email HEALTHCARE REFORM TO MAKE AMERICA GREAT ...</td>\n",
              "      <td>english</td>\n",
              "      <td>2016-11-01T23:59:42.266+02:00</td>\n",
              "      <td>100percentfedup.com</td>\n",
              "      <td>US</td>\n",
              "      <td>25689.0</td>\n",
              "      <td>FANTASTIC! TRUMP'S 7 POINT PLAN To Reform Heal...</td>\n",
              "      <td>0.865</td>\n",
              "      <td>http://100percentfedup.com/wp-content/uploads/...</td>\n",
              "      <td>0</td>\n",
              "      <td>0</td>\n",
              "      <td>0</td>\n",
              "      <td>0</td>\n",
              "      <td>0</td>\n",
              "      <td>bias</td>\n",
              "    </tr>\n",
              "  </tbody>\n",
              "</table>\n",
              "</div>"
            ],
            "text/plain": [
              "                                       uuid  ord_in_thread  ... shares  type\n",
              "0  6a175f46bcd24d39b3e962ad0f29936721db70db              0  ...      0  bias\n",
              "1  2bdc29d12605ef9cf3f09f9875040a7113be5d5b              0  ...      0  bias\n",
              "2  c70e149fdd53de5e61c29281100b9de0ed268bc3              0  ...      0  bias\n",
              "3  7cf7c15731ac2a116dd7f629bd57ea468ed70284              0  ...      0  bias\n",
              "4  0206b54719c7e241ffe0ad4315b808290dbe6c0f              0  ...      0  bias\n",
              "\n",
              "[5 rows x 20 columns]"
            ]
          },
          "metadata": {
            "tags": []
          },
          "execution_count": 41
        }
      ]
    },
    {
      "cell_type": "code",
      "metadata": {
        "id": "4Ixy4Aaztsx9",
        "colab_type": "code",
        "outputId": "a9ab2bc1-809c-4244-cf16-acfb066df83f",
        "colab": {
          "base_uri": "https://localhost:8080/",
          "height": 564
        }
      },
      "source": [
        "data.tail(5)"
      ],
      "execution_count": 0,
      "outputs": [
        {
          "output_type": "execute_result",
          "data": {
            "text/html": [
              "<div>\n",
              "<style scoped>\n",
              "    .dataframe tbody tr th:only-of-type {\n",
              "        vertical-align: middle;\n",
              "    }\n",
              "\n",
              "    .dataframe tbody tr th {\n",
              "        vertical-align: top;\n",
              "    }\n",
              "\n",
              "    .dataframe thead th {\n",
              "        text-align: right;\n",
              "    }\n",
              "</style>\n",
              "<table border=\"1\" class=\"dataframe\">\n",
              "  <thead>\n",
              "    <tr style=\"text-align: right;\">\n",
              "      <th></th>\n",
              "      <th>uuid</th>\n",
              "      <th>ord_in_thread</th>\n",
              "      <th>author</th>\n",
              "      <th>published</th>\n",
              "      <th>title</th>\n",
              "      <th>text</th>\n",
              "      <th>language</th>\n",
              "      <th>crawled</th>\n",
              "      <th>site_url</th>\n",
              "      <th>country</th>\n",
              "      <th>domain_rank</th>\n",
              "      <th>thread_title</th>\n",
              "      <th>spam_score</th>\n",
              "      <th>main_img_url</th>\n",
              "      <th>replies_count</th>\n",
              "      <th>participants_count</th>\n",
              "      <th>likes</th>\n",
              "      <th>comments</th>\n",
              "      <th>shares</th>\n",
              "      <th>type</th>\n",
              "    </tr>\n",
              "  </thead>\n",
              "  <tbody>\n",
              "    <tr>\n",
              "      <th>12994</th>\n",
              "      <td>f1b5d0e44803f48732bde854a9fdf95837219b12</td>\n",
              "      <td>2</td>\n",
              "      <td>replaceme</td>\n",
              "      <td>2016-10-26T23:58:00.000+03:00</td>\n",
              "      <td>NaN</td>\n",
              "      <td>It DOES allow you to put a dog face on top of ...</td>\n",
              "      <td>english</td>\n",
              "      <td>2016-10-27T00:37:46.194+03:00</td>\n",
              "      <td>zerohedge.com</td>\n",
              "      <td>US</td>\n",
              "      <td>2435.0</td>\n",
              "      <td>Snapchat To Raise Up To $4 Billion In IPO, Val...</td>\n",
              "      <td>0.0</td>\n",
              "      <td>NaN</td>\n",
              "      <td>40</td>\n",
              "      <td>32</td>\n",
              "      <td>0</td>\n",
              "      <td>0</td>\n",
              "      <td>0</td>\n",
              "      <td>bs</td>\n",
              "    </tr>\n",
              "    <tr>\n",
              "      <th>12995</th>\n",
              "      <td>36011ceba3647e1bea78299b68b6fb705a1fc1ad</td>\n",
              "      <td>3</td>\n",
              "      <td>Freedumb</td>\n",
              "      <td>2016-10-27T00:02:00.000+03:00</td>\n",
              "      <td>NaN</td>\n",
              "      <td>Wait till you see what happens to the valuatio...</td>\n",
              "      <td>english</td>\n",
              "      <td>2016-10-27T00:37:46.220+03:00</td>\n",
              "      <td>zerohedge.com</td>\n",
              "      <td>US</td>\n",
              "      <td>2435.0</td>\n",
              "      <td>Snapchat To Raise Up To $4 Billion In IPO, Val...</td>\n",
              "      <td>0.0</td>\n",
              "      <td>NaN</td>\n",
              "      <td>40</td>\n",
              "      <td>32</td>\n",
              "      <td>0</td>\n",
              "      <td>0</td>\n",
              "      <td>0</td>\n",
              "      <td>bs</td>\n",
              "    </tr>\n",
              "    <tr>\n",
              "      <th>12996</th>\n",
              "      <td>6995d1aa9ac99926106489b14b5530e85358059a</td>\n",
              "      <td>4</td>\n",
              "      <td>major major maj...</td>\n",
              "      <td>2016-10-27T00:06:00.000+03:00</td>\n",
              "      <td>NaN</td>\n",
              "      <td>I'm waiting for the one that puts a pussy on m...</td>\n",
              "      <td>english</td>\n",
              "      <td>2016-10-27T00:37:46.244+03:00</td>\n",
              "      <td>zerohedge.com</td>\n",
              "      <td>US</td>\n",
              "      <td>2435.0</td>\n",
              "      <td>Snapchat To Raise Up To $4 Billion In IPO, Val...</td>\n",
              "      <td>0.0</td>\n",
              "      <td>NaN</td>\n",
              "      <td>40</td>\n",
              "      <td>32</td>\n",
              "      <td>0</td>\n",
              "      <td>0</td>\n",
              "      <td>0</td>\n",
              "      <td>bs</td>\n",
              "    </tr>\n",
              "    <tr>\n",
              "      <th>12997</th>\n",
              "      <td>7de8ae90eee164eb756db6c8a3772288e11d7a94</td>\n",
              "      <td>5</td>\n",
              "      <td>beemasters</td>\n",
              "      <td>2016-10-27T00:09:00.000+03:00</td>\n",
              "      <td>NaN</td>\n",
              "      <td>$4 Billion even after they are known to be kee...</td>\n",
              "      <td>english</td>\n",
              "      <td>2016-10-27T00:37:46.247+03:00</td>\n",
              "      <td>zerohedge.com</td>\n",
              "      <td>US</td>\n",
              "      <td>2435.0</td>\n",
              "      <td>Snapchat To Raise Up To $4 Billion In IPO, Val...</td>\n",
              "      <td>0.0</td>\n",
              "      <td>NaN</td>\n",
              "      <td>40</td>\n",
              "      <td>32</td>\n",
              "      <td>0</td>\n",
              "      <td>0</td>\n",
              "      <td>0</td>\n",
              "      <td>bs</td>\n",
              "    </tr>\n",
              "    <tr>\n",
              "      <th>12998</th>\n",
              "      <td>dabef7095b7d9dae6eb0d83c4cbb40b85efd7ae5</td>\n",
              "      <td>6</td>\n",
              "      <td>i&amp;#039;m-confused</td>\n",
              "      <td>2016-10-27T00:09:00.000+03:00</td>\n",
              "      <td>NaN</td>\n",
              "      <td>of course - how else would they disceminate te...</td>\n",
              "      <td>english</td>\n",
              "      <td>2016-10-27T00:37:46.260+03:00</td>\n",
              "      <td>zerohedge.com</td>\n",
              "      <td>US</td>\n",
              "      <td>2435.0</td>\n",
              "      <td>Snapchat To Raise Up To $4 Billion In IPO, Val...</td>\n",
              "      <td>0.0</td>\n",
              "      <td>NaN</td>\n",
              "      <td>40</td>\n",
              "      <td>32</td>\n",
              "      <td>0</td>\n",
              "      <td>0</td>\n",
              "      <td>0</td>\n",
              "      <td>bs</td>\n",
              "    </tr>\n",
              "  </tbody>\n",
              "</table>\n",
              "</div>"
            ],
            "text/plain": [
              "                                           uuid  ord_in_thread  ... shares type\n",
              "12994  f1b5d0e44803f48732bde854a9fdf95837219b12              2  ...      0   bs\n",
              "12995  36011ceba3647e1bea78299b68b6fb705a1fc1ad              3  ...      0   bs\n",
              "12996  6995d1aa9ac99926106489b14b5530e85358059a              4  ...      0   bs\n",
              "12997  7de8ae90eee164eb756db6c8a3772288e11d7a94              5  ...      0   bs\n",
              "12998  dabef7095b7d9dae6eb0d83c4cbb40b85efd7ae5              6  ...      0   bs\n",
              "\n",
              "[5 rows x 20 columns]"
            ]
          },
          "metadata": {
            "tags": []
          },
          "execution_count": 42
        }
      ]
    },
    {
      "cell_type": "code",
      "metadata": {
        "id": "UTbNRbhJvA_W",
        "colab_type": "code",
        "colab": {}
      },
      "source": [
        "# Lets create y_label i.e Spam or not by Creating a Bias\n",
        "# Any article with spam level >0.2 is marked as spam\n",
        "\n",
        "y_data = []\n",
        "for e in data['spam_score']:\n",
        "  if e > 0.2:\n",
        "    y_data.append(1)\n",
        "  else:\n",
        "    y_data.append(0)"
      ],
      "execution_count": 0,
      "outputs": []
    },
    {
      "cell_type": "code",
      "metadata": {
        "id": "a8l9aHjsvTjX",
        "colab_type": "code",
        "outputId": "4ed03a1f-c6d5-4b82-b3dc-485a2e20a803",
        "colab": {
          "base_uri": "https://localhost:8080/",
          "height": 34
        }
      },
      "source": [
        "len(y_data)"
      ],
      "execution_count": 0,
      "outputs": [
        {
          "output_type": "execute_result",
          "data": {
            "text/plain": [
              "12999"
            ]
          },
          "metadata": {
            "tags": []
          },
          "execution_count": 44
        }
      ]
    },
    {
      "cell_type": "code",
      "metadata": {
        "id": "bUFdvnz1vhXb",
        "colab_type": "code",
        "colab": {}
      },
      "source": [
        "count_0 = 0\n",
        "count_1 = 0\n",
        "for e in y_data:\n",
        "  if(e == 1):\n",
        "    count_1 = count_1 + 1\n",
        "  else:\n",
        "    count_0 = count_0 + 1"
      ],
      "execution_count": 0,
      "outputs": []
    },
    {
      "cell_type": "code",
      "metadata": {
        "id": "vZyU4pTnvt2v",
        "colab_type": "code",
        "outputId": "20ccc1d4-c621-4d9d-89ec-4be55e53429a",
        "colab": {
          "base_uri": "https://localhost:8080/",
          "height": 34
        }
      },
      "source": [
        "print(count_0)"
      ],
      "execution_count": 0,
      "outputs": [
        {
          "output_type": "stream",
          "text": [
            "12499\n"
          ],
          "name": "stdout"
        }
      ]
    },
    {
      "cell_type": "code",
      "metadata": {
        "id": "msmYWNnkvwHw",
        "colab_type": "code",
        "outputId": "a7efb91c-5d42-43cf-b519-ef82668155cc",
        "colab": {
          "base_uri": "https://localhost:8080/",
          "height": 34
        }
      },
      "source": [
        "print(count_1)"
      ],
      "execution_count": 0,
      "outputs": [
        {
          "output_type": "stream",
          "text": [
            "500\n"
          ],
          "name": "stdout"
        }
      ]
    },
    {
      "cell_type": "code",
      "metadata": {
        "id": "xl-opoi_gxj6",
        "colab_type": "code",
        "colab": {}
      },
      "source": [
        "# Clearly the Above analysis shows imbalanced dataset"
      ],
      "execution_count": 0,
      "outputs": []
    },
    {
      "cell_type": "code",
      "metadata": {
        "id": "Qb5YcISMxzQ4",
        "colab_type": "code",
        "colab": {}
      },
      "source": [
        "# X_data is combination of text and title because content + title both can play a pivotal role in determining label\n",
        "\n",
        "X_data = data['text'] + data['title']"
      ],
      "execution_count": 0,
      "outputs": []
    },
    {
      "cell_type": "code",
      "metadata": {
        "id": "8lhtF4Wgx9t0",
        "colab_type": "code",
        "outputId": "682addd4-eee4-44ca-db40-94a4a6b3fc1e",
        "colab": {
          "base_uri": "https://localhost:8080/",
          "height": 34
        }
      },
      "source": [
        "X_data.shape"
      ],
      "execution_count": 0,
      "outputs": [
        {
          "output_type": "execute_result",
          "data": {
            "text/plain": [
              "(12999,)"
            ]
          },
          "metadata": {
            "tags": []
          },
          "execution_count": 49
        }
      ]
    },
    {
      "cell_type": "code",
      "metadata": {
        "id": "RjxRtIP430ef",
        "colab_type": "code",
        "outputId": "77486c4d-d879-481b-c259-a05bb36b36ce",
        "colab": {
          "base_uri": "https://localhost:8080/",
          "height": 54
        }
      },
      "source": [
        "# How a sample X_data looks like\n",
        "\n",
        "X_data[1000]"
      ],
      "execution_count": 0,
      "outputs": [
        {
          "output_type": "execute_result",
          "data": {
            "text/plain": [
              "'Email \\n\\nThe excitement over the US election is culminating as the due date is getting closer. Each candidate is trying to use any device at hand to denigrate the other and morality is the last thing to strike the minds of the candidates. The fact of the matter is that morality is a dead circle in the American politics. Hillary Clinton, the democratic candidate, uses f-word in a debate ( http://en.institutomanquehue.org/publications/news/did-hillary-clinton-mutter-donald-trump-debate.html ) watched by hundreds of millions of people around the world and finds no shame in it. Even American religious leaders believe that Clinton is not competent to be the president of a religious country like United States ( http://en.institutomanquehue.org/publications/news/christian-right-leader-hillary-clinton-hostile-biblical-christianity.html ). On the other hand, the GOP candidate, Donald trump , has no better condition. His sexual harassments and violent ideas towards women were shocking not only for female victims, but also for the dominant male group in America. The violent use of words to address different groups of people, mainly in social media ( http://en.institutomanquehue.org/publications/news/as-first-lady-melania-trump-wants-to-save-you-from-her-husband.html ) , made it hard for the parents to allow their kids to follow him. Besides, the number of women that accused Trump of groping and rape ( http://en.institutomanquehue.org/publications/news/list-women-accused-donald-trump-of-sexual-assault.html ) is increasing day by day and the list is running on. The so-called locker-room video of Trump talking dirty about women and his attitude towards them leaked to the public to be the final shot on the republican candidate, but it did not have that much affect. It seems that even grabbing “the women by the p…y” could not change their idea about Trump. \\nAll these information, some released by the opponent candidate and some by other sources mainly WikiLeaks, seems to have had little significance in the public orientation in choosing a candidate. This has less to do with the people than with the administration system and media empire in the United States. \\nThe fact that Trump does not talk about a rigged-election for respecting democracy and exercising the law is clear as a truth. His words that “I will accept the result of the election if I were chosen” is more like a joke than the words of a would-be president. What Assange is trying to say in his tweet is that the rig is being done on a higher level than the polls or the voting system. The whole administration and political system is rigged in America and the people will not choose a candidate; they are chosen to choose. This is the truth behind the weird public orientation towards election in spite of all the information released about the corruptions of the two candidates in mass media. The fact that the media and the political system are rigging the election in a latent mode is the key to the question raised about the mysteries of the American election.Rigged Primary, Media, and Candidate; the American Rigged System'"
            ]
          },
          "metadata": {
            "tags": []
          },
          "execution_count": 50
        }
      ]
    },
    {
      "cell_type": "markdown",
      "metadata": {
        "id": "4HSowvt72Orw",
        "colab_type": "text"
      },
      "source": [
        "# Cleaning and Tokenizing X_data and y_data"
      ]
    },
    {
      "cell_type": "code",
      "metadata": {
        "colab_type": "code",
        "outputId": "83c19e36-6f06-421e-e798-7ed3294c917e",
        "id": "ZADFDJuAeHEQ",
        "colab": {
          "base_uri": "https://localhost:8080/",
          "height": 51
        }
      },
      "source": [
        "import matplotlib.pyplot as plt\n",
        "from bs4 import BeautifulSoup\n",
        "import re\n",
        "import nltk\n",
        "nltk.download('stopwords')\n",
        "from nltk.corpus import stopwords"
      ],
      "execution_count": 0,
      "outputs": [
        {
          "output_type": "stream",
          "text": [
            "[nltk_data] Downloading package stopwords to /root/nltk_data...\n",
            "[nltk_data]   Package stopwords is already up-to-date!\n"
          ],
          "name": "stdout"
        }
      ]
    },
    {
      "cell_type": "code",
      "metadata": {
        "colab_type": "code",
        "id": "2gfX-qz3eHEV",
        "colab": {}
      },
      "source": [
        "#Data Pre-Processing(Treating Symbols and Stopwords Present in Data) using nltk and re\n",
        "\n",
        "REPLACE_BY_SPACE_RE = re.compile('[/(){}\\[\\]\\|@,;]') #These Symbols will be replaced with Space\n",
        "BAD_SYMBOLS_RE = re.compile('[^0-9a-z #+_]')         #These Symbols will be Removed from Text\n",
        "STOPWORDS = set(stopwords.words('english')) "
      ],
      "execution_count": 0,
      "outputs": []
    },
    {
      "cell_type": "code",
      "metadata": {
        "colab_type": "code",
        "id": "A8Ll-UnNeHEa",
        "colab": {}
      },
      "source": [
        "#Text Cleaning Functions\n",
        "\n",
        "def string_form(value):\n",
        "    return str(value)\n",
        "\n",
        "def clean_text(text):\n",
        "   \n",
        "    text = BeautifulSoup(text, \"lxml\").text\n",
        "    text = text.lower()  #LowerCase Text\n",
        "    text = REPLACE_BY_SPACE_RE.sub(' ', text) #Replace Certain Symbols by Space in Text\n",
        "    text = BAD_SYMBOLS_RE.sub('', text) #Delete Certain Symbols from Text\n",
        "    text = ' '.join(word for word in text.split() if word not in STOPWORDS) #Remove Stopwords from Text\n",
        "    return text"
      ],
      "execution_count": 0,
      "outputs": []
    },
    {
      "cell_type": "code",
      "metadata": {
        "colab_type": "code",
        "id": "da5OmR4QeXhI",
        "colab": {}
      },
      "source": [
        "# Text Pre-processing and cleaning operations\n",
        "\n",
        "X_data = X_data.apply(string_form)\n",
        "X_data = X_data.apply(clean_text)"
      ],
      "execution_count": 0,
      "outputs": []
    },
    {
      "cell_type": "code",
      "metadata": {
        "colab_type": "code",
        "id": "Ousq9ndNeXhX",
        "colab": {}
      },
      "source": [
        "# Let us Remove all nan values\n",
        "\n",
        "X_data_final = []\n",
        "y_data_final = []\n",
        "\n",
        "for e in range(len(X_data)):\n",
        "  if(X_data[e] != 'nan'):\n",
        "    X_data_final.append(X_data[e])\n",
        "    y_data_final.append(y_data[e])"
      ],
      "execution_count": 0,
      "outputs": []
    },
    {
      "cell_type": "code",
      "metadata": {
        "id": "T4XPSEkP4uPh",
        "colab_type": "code",
        "outputId": "2d2ca1c4-100d-4bc9-9992-9aebba776377",
        "colab": {
          "base_uri": "https://localhost:8080/",
          "height": 34
        }
      },
      "source": [
        "len(X_data_final)"
      ],
      "execution_count": 0,
      "outputs": [
        {
          "output_type": "execute_result",
          "data": {
            "text/plain": [
              "12273"
            ]
          },
          "metadata": {
            "tags": []
          },
          "execution_count": 56
        }
      ]
    },
    {
      "cell_type": "code",
      "metadata": {
        "id": "EwB117q540Ec",
        "colab_type": "code",
        "outputId": "0724f725-6231-4ed5-d07d-64bf485aacef",
        "colab": {
          "base_uri": "https://localhost:8080/",
          "height": 34
        }
      },
      "source": [
        "len(y_data_final)"
      ],
      "execution_count": 0,
      "outputs": [
        {
          "output_type": "execute_result",
          "data": {
            "text/plain": [
              "12273"
            ]
          },
          "metadata": {
            "tags": []
          },
          "execution_count": 57
        }
      ]
    },
    {
      "cell_type": "code",
      "metadata": {
        "id": "cB0_lP_35ysh",
        "colab_type": "code",
        "colab": {}
      },
      "source": [
        "tokenizer = Tokenizer()\n",
        "tokenizer.fit_on_texts(X_data_final)"
      ],
      "execution_count": 0,
      "outputs": []
    },
    {
      "cell_type": "code",
      "metadata": {
        "id": "ed3sen1N5-G3",
        "colab_type": "code",
        "colab": {}
      },
      "source": [
        "# Let's see all the words tokenized\n",
        "\n",
        "vocab = tokenizer.index_word\n",
        "vocab"
      ],
      "execution_count": 0,
      "outputs": []
    },
    {
      "cell_type": "code",
      "metadata": {
        "id": "da4NWR0_6Lud",
        "colab_type": "code",
        "outputId": "d6c0f580-515c-4381-e8a0-52539fad49b1",
        "colab": {
          "base_uri": "https://localhost:8080/",
          "height": 34
        }
      },
      "source": [
        "#We saw the tokenization of words\n",
        "#Now we will get length of vocabulary then do embedding\n",
        "vocab_size = len(tokenizer.word_index) + 1\n",
        "vocab_size"
      ],
      "execution_count": 0,
      "outputs": [
        {
          "output_type": "execute_result",
          "data": {
            "text/plain": [
              "171533"
            ]
          },
          "metadata": {
            "tags": []
          },
          "execution_count": 60
        }
      ]
    },
    {
      "cell_type": "code",
      "metadata": {
        "id": "tmBHLz0r6XUY",
        "colab_type": "code",
        "colab": {}
      },
      "source": [
        "# We have a staggering 171533 distinct words after text cleaning"
      ],
      "execution_count": 0,
      "outputs": []
    },
    {
      "cell_type": "code",
      "metadata": {
        "id": "SLmuyYTz6eH4",
        "colab_type": "code",
        "colab": {}
      },
      "source": [
        "#We have 28711 unique words\n",
        "encoded_text = tokenizer.texts_to_sequences(X_data_final)"
      ],
      "execution_count": 0,
      "outputs": []
    },
    {
      "cell_type": "code",
      "metadata": {
        "id": "6pHyDJ6W6n5X",
        "colab_type": "code",
        "outputId": "3646d2bf-b2fa-40a7-826a-07612fd0422b",
        "colab": {
          "base_uri": "https://localhost:8080/",
          "height": 918
        }
      },
      "source": [
        "#This is text data tokenized and as present in dataset, i.e as sentences\n",
        "encoded_text[0]"
      ],
      "execution_count": 0,
      "outputs": [
        {
          "output_type": "execute_result",
          "data": {
            "text/plain": [
              "[1230,\n",
              " 415,\n",
              " 51,\n",
              " 97,\n",
              " 1541,\n",
              " 501,\n",
              " 340,\n",
              " 209,\n",
              " 390,\n",
              " 275,\n",
              " 77,\n",
              " 6432,\n",
              " 16035,\n",
              " 53,\n",
              " 36,\n",
              " 25,\n",
              " 9643,\n",
              " 61,\n",
              " 69,\n",
              " 156,\n",
              " 4428,\n",
              " 20,\n",
              " 3317,\n",
              " 156,\n",
              " 30275,\n",
              " 6086,\n",
              " 396,\n",
              " 135,\n",
              " 20,\n",
              " 1103,\n",
              " 176,\n",
              " 331,\n",
              " 825,\n",
              " 210,\n",
              " 1384,\n",
              " 798,\n",
              " 10,\n",
              " 5,\n",
              " 574,\n",
              " 1154,\n",
              " 1104,\n",
              " 2464,\n",
              " 683,\n",
              " 22313,\n",
              " 82760,\n",
              " 39,\n",
              " 139,\n",
              " 82761,\n",
              " 7402,\n",
              " 6086,\n",
              " 397,\n",
              " 3318,\n",
              " 1103]"
            ]
          },
          "metadata": {
            "tags": []
          },
          "execution_count": 62
        }
      ]
    },
    {
      "cell_type": "code",
      "metadata": {
        "id": "okL4lKJ3FLi-",
        "colab_type": "code",
        "outputId": "615c3cb4-0801-4e7d-d1a7-e11ecc732f04",
        "colab": {
          "base_uri": "https://localhost:8080/",
          "height": 34
        }
      },
      "source": [
        "# There are 12273 samples\n",
        "\n",
        "len(encoded_text)"
      ],
      "execution_count": 0,
      "outputs": [
        {
          "output_type": "execute_result",
          "data": {
            "text/plain": [
              "12273"
            ]
          },
          "metadata": {
            "tags": []
          },
          "execution_count": 63
        }
      ]
    },
    {
      "cell_type": "markdown",
      "metadata": {
        "id": "ZRj0H35RFtiQ",
        "colab_type": "text"
      },
      "source": [
        "# Finding Average Length of an article"
      ]
    },
    {
      "cell_type": "code",
      "metadata": {
        "id": "v9wntDufFPCp",
        "colab_type": "code",
        "outputId": "20f5df46-c72f-41f3-aed3-444803d67a8b",
        "colab": {
          "base_uri": "https://localhost:8080/",
          "height": 34
        }
      },
      "source": [
        "# We want to keep articles which have minimum 100 words and maximum 500 words to prevent under-fitting and over-fitting\n",
        "\n",
        "min = 100\n",
        "max = 500\n",
        "count = 0\n",
        "for e in encoded_text:\n",
        "  if(len(e) > min and len(e) < max):\n",
        "    count = count + 1\n",
        "  \n",
        "count"
      ],
      "execution_count": 0,
      "outputs": [
        {
          "output_type": "execute_result",
          "data": {
            "text/plain": [
              "6896"
            ]
          },
          "metadata": {
            "tags": []
          },
          "execution_count": 152
        }
      ]
    },
    {
      "cell_type": "code",
      "metadata": {
        "id": "BUjbJWnP62z7",
        "colab_type": "code",
        "colab": {}
      },
      "source": [
        "#Max length of any text sequence in the dataset\n",
        "\n",
        "max_length = 500\n",
        "X = pad_sequences(encoded_text, maxlen = max_length, padding = 'post')"
      ],
      "execution_count": 0,
      "outputs": []
    },
    {
      "cell_type": "code",
      "metadata": {
        "id": "rw6tDf5O67MM",
        "colab_type": "code",
        "outputId": "b36b378f-ce2f-461b-d1ae-c6ad6197d49b",
        "colab": {
          "base_uri": "https://localhost:8080/",
          "height": 136
        }
      },
      "source": [
        "print(X)"
      ],
      "execution_count": 0,
      "outputs": [
        {
          "output_type": "stream",
          "text": [
            "[[  1230    415     51 ...      0      0      0]\n",
            " [   712    173   2946 ...      0      0      0]\n",
            " [   838     17    922 ...      0      0      0]\n",
            " ...\n",
            " [  2618      7   1323 ...    133    492   8767]\n",
            " [171521    896    687 ...      0      0      0]\n",
            " [   896    687     15 ...      0      0      0]]\n"
          ],
          "name": "stdout"
        }
      ]
    },
    {
      "cell_type": "code",
      "metadata": {
        "id": "4T-EQ5G-7ClI",
        "colab_type": "code",
        "outputId": "0fc0af9a-5a3c-440a-c1a6-74c83ea88569",
        "colab": {
          "base_uri": "https://localhost:8080/",
          "height": 34
        }
      },
      "source": [
        "# All the encoded articles are now of length 500 after padding\n",
        "\n",
        "X.shape"
      ],
      "execution_count": 0,
      "outputs": [
        {
          "output_type": "execute_result",
          "data": {
            "text/plain": [
              "(12273, 500)"
            ]
          },
          "metadata": {
            "tags": []
          },
          "execution_count": 155
        }
      ]
    },
    {
      "cell_type": "code",
      "metadata": {
        "id": "M3-A4GmZ7JNp",
        "colab_type": "code",
        "colab": {}
      },
      "source": [
        "# Now finally we have X as cleaned, tokenized and padded X_data and y_data_final as y_data"
      ],
      "execution_count": 0,
      "outputs": []
    },
    {
      "cell_type": "code",
      "metadata": {
        "id": "hG8XcaNr0XAS",
        "colab_type": "code",
        "colab": {}
      },
      "source": [
        "# Now that we have X_data and y_data we will split them\n",
        "\n",
        "from sklearn.model_selection import train_test_split\n",
        "X_train, X_test, y_train , y_test = train_test_split(X,y_data_final, test_size = 0.2)"
      ],
      "execution_count": 0,
      "outputs": []
    },
    {
      "cell_type": "code",
      "metadata": {
        "id": "OWRrTCp5v5bX",
        "colab_type": "code",
        "colab": {}
      },
      "source": [
        "#Since the Dataset is Un-Balanced we need to apply Over-Sampling"
      ],
      "execution_count": 0,
      "outputs": []
    },
    {
      "cell_type": "code",
      "metadata": {
        "id": "9ZAaEXxfwsS4",
        "colab_type": "code",
        "outputId": "b786372c-9ae0-43ea-c488-d8effc216af2",
        "colab": {
          "base_uri": "https://localhost:8080/",
          "height": 71
        }
      },
      "source": [
        "from imblearn.over_sampling import SMOTE\n",
        "sm = SMOTE(random_state=27, ratio = 1.0)\n",
        "x_train_over, y_train_over = sm.fit_sample(X_train, y_train)"
      ],
      "execution_count": 0,
      "outputs": [
        {
          "output_type": "stream",
          "text": [
            "/usr/local/lib/python3.6/dist-packages/sklearn/utils/deprecation.py:87: FutureWarning: Function safe_indexing is deprecated; safe_indexing is deprecated in version 0.22 and will be removed in version 0.24.\n",
            "  warnings.warn(msg, category=FutureWarning)\n"
          ],
          "name": "stderr"
        }
      ]
    },
    {
      "cell_type": "code",
      "metadata": {
        "id": "BLP2bEFjKV_G",
        "colab_type": "code",
        "colab": {}
      },
      "source": [
        "# Let us count classes in y_train_over\n",
        "\n",
        "count1 = 0\n",
        "count0 = 0\n",
        "for e in y_train_over:\n",
        "  if e == 1:\n",
        "    count1 = count1 + 1\n",
        "  elif e == 0:\n",
        "    count0 = count0 + 1"
      ],
      "execution_count": 0,
      "outputs": []
    },
    {
      "cell_type": "code",
      "metadata": {
        "id": "VZyVYxx_KlVZ",
        "colab_type": "code",
        "outputId": "4e7ea488-c4ca-4b93-8d02-9fc020f32d12",
        "colab": {
          "base_uri": "https://localhost:8080/",
          "height": 34
        }
      },
      "source": [
        "# Now we can see that both classes are balanced\n",
        "\n",
        "print(count0,count1)"
      ],
      "execution_count": 0,
      "outputs": [
        {
          "output_type": "stream",
          "text": [
            "9439 9439\n"
          ],
          "name": "stdout"
        }
      ]
    },
    {
      "cell_type": "code",
      "metadata": {
        "id": "KvcmGxvL7fsX",
        "colab_type": "code",
        "outputId": "3cab5d1a-7c6c-4a9c-93e4-552c81ca5088",
        "colab": {
          "base_uri": "https://localhost:8080/",
          "height": 34
        }
      },
      "source": [
        "y_train_over.shape"
      ],
      "execution_count": 0,
      "outputs": [
        {
          "output_type": "execute_result",
          "data": {
            "text/plain": [
              "(18924,)"
            ]
          },
          "metadata": {
            "tags": []
          },
          "execution_count": 159
        }
      ]
    },
    {
      "cell_type": "code",
      "metadata": {
        "id": "OoNcUK2u7lyK",
        "colab_type": "code",
        "colab": {}
      },
      "source": [
        "# now finally classes are balanced"
      ],
      "execution_count": 0,
      "outputs": []
    },
    {
      "cell_type": "markdown",
      "metadata": {
        "id": "_gQ86mRDtpHF",
        "colab_type": "text"
      },
      "source": [
        "\n",
        "\n",
        "# Using Self-Trained Vectors\n"
      ]
    },
    {
      "cell_type": "code",
      "metadata": {
        "id": "D8ykxWpUuE3i",
        "colab_type": "code",
        "colab": {}
      },
      "source": [
        "self_vectors = dict()"
      ],
      "execution_count": 0,
      "outputs": []
    },
    {
      "cell_type": "code",
      "metadata": {
        "id": "84Vk4kxSwezR",
        "colab_type": "code",
        "colab": {}
      },
      "source": [
        "file = open('/content/w2v_model.txt',encoding = 'utf-8')\n",
        "\n",
        "for line in file:\n",
        "  values = line.split()\n",
        "  word = values[0]\n",
        "  vectors = np.asarray(values[1:])\n",
        "  self_vectors[word] = vectors\n",
        "file.close()"
      ],
      "execution_count": 0,
      "outputs": []
    },
    {
      "cell_type": "code",
      "metadata": {
        "id": "wMZ7ufBrxbJN",
        "colab_type": "code",
        "outputId": "79f48cc2-e473-4930-84fc-274a4f378586",
        "colab": {
          "base_uri": "https://localhost:8080/",
          "height": 34
        }
      },
      "source": [
        "#There are 158,120 words with their vectors here\n",
        "len(self_vectors.keys())"
      ],
      "execution_count": 0,
      "outputs": [
        {
          "output_type": "execute_result",
          "data": {
            "text/plain": [
              "158120"
            ]
          },
          "metadata": {
            "tags": []
          },
          "execution_count": 76
        }
      ]
    },
    {
      "cell_type": "code",
      "metadata": {
        "id": "FfwwTvNR3giV",
        "colab_type": "code",
        "colab": {}
      },
      "source": [
        "# Creating a word and corresponding vector matrix and finding out which words aren't present in the word-vector dictionary\n",
        "word_vector_matrix = np.zeros((vocab_size, 100))\n",
        "unavailable = 0\n",
        "\n",
        "for word, index in tokenizer.word_index.items():\n",
        "  vector = self_vectors.get(word)\n",
        "  if vector is not None:\n",
        "    word_vector_matrix[index] = vector\n",
        "  else:\n",
        "    unavailable = unavailable + 1\n",
        "    print(word)"
      ],
      "execution_count": 0,
      "outputs": []
    },
    {
      "cell_type": "code",
      "metadata": {
        "id": "Xjos-kgRLrvl",
        "colab_type": "code",
        "outputId": "c9d427bb-914b-4c2c-c754-c54718de2388",
        "colab": {
          "base_uri": "https://localhost:8080/",
          "height": 34
        }
      },
      "source": [
        "unavailable"
      ],
      "execution_count": 0,
      "outputs": [
        {
          "output_type": "execute_result",
          "data": {
            "text/plain": [
              "38892"
            ]
          },
          "metadata": {
            "tags": []
          },
          "execution_count": 161
        }
      ]
    },
    {
      "cell_type": "code",
      "metadata": {
        "id": "0qf-UD78L9lO",
        "colab_type": "code",
        "colab": {}
      },
      "source": [
        "# Out of 171,533 words , 38,892 are unavailable because we had dropped all nan values"
      ],
      "execution_count": 0,
      "outputs": []
    },
    {
      "cell_type": "code",
      "metadata": {
        "id": "tBOMaUZNykWa",
        "colab_type": "code",
        "colab": {}
      },
      "source": [
        "#Now we will search for vectors of words in our dataset and build model"
      ],
      "execution_count": 0,
      "outputs": []
    },
    {
      "cell_type": "code",
      "metadata": {
        "id": "CwYUn_nA4mvv",
        "colab_type": "code",
        "outputId": "d01f01a0-b680-46d0-8909-94d5c471d8a1",
        "colab": {
          "base_uri": "https://localhost:8080/",
          "height": 136
        }
      },
      "source": [
        "X"
      ],
      "execution_count": 0,
      "outputs": [
        {
          "output_type": "execute_result",
          "data": {
            "text/plain": [
              "array([[  1230,    415,     51, ...,      0,      0,      0],\n",
              "       [   712,    173,   2946, ...,      0,      0,      0],\n",
              "       [   838,     17,    922, ...,      0,      0,      0],\n",
              "       ...,\n",
              "       [  2618,      7,   1323, ...,    133,    492,   8767],\n",
              "       [171521,    896,    687, ...,      0,      0,      0],\n",
              "       [   896,    687,     15, ...,      0,      0,      0]], dtype=int32)"
            ]
          },
          "metadata": {
            "tags": []
          },
          "execution_count": 162
        }
      ]
    },
    {
      "cell_type": "code",
      "metadata": {
        "id": "4mfzkK8G40lO",
        "colab_type": "code",
        "colab": {}
      },
      "source": [
        "vec_size = 100\n",
        "max_length = 500\n",
        "#The  vectors are represented in 100 dimension"
      ],
      "execution_count": 0,
      "outputs": []
    },
    {
      "cell_type": "markdown",
      "metadata": {
        "id": "JsgM0FLUYAIt",
        "colab_type": "text"
      },
      "source": [
        "# Creating Attention Class"
      ]
    },
    {
      "cell_type": "code",
      "metadata": {
        "id": "Jkh18LarX-hw",
        "colab_type": "code",
        "outputId": "fb2d8f1c-239e-4757-ec68-acacccab75cc",
        "colab": {
          "base_uri": "https://localhost:8080/",
          "height": 34
        }
      },
      "source": [
        "from keras.layers import Layer\n",
        "import keras.backend as K"
      ],
      "execution_count": 0,
      "outputs": [
        {
          "output_type": "stream",
          "text": [
            "Using TensorFlow backend.\n"
          ],
          "name": "stderr"
        }
      ]
    },
    {
      "cell_type": "code",
      "metadata": {
        "id": "x2yRAr_eyPEn",
        "colab_type": "code",
        "colab": {}
      },
      "source": [
        "class attention(Layer):\n",
        "    def __init__(self,**kwargs):\n",
        "        super(attention,self).__init__(**kwargs)\n",
        "\n",
        "    def build(self,input_shape):\n",
        "        self.W=self.add_weight(name=\"att_weight\",shape=(input_shape[-1],1),initializer=\"normal\")\n",
        "        self.b=self.add_weight(name=\"att_bias\",shape=(input_shape[1],1),initializer=\"zeros\")        \n",
        "        super(attention, self).build(input_shape)\n",
        "\n",
        "    def call(self,x):\n",
        "        et=K.squeeze(K.tanh(K.dot(x,self.W)+self.b),axis=-1)\n",
        "        at=K.softmax(et)\n",
        "        at=K.expand_dims(at,axis=-1)\n",
        "        output=x*at\n",
        "        return K.sum(output,axis=1)\n",
        "\n",
        "    def compute_output_shape(self,input_shape):\n",
        "        return (input_shape[0],input_shape[-1])\n",
        "\n",
        "    def get_config(self):\n",
        "        return super(attention,self).get_config()"
      ],
      "execution_count": 0,
      "outputs": []
    },
    {
      "cell_type": "markdown",
      "metadata": {
        "id": "TtQiRWA5Cgkx",
        "colab_type": "text"
      },
      "source": [
        "# Building Embedding + Attention + CNN Model"
      ]
    },
    {
      "cell_type": "code",
      "metadata": {
        "id": "745TMCf-A5VR",
        "colab_type": "code",
        "colab": {}
      },
      "source": [
        "def axis(a):\n",
        "  a = a[ :, :, newaxis]\n",
        "  return a"
      ],
      "execution_count": 0,
      "outputs": []
    },
    {
      "cell_type": "code",
      "metadata": {
        "id": "BiJTUmwKA6A-",
        "colab_type": "code",
        "colab": {}
      },
      "source": [
        "from numpy import newaxis\n",
        "from keras.layers import Lambda"
      ],
      "execution_count": 0,
      "outputs": []
    },
    {
      "cell_type": "code",
      "metadata": {
        "id": "LqXbQo-zyRC2",
        "colab_type": "code",
        "colab": {}
      },
      "source": [
        "import keras\n",
        "sequence_input = keras.layers.Input(shape=(500,), dtype='int32')\n",
        "x = keras.layers.Embedding(vocab_size, vec_size, input_length = max_length, weights = [word_vector_matrix], trainable = False)(sequence_input)"
      ],
      "execution_count": 0,
      "outputs": []
    },
    {
      "cell_type": "code",
      "metadata": {
        "id": "L3fd85l7y-Nj",
        "colab_type": "code",
        "colab": {}
      },
      "source": [
        "att_out=attention()(x)"
      ],
      "execution_count": 0,
      "outputs": []
    },
    {
      "cell_type": "code",
      "metadata": {
        "id": "UrzJMLeQeUdN",
        "colab_type": "code",
        "colab": {}
      },
      "source": [
        "x = Lambda(axis)(att_out)"
      ],
      "execution_count": 0,
      "outputs": []
    },
    {
      "cell_type": "code",
      "metadata": {
        "id": "TDTZzdD_Cs_7",
        "colab_type": "code",
        "colab": {}
      },
      "source": [
        "y = keras.layers.Conv1D(96,(11),strides = 2,activation = 'relu',input_shape=(100,1))(x)\n",
        "y = keras.layers.MaxPooling1D(3,2)(y)\n",
        "\n",
        "y = keras.layers.Conv1D(256,5,padding = 'same',activation = 'relu')(y)\n",
        "y = keras.layers.MaxPooling1D(3,2)(y)\n",
        "\n",
        "y = keras.layers.Conv1D(384,3,padding='same',activation= 'relu')(y)\n",
        "y = keras.layers.Conv1D(384,3,padding='same',activation= 'relu')(y)\n",
        "y = keras.layers.Conv1D(256,3,padding='same',activation= 'relu')(y)\n",
        "y = keras.layers.MaxPooling1D(3,2)(y)\n",
        "\n",
        "y = keras.layers.Flatten()(y)\n",
        "y = keras.layers.Dense(128, activation = 'relu')(y)\n",
        "y = keras.layers.Dense(256, activation = 'relu')(y)\n",
        "y = keras.layers.Dense(64, activation = 'relu')(y)"
      ],
      "execution_count": 0,
      "outputs": []
    },
    {
      "cell_type": "code",
      "metadata": {
        "id": "j2nPfOmP0lbK",
        "colab_type": "code",
        "colab": {}
      },
      "source": [
        "output=keras.layers.Dense(1,activation='sigmoid',trainable=True)(y)"
      ],
      "execution_count": 0,
      "outputs": []
    },
    {
      "cell_type": "code",
      "metadata": {
        "id": "5lOL813M0yla",
        "colab_type": "code",
        "outputId": "66d43b49-cffb-451a-a16e-275bc9466ae3",
        "colab": {
          "base_uri": "https://localhost:8080/",
          "height": 731
        }
      },
      "source": [
        "model=keras.Model(inputs = sequence_input,outputs = output)\n",
        "model.summary()"
      ],
      "execution_count": 0,
      "outputs": [
        {
          "output_type": "stream",
          "text": [
            "Model: \"model_5\"\n",
            "_________________________________________________________________\n",
            "Layer (type)                 Output Shape              Param #   \n",
            "=================================================================\n",
            "input_6 (InputLayer)         (None, 500)               0         \n",
            "_________________________________________________________________\n",
            "embedding_6 (Embedding)      (None, 500, 100)          17153300  \n",
            "_________________________________________________________________\n",
            "attention_5 (attention)      (None, 100)               600       \n",
            "_________________________________________________________________\n",
            "lambda_5 (Lambda)            (None, 100, 1)            0         \n",
            "_________________________________________________________________\n",
            "conv1d_21 (Conv1D)           (None, 45, 96)            1152      \n",
            "_________________________________________________________________\n",
            "max_pooling1d_13 (MaxPooling (None, 22, 96)            0         \n",
            "_________________________________________________________________\n",
            "conv1d_22 (Conv1D)           (None, 22, 256)           123136    \n",
            "_________________________________________________________________\n",
            "max_pooling1d_14 (MaxPooling (None, 10, 256)           0         \n",
            "_________________________________________________________________\n",
            "conv1d_23 (Conv1D)           (None, 10, 384)           295296    \n",
            "_________________________________________________________________\n",
            "conv1d_24 (Conv1D)           (None, 10, 384)           442752    \n",
            "_________________________________________________________________\n",
            "conv1d_25 (Conv1D)           (None, 10, 256)           295168    \n",
            "_________________________________________________________________\n",
            "max_pooling1d_15 (MaxPooling (None, 4, 256)            0         \n",
            "_________________________________________________________________\n",
            "flatten_5 (Flatten)          (None, 1024)              0         \n",
            "_________________________________________________________________\n",
            "dense_17 (Dense)             (None, 128)               131200    \n",
            "_________________________________________________________________\n",
            "dense_18 (Dense)             (None, 256)               33024     \n",
            "_________________________________________________________________\n",
            "dense_19 (Dense)             (None, 64)                16448     \n",
            "_________________________________________________________________\n",
            "dense_20 (Dense)             (None, 1)                 65        \n",
            "=================================================================\n",
            "Total params: 18,492,141\n",
            "Trainable params: 1,338,841\n",
            "Non-trainable params: 17,153,300\n",
            "_________________________________________________________________\n"
          ],
          "name": "stdout"
        }
      ]
    },
    {
      "cell_type": "code",
      "metadata": {
        "id": "S_CKy6F2XaiT",
        "colab_type": "code",
        "colab": {}
      },
      "source": [
        "# Adam Optimizer was used for Experiment\n",
        "adam = keras.optimizers.Adadelta(learning_rate=0.0001, rho=0.95)"
      ],
      "execution_count": 0,
      "outputs": []
    },
    {
      "cell_type": "code",
      "metadata": {
        "id": "zGyU-0XkXt1W",
        "colab_type": "code",
        "colab": {}
      },
      "source": [
        "model.compile(optimizer = 'adam', loss = 'binary_crossentropy', metrics = ['accuracy'])"
      ],
      "execution_count": 0,
      "outputs": []
    },
    {
      "cell_type": "code",
      "metadata": {
        "id": "cANRWPgmBEMt",
        "colab_type": "code",
        "outputId": "e33bdc67-105c-47dd-be82-f72cd9c1d00b",
        "colab": {
          "base_uri": "https://localhost:8080/",
          "height": 734
        }
      },
      "source": [
        "#Training the Model\n",
        "epochs = 20\n",
        "batch_size = 25\n",
        "\n",
        "history = model.fit(x_train_over, y_train_over, epochs=epochs, batch_size=batch_size,validation_split = 0.1)"
      ],
      "execution_count": 0,
      "outputs": [
        {
          "output_type": "stream",
          "text": [
            "Train on 17031 samples, validate on 1893 samples\n",
            "Epoch 1/20\n",
            "17031/17031 [==============================] - 10s 595us/step - loss: 0.3115 - accuracy: 0.8561 - val_loss: 0.0712 - val_accuracy: 0.9567\n",
            "Epoch 2/20\n",
            "17031/17031 [==============================] - 9s 547us/step - loss: 0.1808 - accuracy: 0.9374 - val_loss: 0.0324 - val_accuracy: 0.9894\n",
            "Epoch 3/20\n",
            "17031/17031 [==============================] - 9s 544us/step - loss: 0.1519 - accuracy: 0.9492 - val_loss: 0.0966 - val_accuracy: 0.9461\n",
            "Epoch 4/20\n",
            "17031/17031 [==============================] - 9s 546us/step - loss: 0.1403 - accuracy: 0.9530 - val_loss: 0.1719 - val_accuracy: 0.9255\n",
            "Epoch 5/20\n",
            "17031/17031 [==============================] - 10s 558us/step - loss: 0.1381 - accuracy: 0.9553 - val_loss: 0.0463 - val_accuracy: 0.9778\n",
            "Epoch 6/20\n",
            "17031/17031 [==============================] - 10s 563us/step - loss: 0.1303 - accuracy: 0.9585 - val_loss: 0.0461 - val_accuracy: 0.9768\n",
            "Epoch 7/20\n",
            "17031/17031 [==============================] - 9s 553us/step - loss: 0.1239 - accuracy: 0.9616 - val_loss: 0.0998 - val_accuracy: 0.9588\n",
            "Epoch 8/20\n",
            "17031/17031 [==============================] - 9s 552us/step - loss: 0.1227 - accuracy: 0.9611 - val_loss: 0.0701 - val_accuracy: 0.9672\n",
            "Epoch 9/20\n",
            "17031/17031 [==============================] - 9s 542us/step - loss: 0.1206 - accuracy: 0.9621 - val_loss: 0.0865 - val_accuracy: 0.9646\n",
            "Epoch 10/20\n",
            "17031/17031 [==============================] - 9s 541us/step - loss: 0.1125 - accuracy: 0.9652 - val_loss: 0.0618 - val_accuracy: 0.9752\n",
            "Epoch 11/20\n",
            "17031/17031 [==============================] - 9s 546us/step - loss: 0.1146 - accuracy: 0.9628 - val_loss: 0.0623 - val_accuracy: 0.9725\n",
            "Epoch 12/20\n",
            "17031/17031 [==============================] - 9s 549us/step - loss: 0.1127 - accuracy: 0.9647 - val_loss: 0.0544 - val_accuracy: 0.9741\n",
            "Epoch 13/20\n",
            "17031/17031 [==============================] - 9s 542us/step - loss: 0.1041 - accuracy: 0.9668 - val_loss: 0.0338 - val_accuracy: 0.9873\n",
            "Epoch 14/20\n",
            "17031/17031 [==============================] - 9s 547us/step - loss: 0.1022 - accuracy: 0.9682 - val_loss: 0.1879 - val_accuracy: 0.9255\n",
            "Epoch 15/20\n",
            "17031/17031 [==============================] - 9s 546us/step - loss: 0.1030 - accuracy: 0.9681 - val_loss: 0.0353 - val_accuracy: 0.9873\n",
            "Epoch 16/20\n",
            "17031/17031 [==============================] - 9s 549us/step - loss: 0.0992 - accuracy: 0.9688 - val_loss: 0.0317 - val_accuracy: 0.9857\n",
            "Epoch 17/20\n",
            "17031/17031 [==============================] - 9s 549us/step - loss: 0.1008 - accuracy: 0.9682 - val_loss: 0.0579 - val_accuracy: 0.9746\n",
            "Epoch 18/20\n",
            "17031/17031 [==============================] - 9s 550us/step - loss: 0.0943 - accuracy: 0.9701 - val_loss: 0.0530 - val_accuracy: 0.9752\n",
            "Epoch 19/20\n",
            "17031/17031 [==============================] - 9s 546us/step - loss: 0.0910 - accuracy: 0.9716 - val_loss: 0.0545 - val_accuracy: 0.9752\n",
            "Epoch 20/20\n",
            "17031/17031 [==============================] - 9s 545us/step - loss: 0.0916 - accuracy: 0.9706 - val_loss: 0.0446 - val_accuracy: 0.9810\n"
          ],
          "name": "stdout"
        }
      ]
    },
    {
      "cell_type": "code",
      "metadata": {
        "id": "rVbeHgGiHt2C",
        "colab_type": "code",
        "outputId": "dc25e851-a4e6-456a-d2b0-985895d5e8b9",
        "colab": {
          "base_uri": "https://localhost:8080/",
          "height": 545
        }
      },
      "source": [
        "acc = history.history['accuracy']\n",
        "val_acc = history.history['val_accuracy']\n",
        "loss = history.history['loss']\n",
        "val_loss = history.history['val_loss']\n",
        "\n",
        "epochs = range(len(acc))\n",
        "\n",
        "plt.plot(epochs, acc, 'r', label='Training accuracy')\n",
        "plt.plot(epochs, val_acc, 'b', label='Validation accuracy')\n",
        "plt.title('Training and validation accuracy')\n",
        "\n",
        "plt.figure()\n",
        "\n",
        "plt.plot(epochs, loss, 'r', label='Training Loss')\n",
        "plt.plot(epochs, val_loss, 'b', label='Validation Loss')\n",
        "plt.title('Training and validation loss')\n",
        "plt.legend()\n",
        "\n",
        "plt.show()"
      ],
      "execution_count": 0,
      "outputs": [
        {
          "output_type": "display_data",
          "data": {
            "image/png": "[encoded data removed]",
            "text/plain": [
              "<Figure size 432x288 with 1 Axes>"
            ]
          },
          "metadata": {
            "tags": [],
            "needs_background": "light"
          }
        },
        {
          "output_type": "display_data",
          "data": {
            "image/png": "[encoded data removed]",
            "text/plain": [
              "<Figure size 432x288 with 1 Axes>"
            ]
          },
          "metadata": {
            "tags": [],
            "needs_background": "light"
          }
        }
      ]
    },
    {
      "cell_type": "code",
      "metadata": {
        "id": "SD-8xnQMRhhQ",
        "colab_type": "code",
        "colab": {}
      },
      "source": [
        "y_pred = model.predict(X_test)"
      ],
      "execution_count": 0,
      "outputs": []
    },
    {
      "cell_type": "code",
      "metadata": {
        "id": "A_YWVJlAR1pU",
        "colab_type": "code",
        "outputId": "ae41b0e6-c666-42a5-f976-a472b0d75140",
        "colab": {
          "base_uri": "https://localhost:8080/",
          "height": 34
        }
      },
      "source": [
        "y_pred.shape"
      ],
      "execution_count": 0,
      "outputs": [
        {
          "output_type": "execute_result",
          "data": {
            "text/plain": [
              "(2455, 1)"
            ]
          },
          "metadata": {
            "tags": []
          },
          "execution_count": 62
        }
      ]
    },
    {
      "cell_type": "code",
      "metadata": {
        "id": "wD4EH05kR-Dn",
        "colab_type": "code",
        "outputId": "0179ab3c-c9d2-4cbf-846d-d49bd5420df9",
        "colab": {
          "base_uri": "https://localhost:8080/",
          "height": 34
        }
      },
      "source": [
        "# Creating a bias for final prediction\n",
        "\n",
        "y_predfinal = []\n",
        "for e in y_pred:\n",
        "  if e > 0.2:\n",
        "    y_predfinal.append(1)\n",
        "  else:\n",
        "    y_predfinal.append(0)\n",
        "  \n",
        "y_predfinal = np.array(y_predfinal)\n",
        "y_predfinal.shape"
      ],
      "execution_count": 0,
      "outputs": [
        {
          "output_type": "execute_result",
          "data": {
            "text/plain": [
              "(2455,)"
            ]
          },
          "metadata": {
            "tags": []
          },
          "execution_count": 176
        }
      ]
    },
    {
      "cell_type": "code",
      "metadata": {
        "id": "wNnnRNRpR4Ut",
        "colab_type": "code",
        "outputId": "fbe5d1e8-d7ec-4573-a884-002ed9af449f",
        "colab": {
          "base_uri": "https://localhost:8080/",
          "height": 34
        }
      },
      "source": [
        "y_test = np.array(y_test)\n",
        "y_test.shape"
      ],
      "execution_count": 0,
      "outputs": [
        {
          "output_type": "execute_result",
          "data": {
            "text/plain": [
              "(2455,)"
            ]
          },
          "metadata": {
            "tags": []
          },
          "execution_count": 112
        }
      ]
    },
    {
      "cell_type": "code",
      "metadata": {
        "id": "Yqro_ptuRqVY",
        "colab_type": "code",
        "outputId": "9807467c-6641-4f81-d56b-214681e4c850",
        "colab": {
          "base_uri": "https://localhost:8080/",
          "height": 51
        }
      },
      "source": [
        "# Out of 2299 Non-Fake Articles 2228 were predicted Correctly\n",
        "# Out of 156 Fake Articles 30 were predicted Correctly\n",
        "\n",
        "from sklearn.metrics import confusion_matrix,classification_report\n",
        "confusion_matrix(y_test,y_predfinal)"
      ],
      "execution_count": 0,
      "outputs": [
        {
          "output_type": "execute_result",
          "data": {
            "text/plain": [
              "array([[2228,  126],\n",
              "       [  71,   30]])"
            ]
          },
          "metadata": {
            "tags": []
          },
          "execution_count": 177
        }
      ]
    },
    {
      "cell_type": "code",
      "metadata": {
        "id": "-cVMFEd8POHA",
        "colab_type": "code",
        "outputId": "eeccd018-6848-4051-a930-b3787f92b130",
        "colab": {
          "base_uri": "https://localhost:8080/",
          "height": 170
        }
      },
      "source": [
        "# Precision and Recall for Detecting Real News is High but for Detecting Fake news is Low\n",
        "\n",
        "print(classification_report(y_test,y_predfinal))"
      ],
      "execution_count": 0,
      "outputs": [
        {
          "output_type": "stream",
          "text": [
            "              precision    recall  f1-score   support\n",
            "\n",
            "           0       0.97      0.95      0.96      2354\n",
            "           1       0.19      0.30      0.23       101\n",
            "\n",
            "    accuracy                           0.92      2455\n",
            "   macro avg       0.58      0.62      0.60      2455\n",
            "weighted avg       0.94      0.92      0.93      2455\n",
            "\n"
          ],
          "name": "stdout"
        }
      ]
    },
    {
      "cell_type": "code",
      "metadata": {
        "id": "t_tyN6okP03N",
        "colab_type": "code",
        "outputId": "891db22f-8c97-48bc-f7aa-27f79280551d",
        "colab": {
          "base_uri": "https://localhost:8080/",
          "height": 34
        }
      },
      "source": [
        "# Saving Model\n",
        "# serialize model to JSON\n",
        "model_json = model.to_json()\n",
        "with open(\"model.json\", \"w\") as json_file:\n",
        "    json_file.write(model_json)\n",
        "# serialize weights to HDF5\n",
        "model.save_weights(\"model.h5\")\n",
        "print(\"Saved model to disk\")"
      ],
      "execution_count": 0,
      "outputs": [
        {
          "output_type": "stream",
          "text": [
            "Saved model to disk\n"
          ],
          "name": "stdout"
        }
      ]
    }
  ]
}