{
  "nbformat": 4,
  "nbformat_minor": 0,
  "metadata": {
    "colab": {
      "name": "Glove Embedding + CNNs.ipynb",
      "provenance": [],
      "collapsed_sections": [],
      "toc_visible": true
    },
    "kernelspec": {
      "name": "python3",
      "display_name": "Python 3"
    }
  },
  "cells": [
    {
      "cell_type": "code",
      "metadata": {
        "id": "7sNTwoYCjT1p",
        "colab_type": "code",
        "outputId": "f5d017a4-f8cc-41df-8068-0e88f32bfa26",
        "colab": {
          "base_uri": "https://localhost:8080/",
          "height": 34
        }
      },
      "source": [
        "import tensorflow as tf\n",
        "print(tf.__version__)"
      ],
      "execution_count": 0,
      "outputs": [
        {
          "output_type": "stream",
          "text": [
            "2.2.0\n"
          ],
          "name": "stdout"
        }
      ]
    },
    {
      "cell_type": "code",
      "metadata": {
        "id": "4fp9Qg0PqIRA",
        "colab_type": "code",
        "colab": {}
      },
      "source": [
        "from tensorflow.keras.preprocessing.text import Tokenizer #Tokenize words to numerical format\n",
        "from tensorflow.keras.preprocessing.sequence import pad_sequences #Every word must have same length for matrix representation\n",
        "from tensorflow.keras.models import Sequential\n",
        "from tensorflow.keras.layers import Dense,Flatten,Embedding,Activation, Dropout\n",
        "from tensorflow.keras.layers import Conv1D, MaxPooling1D, GlobalMaxPooling1D"
      ],
      "execution_count": 0,
      "outputs": []
    },
    {
      "cell_type": "code",
      "metadata": {
        "id": "zag9ZXlCrMX9",
        "colab_type": "code",
        "colab": {}
      },
      "source": [
        "import numpy as np\n",
        "import pandas as pd\n",
        "from numpy import array\n",
        "from sklearn.model_selection import train_test_split"
      ],
      "execution_count": 0,
      "outputs": []
    },
    {
      "cell_type": "markdown",
      "metadata": {
        "id": "d08vbSkExcn5",
        "colab_type": "text"
      },
      "source": [
        "# Exploratory Data Analysis"
      ]
    },
    {
      "cell_type": "code",
      "metadata": {
        "id": "1uNcgQEsrZBv",
        "colab_type": "code",
        "outputId": "3585ef54-24d4-4b1b-ba57-e806e3042c8c",
        "colab": {
          "base_uri": "https://localhost:8080/",
          "height": 34
        }
      },
      "source": [
        "data = pd.read_csv('/content/drive/My Drive/fake.csv')\n",
        "data.shape"
      ],
      "execution_count": 0,
      "outputs": [
        {
          "output_type": "execute_result",
          "data": {
            "text/plain": [
              "(12999, 20)"
            ]
          },
          "metadata": {
            "tags": []
          },
          "execution_count": 4
        }
      ]
    },
    {
      "cell_type": "code",
      "metadata": {
        "id": "jI4H7z70tmLD",
        "colab_type": "code",
        "outputId": "659b9be1-6322-445e-ad60-b27e93989bc2",
        "colab": {
          "base_uri": "https://localhost:8080/",
          "height": 598
        }
      },
      "source": [
        "data.head(5)"
      ],
      "execution_count": 0,
      "outputs": [
        {
          "output_type": "execute_result",
          "data": {
            "text/html": [
              "<div>\n",
              "<style scoped>\n",
              "    .dataframe tbody tr th:only-of-type {\n",
              "        vertical-align: middle;\n",
              "    }\n",
              "\n",
              "    .dataframe tbody tr th {\n",
              "        vertical-align: top;\n",
              "    }\n",
              "\n",
              "    .dataframe thead th {\n",
              "        text-align: right;\n",
              "    }\n",
              "</style>\n",
              "<table border=\"1\" class=\"dataframe\">\n",
              "  <thead>\n",
              "    <tr style=\"text-align: right;\">\n",
              "      <th></th>\n",
              "      <th>uuid</th>\n",
              "      <th>ord_in_thread</th>\n",
              "      <th>author</th>\n",
              "      <th>published</th>\n",
              "      <th>title</th>\n",
              "      <th>text</th>\n",
              "      <th>language</th>\n",
              "      <th>crawled</th>\n",
              "      <th>site_url</th>\n",
              "      <th>country</th>\n",
              "      <th>domain_rank</th>\n",
              "      <th>thread_title</th>\n",
              "      <th>spam_score</th>\n",
              "      <th>main_img_url</th>\n",
              "      <th>replies_count</th>\n",
              "      <th>participants_count</th>\n",
              "      <th>likes</th>\n",
              "      <th>comments</th>\n",
              "      <th>shares</th>\n",
              "      <th>type</th>\n",
              "    </tr>\n",
              "  </thead>\n",
              "  <tbody>\n",
              "    <tr>\n",
              "      <th>0</th>\n",
              "      <td>6a175f46bcd24d39b3e962ad0f29936721db70db</td>\n",
              "      <td>0</td>\n",
              "      <td>Barracuda Brigade</td>\n",
              "      <td>2016-10-26T21:41:00.000+03:00</td>\n",
              "      <td>Muslims BUSTED: They Stole Millions In Gov’t B...</td>\n",
              "      <td>Print They should pay all the back all the mon...</td>\n",
              "      <td>english</td>\n",
              "      <td>2016-10-27T01:49:27.168+03:00</td>\n",
              "      <td>100percentfedup.com</td>\n",
              "      <td>US</td>\n",
              "      <td>25689.0</td>\n",
              "      <td>Muslims BUSTED: They Stole Millions In Gov’t B...</td>\n",
              "      <td>0.000</td>\n",
              "      <td>http://bb4sp.com/wp-content/uploads/2016/10/Fu...</td>\n",
              "      <td>0</td>\n",
              "      <td>1</td>\n",
              "      <td>0</td>\n",
              "      <td>0</td>\n",
              "      <td>0</td>\n",
              "      <td>bias</td>\n",
              "    </tr>\n",
              "    <tr>\n",
              "      <th>1</th>\n",
              "      <td>2bdc29d12605ef9cf3f09f9875040a7113be5d5b</td>\n",
              "      <td>0</td>\n",
              "      <td>reasoning with facts</td>\n",
              "      <td>2016-10-29T08:47:11.259+03:00</td>\n",
              "      <td>Re: Why Did Attorney General Loretta Lynch Ple...</td>\n",
              "      <td>Why Did Attorney General Loretta Lynch Plead T...</td>\n",
              "      <td>english</td>\n",
              "      <td>2016-10-29T08:47:11.259+03:00</td>\n",
              "      <td>100percentfedup.com</td>\n",
              "      <td>US</td>\n",
              "      <td>25689.0</td>\n",
              "      <td>Re: Why Did Attorney General Loretta Lynch Ple...</td>\n",
              "      <td>0.000</td>\n",
              "      <td>http://bb4sp.com/wp-content/uploads/2016/10/Fu...</td>\n",
              "      <td>0</td>\n",
              "      <td>1</td>\n",
              "      <td>0</td>\n",
              "      <td>0</td>\n",
              "      <td>0</td>\n",
              "      <td>bias</td>\n",
              "    </tr>\n",
              "    <tr>\n",
              "      <th>2</th>\n",
              "      <td>c70e149fdd53de5e61c29281100b9de0ed268bc3</td>\n",
              "      <td>0</td>\n",
              "      <td>Barracuda Brigade</td>\n",
              "      <td>2016-10-31T01:41:49.479+02:00</td>\n",
              "      <td>BREAKING: Weiner Cooperating With FBI On Hilla...</td>\n",
              "      <td>Red State : \\nFox News Sunday reported this mo...</td>\n",
              "      <td>english</td>\n",
              "      <td>2016-10-31T01:41:49.479+02:00</td>\n",
              "      <td>100percentfedup.com</td>\n",
              "      <td>US</td>\n",
              "      <td>25689.0</td>\n",
              "      <td>BREAKING: Weiner Cooperating With FBI On Hilla...</td>\n",
              "      <td>0.000</td>\n",
              "      <td>http://bb4sp.com/wp-content/uploads/2016/10/Fu...</td>\n",
              "      <td>0</td>\n",
              "      <td>1</td>\n",
              "      <td>0</td>\n",
              "      <td>0</td>\n",
              "      <td>0</td>\n",
              "      <td>bias</td>\n",
              "    </tr>\n",
              "    <tr>\n",
              "      <th>3</th>\n",
              "      <td>7cf7c15731ac2a116dd7f629bd57ea468ed70284</td>\n",
              "      <td>0</td>\n",
              "      <td>Fed Up</td>\n",
              "      <td>2016-11-01T05:22:00.000+02:00</td>\n",
              "      <td>PIN DROP SPEECH BY FATHER OF DAUGHTER Kidnappe...</td>\n",
              "      <td>Email Kayla Mueller was a prisoner and torture...</td>\n",
              "      <td>english</td>\n",
              "      <td>2016-11-01T15:46:26.304+02:00</td>\n",
              "      <td>100percentfedup.com</td>\n",
              "      <td>US</td>\n",
              "      <td>25689.0</td>\n",
              "      <td>PIN DROP SPEECH BY FATHER OF DAUGHTER Kidnappe...</td>\n",
              "      <td>0.068</td>\n",
              "      <td>http://100percentfedup.com/wp-content/uploads/...</td>\n",
              "      <td>0</td>\n",
              "      <td>0</td>\n",
              "      <td>0</td>\n",
              "      <td>0</td>\n",
              "      <td>0</td>\n",
              "      <td>bias</td>\n",
              "    </tr>\n",
              "    <tr>\n",
              "      <th>4</th>\n",
              "      <td>0206b54719c7e241ffe0ad4315b808290dbe6c0f</td>\n",
              "      <td>0</td>\n",
              "      <td>Fed Up</td>\n",
              "      <td>2016-11-01T21:56:00.000+02:00</td>\n",
              "      <td>FANTASTIC! TRUMP'S 7 POINT PLAN To Reform Heal...</td>\n",
              "      <td>Email HEALTHCARE REFORM TO MAKE AMERICA GREAT ...</td>\n",
              "      <td>english</td>\n",
              "      <td>2016-11-01T23:59:42.266+02:00</td>\n",
              "      <td>100percentfedup.com</td>\n",
              "      <td>US</td>\n",
              "      <td>25689.0</td>\n",
              "      <td>FANTASTIC! TRUMP'S 7 POINT PLAN To Reform Heal...</td>\n",
              "      <td>0.865</td>\n",
              "      <td>http://100percentfedup.com/wp-content/uploads/...</td>\n",
              "      <td>0</td>\n",
              "      <td>0</td>\n",
              "      <td>0</td>\n",
              "      <td>0</td>\n",
              "      <td>0</td>\n",
              "      <td>bias</td>\n",
              "    </tr>\n",
              "  </tbody>\n",
              "</table>\n",
              "</div>"
            ],
            "text/plain": [
              "                                       uuid  ord_in_thread  ... shares  type\n",
              "0  6a175f46bcd24d39b3e962ad0f29936721db70db              0  ...      0  bias\n",
              "1  2bdc29d12605ef9cf3f09f9875040a7113be5d5b              0  ...      0  bias\n",
              "2  c70e149fdd53de5e61c29281100b9de0ed268bc3              0  ...      0  bias\n",
              "3  7cf7c15731ac2a116dd7f629bd57ea468ed70284              0  ...      0  bias\n",
              "4  0206b54719c7e241ffe0ad4315b808290dbe6c0f              0  ...      0  bias\n",
              "\n",
              "[5 rows x 20 columns]"
            ]
          },
          "metadata": {
            "tags": []
          },
          "execution_count": 5
        }
      ]
    },
    {
      "cell_type": "code",
      "metadata": {
        "id": "4Ixy4Aaztsx9",
        "colab_type": "code",
        "outputId": "cf072abb-05c0-45ca-9be4-1dbe56a92086",
        "colab": {
          "base_uri": "https://localhost:8080/",
          "height": 564
        }
      },
      "source": [
        "data.tail(5)"
      ],
      "execution_count": 0,
      "outputs": [
        {
          "output_type": "execute_result",
          "data": {
            "text/html": [
              "<div>\n",
              "<style scoped>\n",
              "    .dataframe tbody tr th:only-of-type {\n",
              "        vertical-align: middle;\n",
              "    }\n",
              "\n",
              "    .dataframe tbody tr th {\n",
              "        vertical-align: top;\n",
              "    }\n",
              "\n",
              "    .dataframe thead th {\n",
              "        text-align: right;\n",
              "    }\n",
              "</style>\n",
              "<table border=\"1\" class=\"dataframe\">\n",
              "  <thead>\n",
              "    <tr style=\"text-align: right;\">\n",
              "      <th></th>\n",
              "      <th>uuid</th>\n",
              "      <th>ord_in_thread</th>\n",
              "      <th>author</th>\n",
              "      <th>published</th>\n",
              "      <th>title</th>\n",
              "      <th>text</th>\n",
              "      <th>language</th>\n",
              "      <th>crawled</th>\n",
              "      <th>site_url</th>\n",
              "      <th>country</th>\n",
              "      <th>domain_rank</th>\n",
              "      <th>thread_title</th>\n",
              "      <th>spam_score</th>\n",
              "      <th>main_img_url</th>\n",
              "      <th>replies_count</th>\n",
              "      <th>participants_count</th>\n",
              "      <th>likes</th>\n",
              "      <th>comments</th>\n",
              "      <th>shares</th>\n",
              "      <th>type</th>\n",
              "    </tr>\n",
              "  </thead>\n",
              "  <tbody>\n",
              "    <tr>\n",
              "      <th>12994</th>\n",
              "      <td>f1b5d0e44803f48732bde854a9fdf95837219b12</td>\n",
              "      <td>2</td>\n",
              "      <td>replaceme</td>\n",
              "      <td>2016-10-26T23:58:00.000+03:00</td>\n",
              "      <td>NaN</td>\n",
              "      <td>It DOES allow you to put a dog face on top of ...</td>\n",
              "      <td>english</td>\n",
              "      <td>2016-10-27T00:37:46.194+03:00</td>\n",
              "      <td>zerohedge.com</td>\n",
              "      <td>US</td>\n",
              "      <td>2435.0</td>\n",
              "      <td>Snapchat To Raise Up To $4 Billion In IPO, Val...</td>\n",
              "      <td>0.0</td>\n",
              "      <td>NaN</td>\n",
              "      <td>40</td>\n",
              "      <td>32</td>\n",
              "      <td>0</td>\n",
              "      <td>0</td>\n",
              "      <td>0</td>\n",
              "      <td>bs</td>\n",
              "    </tr>\n",
              "    <tr>\n",
              "      <th>12995</th>\n",
              "      <td>36011ceba3647e1bea78299b68b6fb705a1fc1ad</td>\n",
              "      <td>3</td>\n",
              "      <td>Freedumb</td>\n",
              "      <td>2016-10-27T00:02:00.000+03:00</td>\n",
              "      <td>NaN</td>\n",
              "      <td>Wait till you see what happens to the valuatio...</td>\n",
              "      <td>english</td>\n",
              "      <td>2016-10-27T00:37:46.220+03:00</td>\n",
              "      <td>zerohedge.com</td>\n",
              "      <td>US</td>\n",
              "      <td>2435.0</td>\n",
              "      <td>Snapchat To Raise Up To $4 Billion In IPO, Val...</td>\n",
              "      <td>0.0</td>\n",
              "      <td>NaN</td>\n",
              "      <td>40</td>\n",
              "      <td>32</td>\n",
              "      <td>0</td>\n",
              "      <td>0</td>\n",
              "      <td>0</td>\n",
              "      <td>bs</td>\n",
              "    </tr>\n",
              "    <tr>\n",
              "      <th>12996</th>\n",
              "      <td>6995d1aa9ac99926106489b14b5530e85358059a</td>\n",
              "      <td>4</td>\n",
              "      <td>major major maj...</td>\n",
              "      <td>2016-10-27T00:06:00.000+03:00</td>\n",
              "      <td>NaN</td>\n",
              "      <td>I'm waiting for the one that puts a pussy on m...</td>\n",
              "      <td>english</td>\n",
              "      <td>2016-10-27T00:37:46.244+03:00</td>\n",
              "      <td>zerohedge.com</td>\n",
              "      <td>US</td>\n",
              "      <td>2435.0</td>\n",
              "      <td>Snapchat To Raise Up To $4 Billion In IPO, Val...</td>\n",
              "      <td>0.0</td>\n",
              "      <td>NaN</td>\n",
              "      <td>40</td>\n",
              "      <td>32</td>\n",
              "      <td>0</td>\n",
              "      <td>0</td>\n",
              "      <td>0</td>\n",
              "      <td>bs</td>\n",
              "    </tr>\n",
              "    <tr>\n",
              "      <th>12997</th>\n",
              "      <td>7de8ae90eee164eb756db6c8a3772288e11d7a94</td>\n",
              "      <td>5</td>\n",
              "      <td>beemasters</td>\n",
              "      <td>2016-10-27T00:09:00.000+03:00</td>\n",
              "      <td>NaN</td>\n",
              "      <td>$4 Billion even after they are known to be kee...</td>\n",
              "      <td>english</td>\n",
              "      <td>2016-10-27T00:37:46.247+03:00</td>\n",
              "      <td>zerohedge.com</td>\n",
              "      <td>US</td>\n",
              "      <td>2435.0</td>\n",
              "      <td>Snapchat To Raise Up To $4 Billion In IPO, Val...</td>\n",
              "      <td>0.0</td>\n",
              "      <td>NaN</td>\n",
              "      <td>40</td>\n",
              "      <td>32</td>\n",
              "      <td>0</td>\n",
              "      <td>0</td>\n",
              "      <td>0</td>\n",
              "      <td>bs</td>\n",
              "    </tr>\n",
              "    <tr>\n",
              "      <th>12998</th>\n",
              "      <td>dabef7095b7d9dae6eb0d83c4cbb40b85efd7ae5</td>\n",
              "      <td>6</td>\n",
              "      <td>i&amp;#039;m-confused</td>\n",
              "      <td>2016-10-27T00:09:00.000+03:00</td>\n",
              "      <td>NaN</td>\n",
              "      <td>of course - how else would they disceminate te...</td>\n",
              "      <td>english</td>\n",
              "      <td>2016-10-27T00:37:46.260+03:00</td>\n",
              "      <td>zerohedge.com</td>\n",
              "      <td>US</td>\n",
              "      <td>2435.0</td>\n",
              "      <td>Snapchat To Raise Up To $4 Billion In IPO, Val...</td>\n",
              "      <td>0.0</td>\n",
              "      <td>NaN</td>\n",
              "      <td>40</td>\n",
              "      <td>32</td>\n",
              "      <td>0</td>\n",
              "      <td>0</td>\n",
              "      <td>0</td>\n",
              "      <td>bs</td>\n",
              "    </tr>\n",
              "  </tbody>\n",
              "</table>\n",
              "</div>"
            ],
            "text/plain": [
              "                                           uuid  ord_in_thread  ... shares type\n",
              "12994  f1b5d0e44803f48732bde854a9fdf95837219b12              2  ...      0   bs\n",
              "12995  36011ceba3647e1bea78299b68b6fb705a1fc1ad              3  ...      0   bs\n",
              "12996  6995d1aa9ac99926106489b14b5530e85358059a              4  ...      0   bs\n",
              "12997  7de8ae90eee164eb756db6c8a3772288e11d7a94              5  ...      0   bs\n",
              "12998  dabef7095b7d9dae6eb0d83c4cbb40b85efd7ae5              6  ...      0   bs\n",
              "\n",
              "[5 rows x 20 columns]"
            ]
          },
          "metadata": {
            "tags": []
          },
          "execution_count": 6
        }
      ]
    },
    {
      "cell_type": "code",
      "metadata": {
        "id": "UTbNRbhJvA_W",
        "colab_type": "code",
        "colab": {}
      },
      "source": [
        "# Lets create y_label i.e Spam or not by Creating a Bias\n",
        "# Any article with spam level >0.2 is marked as spam\n",
        "\n",
        "y_data = []\n",
        "for e in data['spam_score']:\n",
        "  if e > 0.2:\n",
        "    y_data.append(1)\n",
        "  else:\n",
        "    y_data.append(0)"
      ],
      "execution_count": 0,
      "outputs": []
    },
    {
      "cell_type": "code",
      "metadata": {
        "id": "a8l9aHjsvTjX",
        "colab_type": "code",
        "outputId": "2f828ef1-fc43-45a9-9cdc-42575b773b95",
        "colab": {
          "base_uri": "https://localhost:8080/",
          "height": 34
        }
      },
      "source": [
        "len(y_data)"
      ],
      "execution_count": 0,
      "outputs": [
        {
          "output_type": "execute_result",
          "data": {
            "text/plain": [
              "12999"
            ]
          },
          "metadata": {
            "tags": []
          },
          "execution_count": 8
        }
      ]
    },
    {
      "cell_type": "code",
      "metadata": {
        "id": "bUFdvnz1vhXb",
        "colab_type": "code",
        "colab": {}
      },
      "source": [
        "count_0 = 0\n",
        "count_1 = 0\n",
        "for e in y_data:\n",
        "  if(e == 1):\n",
        "    count_1 = count_1 + 1\n",
        "  else:\n",
        "    count_0 = count_0 + 1"
      ],
      "execution_count": 0,
      "outputs": []
    },
    {
      "cell_type": "code",
      "metadata": {
        "id": "vZyU4pTnvt2v",
        "colab_type": "code",
        "outputId": "43dbab21-587b-4e58-a64c-dbdcaeb13b79",
        "colab": {
          "base_uri": "https://localhost:8080/",
          "height": 34
        }
      },
      "source": [
        "print(count_0)"
      ],
      "execution_count": 0,
      "outputs": [
        {
          "output_type": "stream",
          "text": [
            "12499\n"
          ],
          "name": "stdout"
        }
      ]
    },
    {
      "cell_type": "code",
      "metadata": {
        "id": "msmYWNnkvwHw",
        "colab_type": "code",
        "outputId": "7e48997d-e612-4949-d497-4b7606093148",
        "colab": {
          "base_uri": "https://localhost:8080/",
          "height": 34
        }
      },
      "source": [
        "print(count_1)"
      ],
      "execution_count": 0,
      "outputs": [
        {
          "output_type": "stream",
          "text": [
            "500\n"
          ],
          "name": "stdout"
        }
      ]
    },
    {
      "cell_type": "code",
      "metadata": {
        "id": "Qb5YcISMxzQ4",
        "colab_type": "code",
        "colab": {}
      },
      "source": [
        "# X_data is combination of text and title because content + title both can play a pivotal role in determining label\n",
        "\n",
        "X_data = data['text'] + data['title']"
      ],
      "execution_count": 0,
      "outputs": []
    },
    {
      "cell_type": "code",
      "metadata": {
        "id": "8lhtF4Wgx9t0",
        "colab_type": "code",
        "outputId": "baa52d00-0e2a-4c2c-ff33-0278264776e0",
        "colab": {
          "base_uri": "https://localhost:8080/",
          "height": 34
        }
      },
      "source": [
        "X_data.shape"
      ],
      "execution_count": 0,
      "outputs": [
        {
          "output_type": "execute_result",
          "data": {
            "text/plain": [
              "(12999,)"
            ]
          },
          "metadata": {
            "tags": []
          },
          "execution_count": 14
        }
      ]
    },
    {
      "cell_type": "code",
      "metadata": {
        "id": "RjxRtIP430ef",
        "colab_type": "code",
        "outputId": "0fca9a07-cac2-437a-8027-3a5a0ed052aa",
        "colab": {
          "base_uri": "https://localhost:8080/",
          "height": 54
        }
      },
      "source": [
        "X_data[10000]"
      ],
      "execution_count": 0,
      "outputs": [
        {
          "output_type": "execute_result",
          "data": {
            "text/plain": [
              "\"Experts Recommend Breaking Down Crushing Defeats Into Smaller, More Manageable Failures Close Vol 50 Issue 20 · Lifestyle \\nSANTA BARBARA, CA—Offering advice to those who feel overwhelmed at the thought of becoming massive failures, a group of experts reported this week that the best way to approach a crippling defeat is to break it down into a set of smaller and more manageable setbacks. “The key to failing on a monumental scale is to take life one small misstep at a time,” life coach Jack V. Royce told reporters, emphasizing that people who hit absolute rock bottom seldom get there overnight. “Just start with a couple of minor fuckups and then build off that. It’s all about working through your long, humiliating downward spiral in workable increments: botch this, flub that, make a wreck of something else—and then, before you know it, you’re well on your way to being totally screwed.” Royce added that it’s also helpful every now and then to stop, take stock of your situation, and really beat yourself up about it. Share This Story: WATCH VIDEO FROM THE ONION Sign up For The Onion's Newsletter \\nGive your spam filter something to do. Daily Headlines Experts Recommend Breaking Down Crushing Defeats Into Smaller, More Manageable Failures - The Onion - America's Finest News Source\""
            ]
          },
          "metadata": {
            "tags": []
          },
          "execution_count": 15
        }
      ]
    },
    {
      "cell_type": "markdown",
      "metadata": {
        "id": "4HSowvt72Orw",
        "colab_type": "text"
      },
      "source": [
        "# Cleaning and Tokenizing X_data and y_data"
      ]
    },
    {
      "cell_type": "code",
      "metadata": {
        "id": "biBejCo62V5-",
        "colab_type": "code",
        "outputId": "06175b36-9939-479e-ac28-1e7475922d70",
        "colab": {
          "base_uri": "https://localhost:8080/",
          "height": 51
        }
      },
      "source": [
        "import matplotlib.pyplot as plt\n",
        "from bs4 import BeautifulSoup\n",
        "import re\n",
        "import nltk\n",
        "nltk.download('stopwords')\n",
        "from nltk.corpus import stopwords"
      ],
      "execution_count": 0,
      "outputs": [
        {
          "output_type": "stream",
          "text": [
            "[nltk_data] Downloading package stopwords to /root/nltk_data...\n",
            "[nltk_data]   Unzipping corpora/stopwords.zip.\n"
          ],
          "name": "stdout"
        }
      ]
    },
    {
      "cell_type": "code",
      "metadata": {
        "id": "qrqDH7IY2ip_",
        "colab_type": "code",
        "colab": {}
      },
      "source": [
        "#Data Pre-Processing(Treating Symbols and Stopwords Present in Data)\n",
        "\n",
        "REPLACE_BY_SPACE_RE = re.compile('[/(){}\\[\\]\\|@,;]') #These Symbols will be replaced with Space\n",
        "BAD_SYMBOLS_RE = re.compile('[^0-9a-z #+_]')         #These Symbols will be Removed from Text\n",
        "STOPWORDS = set(stopwords.words('english')) "
      ],
      "execution_count": 0,
      "outputs": []
    },
    {
      "cell_type": "code",
      "metadata": {
        "id": "MxFr66Qn2l-3",
        "colab_type": "code",
        "colab": {}
      },
      "source": [
        "#Text Cleaning Functions\n",
        "\n",
        "def string_form(value):\n",
        "    return str(value)\n",
        "\n",
        "def clean_text(text):\n",
        "   \n",
        "    text = BeautifulSoup(text, \"lxml\").text\n",
        "    text = text.lower()  #LowerCase Text\n",
        "    text = REPLACE_BY_SPACE_RE.sub(' ', text) #Replace Certain Symbols by Space in Text\n",
        "    text = BAD_SYMBOLS_RE.sub('', text) #Delete Certain Symbols from Text\n",
        "    text = ' '.join(word for word in text.split() if word not in STOPWORDS) #Remove Stopwords from Text\n",
        "    return text"
      ],
      "execution_count": 0,
      "outputs": []
    },
    {
      "cell_type": "code",
      "metadata": {
        "id": "smodOObg2qS_",
        "colab_type": "code",
        "colab": {}
      },
      "source": [
        "# Text Pre-processing and cleaning operations\n",
        "\n",
        "X_data = X_data.apply(string_form)\n",
        "X_data = X_data.apply(clean_text)"
      ],
      "execution_count": 0,
      "outputs": []
    },
    {
      "cell_type": "code",
      "metadata": {
        "id": "WmagNjfU4OjY",
        "colab_type": "code",
        "colab": {}
      },
      "source": [
        "# Let us Remove all nan values\n",
        "\n",
        "X_data_final = []\n",
        "y_data_final = []\n",
        "\n",
        "for e in range(len(X_data)):\n",
        "  if(X_data[e] != 'nan'):\n",
        "    X_data_final.append(X_data[e])\n",
        "    y_data_final.append(y_data[e])"
      ],
      "execution_count": 0,
      "outputs": []
    },
    {
      "cell_type": "code",
      "metadata": {
        "id": "T4XPSEkP4uPh",
        "colab_type": "code",
        "outputId": "d6178476-59c3-4c5a-c712-82ce6ea9b9a5",
        "colab": {
          "base_uri": "https://localhost:8080/",
          "height": 34
        }
      },
      "source": [
        "len(X_data_final)"
      ],
      "execution_count": 0,
      "outputs": [
        {
          "output_type": "execute_result",
          "data": {
            "text/plain": [
              "12273"
            ]
          },
          "metadata": {
            "tags": []
          },
          "execution_count": 21
        }
      ]
    },
    {
      "cell_type": "code",
      "metadata": {
        "id": "EwB117q540Ec",
        "colab_type": "code",
        "outputId": "ea23788e-e98d-4bf6-c737-e0c98df553bd",
        "colab": {
          "base_uri": "https://localhost:8080/",
          "height": 34
        }
      },
      "source": [
        "len(y_data_final)"
      ],
      "execution_count": 0,
      "outputs": [
        {
          "output_type": "execute_result",
          "data": {
            "text/plain": [
              "12273"
            ]
          },
          "metadata": {
            "tags": []
          },
          "execution_count": 22
        }
      ]
    },
    {
      "cell_type": "code",
      "metadata": {
        "id": "cB0_lP_35ysh",
        "colab_type": "code",
        "colab": {}
      },
      "source": [
        "tokenizer = Tokenizer()\n",
        "tokenizer.fit_on_texts(X_data_final)"
      ],
      "execution_count": 0,
      "outputs": []
    },
    {
      "cell_type": "code",
      "metadata": {
        "id": "ed3sen1N5-G3",
        "colab_type": "code",
        "colab": {}
      },
      "source": [
        "# Let's see all the words tokenized\n",
        "\n",
        "vocab = tokenizer.index_word\n",
        "vocab"
      ],
      "execution_count": 0,
      "outputs": []
    },
    {
      "cell_type": "code",
      "metadata": {
        "id": "da4NWR0_6Lud",
        "colab_type": "code",
        "outputId": "6d4972ab-d848-421b-a15a-1b4962c6a322",
        "colab": {
          "base_uri": "https://localhost:8080/",
          "height": 34
        }
      },
      "source": [
        "#We saw the tokenization of words\n",
        "#Now we will get length of vocabulary then do embedding\n",
        "vocab_size = len(tokenizer.word_index) + 1\n",
        "vocab_size"
      ],
      "execution_count": 0,
      "outputs": [
        {
          "output_type": "execute_result",
          "data": {
            "text/plain": [
              "171533"
            ]
          },
          "metadata": {
            "tags": []
          },
          "execution_count": 25
        }
      ]
    },
    {
      "cell_type": "code",
      "metadata": {
        "id": "tmBHLz0r6XUY",
        "colab_type": "code",
        "colab": {}
      },
      "source": [
        "# We have a staggering 171533 distinct words after text cleaning"
      ],
      "execution_count": 0,
      "outputs": []
    },
    {
      "cell_type": "code",
      "metadata": {
        "id": "SLmuyYTz6eH4",
        "colab_type": "code",
        "colab": {}
      },
      "source": [
        "#We have 28711 unique words\n",
        "encoded_text = tokenizer.texts_to_sequences(X_data_final)"
      ],
      "execution_count": 0,
      "outputs": []
    },
    {
      "cell_type": "code",
      "metadata": {
        "id": "6pHyDJ6W6n5X",
        "colab_type": "code",
        "colab": {}
      },
      "source": [
        "#This is text data tokenized and as present in dataset, i.e as sentences\n",
        "encoded_text"
      ],
      "execution_count": 0,
      "outputs": []
    },
    {
      "cell_type": "code",
      "metadata": {
        "id": "okL4lKJ3FLi-",
        "colab_type": "code",
        "outputId": "7e758e7c-c77e-4a34-ce60-51464a80049c",
        "colab": {
          "base_uri": "https://localhost:8080/",
          "height": 34
        }
      },
      "source": [
        "len(encoded_text)"
      ],
      "execution_count": 0,
      "outputs": [
        {
          "output_type": "execute_result",
          "data": {
            "text/plain": [
              "12273"
            ]
          },
          "metadata": {
            "tags": []
          },
          "execution_count": 32
        }
      ]
    },
    {
      "cell_type": "markdown",
      "metadata": {
        "id": "ZRj0H35RFtiQ",
        "colab_type": "text"
      },
      "source": [
        "# Finding Average Length of an article"
      ]
    },
    {
      "cell_type": "code",
      "metadata": {
        "id": "v9wntDufFPCp",
        "colab_type": "code",
        "outputId": "345962a0-4db7-48dd-890f-f585a813ea79",
        "colab": {
          "base_uri": "https://localhost:8080/",
          "height": 34
        }
      },
      "source": [
        "# We want to keep articles which have minimum 100 words and maximum 1500 words to prevent under-fitting and over-fitting\n",
        "\n",
        "min = 100\n",
        "max = 1500\n",
        "count = 0\n",
        "for e in encoded_text:\n",
        "  if(len(e) > min and len(e) < max):\n",
        "    count = count + 1\n",
        "  \n",
        "count"
      ],
      "execution_count": 0,
      "outputs": [
        {
          "output_type": "execute_result",
          "data": {
            "text/plain": [
              "9461"
            ]
          },
          "metadata": {
            "tags": []
          },
          "execution_count": 48
        }
      ]
    },
    {
      "cell_type": "code",
      "metadata": {
        "id": "310zV-bEGXbh",
        "colab_type": "code",
        "colab": {}
      },
      "source": [
        "# By trial and error it is observed that 9461 artciles out of 12773 fall between 100 and 1500 words\n",
        "# Hence, we pad sequences to length 1500 to take care of bulk of the articles"
      ],
      "execution_count": 0,
      "outputs": []
    },
    {
      "cell_type": "code",
      "metadata": {
        "id": "BUjbJWnP62z7",
        "colab_type": "code",
        "colab": {}
      },
      "source": [
        "#Max length of any text sequence in the dataset\n",
        "\n",
        "max_length = 1500\n",
        "X = pad_sequences(encoded_text, maxlen = max_length, padding = 'post')"
      ],
      "execution_count": 0,
      "outputs": []
    },
    {
      "cell_type": "code",
      "metadata": {
        "id": "rw6tDf5O67MM",
        "colab_type": "code",
        "outputId": "c131338b-7ac2-48a2-e1e4-0d2484a5b0b2",
        "colab": {
          "base_uri": "https://localhost:8080/",
          "height": 136
        }
      },
      "source": [
        "print(X)"
      ],
      "execution_count": 0,
      "outputs": [
        {
          "output_type": "stream",
          "text": [
            "[[  1230    415     51 ...      0      0      0]\n",
            " [   712    173   2946 ...      0      0      0]\n",
            " [   838     17    922 ...      0      0      0]\n",
            " ...\n",
            " [  1373      7      3 ...      0      0      0]\n",
            " [171521    896    687 ...      0      0      0]\n",
            " [   896    687     15 ...      0      0      0]]\n"
          ],
          "name": "stdout"
        }
      ]
    },
    {
      "cell_type": "code",
      "metadata": {
        "id": "4T-EQ5G-7ClI",
        "colab_type": "code",
        "outputId": "d29e34ca-54f5-475a-dfdf-dc37ac2b153e",
        "colab": {
          "base_uri": "https://localhost:8080/",
          "height": 34
        }
      },
      "source": [
        "X.shape"
      ],
      "execution_count": 0,
      "outputs": [
        {
          "output_type": "execute_result",
          "data": {
            "text/plain": [
              "(12273, 1500)"
            ]
          },
          "metadata": {
            "tags": []
          },
          "execution_count": 51
        }
      ]
    },
    {
      "cell_type": "code",
      "metadata": {
        "id": "8x0dd-UdKEqU",
        "colab_type": "code",
        "outputId": "84e719a6-8ce8-4212-e58b-9a4898e37822",
        "colab": {
          "base_uri": "https://localhost:8080/",
          "height": 34
        }
      },
      "source": [
        "X[0]"
      ],
      "execution_count": 0,
      "outputs": [
        {
          "output_type": "execute_result",
          "data": {
            "text/plain": [
              "array([1230,  415,   51, ...,    0,    0,    0], dtype=int32)"
            ]
          },
          "metadata": {
            "tags": []
          },
          "execution_count": 52
        }
      ]
    },
    {
      "cell_type": "code",
      "metadata": {
        "id": "M3-A4GmZ7JNp",
        "colab_type": "code",
        "colab": {}
      },
      "source": [
        "# Now finally we have X as cleaned, tokenized and padded X_data and y_data_final as y_data"
      ],
      "execution_count": 0,
      "outputs": []
    },
    {
      "cell_type": "code",
      "metadata": {
        "id": "hG8XcaNr0XAS",
        "colab_type": "code",
        "colab": {}
      },
      "source": [
        "# Now that we have X_data and y_data we will split them\n",
        "\n",
        "from sklearn.model_selection import train_test_split\n",
        "X_train, X_test, y_train , y_test = train_test_split(X,y_data_final, test_size = 0.2)"
      ],
      "execution_count": 0,
      "outputs": []
    },
    {
      "cell_type": "code",
      "metadata": {
        "id": "OWRrTCp5v5bX",
        "colab_type": "code",
        "colab": {}
      },
      "source": [
        "#Since the Dataset is Un-Balanced we need to apply Over-Sampling\n",
        "#We need to tokenize and pad X_train and X_test before applying smote"
      ],
      "execution_count": 0,
      "outputs": []
    },
    {
      "cell_type": "code",
      "metadata": {
        "id": "9ZAaEXxfwsS4",
        "colab_type": "code",
        "outputId": "4766837b-baeb-47c6-99cd-c03d4f133f39",
        "colab": {
          "base_uri": "https://localhost:8080/",
          "height": 139
        }
      },
      "source": [
        "from imblearn.over_sampling import SMOTE\n",
        "sm = SMOTE(random_state=27, ratio = 1.0)\n",
        "x_train_over, y_train_over = sm.fit_sample(X_train, y_train)"
      ],
      "execution_count": 0,
      "outputs": [
        {
          "output_type": "stream",
          "text": [
            "/usr/local/lib/python3.6/dist-packages/sklearn/externals/six.py:31: FutureWarning: The module is deprecated in version 0.21 and will be removed in version 0.23 since we've dropped support for Python 2.7. Please rely on the official version of six (https://pypi.org/project/six/).\n",
            "  \"(https://pypi.org/project/six/).\", FutureWarning)\n",
            "/usr/local/lib/python3.6/dist-packages/sklearn/utils/deprecation.py:144: FutureWarning: The sklearn.neighbors.base module is  deprecated in version 0.22 and will be removed in version 0.24. The corresponding classes / functions should instead be imported from sklearn.neighbors. Anything that cannot be imported from sklearn.neighbors is now part of the private API.\n",
            "  warnings.warn(message, FutureWarning)\n",
            "/usr/local/lib/python3.6/dist-packages/sklearn/utils/deprecation.py:87: FutureWarning: Function safe_indexing is deprecated; safe_indexing is deprecated in version 0.22 and will be removed in version 0.24.\n",
            "  warnings.warn(msg, category=FutureWarning)\n"
          ],
          "name": "stderr"
        }
      ]
    },
    {
      "cell_type": "code",
      "metadata": {
        "id": "BLP2bEFjKV_G",
        "colab_type": "code",
        "colab": {}
      },
      "source": [
        "# Let us count classes in y_train_over\n",
        "\n",
        "count1 = 0\n",
        "count0 = 0\n",
        "for e in y_train_over:\n",
        "  if e == 1:\n",
        "    count1 = count1 + 1\n",
        "  elif e == 0:\n",
        "    count0 = count0 + 1"
      ],
      "execution_count": 0,
      "outputs": []
    },
    {
      "cell_type": "code",
      "metadata": {
        "id": "VZyVYxx_KlVZ",
        "colab_type": "code",
        "outputId": "6f89644e-eabc-4af8-9fd4-63fba50dc00a",
        "colab": {
          "base_uri": "https://localhost:8080/",
          "height": 34
        }
      },
      "source": [
        "# Now we can see that both classes are balanced\n",
        "\n",
        "print(count0,count1)"
      ],
      "execution_count": 0,
      "outputs": [
        {
          "output_type": "stream",
          "text": [
            "9456 9456\n"
          ],
          "name": "stdout"
        }
      ]
    },
    {
      "cell_type": "code",
      "metadata": {
        "id": "KvcmGxvL7fsX",
        "colab_type": "code",
        "outputId": "dad4423f-8a18-4998-c0e5-fce2008c67bc",
        "colab": {
          "base_uri": "https://localhost:8080/",
          "height": 34
        }
      },
      "source": [
        "y_train_over.shape"
      ],
      "execution_count": 0,
      "outputs": [
        {
          "output_type": "execute_result",
          "data": {
            "text/plain": [
              "(18912,)"
            ]
          },
          "metadata": {
            "tags": []
          },
          "execution_count": 57
        }
      ]
    },
    {
      "cell_type": "code",
      "metadata": {
        "id": "OoNcUK2u7lyK",
        "colab_type": "code",
        "colab": {}
      },
      "source": [
        "# now finally classes are balanced"
      ],
      "execution_count": 0,
      "outputs": []
    },
    {
      "cell_type": "markdown",
      "metadata": {
        "id": "_gQ86mRDtpHF",
        "colab_type": "text"
      },
      "source": [
        "# Using Glove Vectors\n"
      ]
    },
    {
      "cell_type": "code",
      "metadata": {
        "id": "D8ykxWpUuE3i",
        "colab_type": "code",
        "colab": {}
      },
      "source": [
        "glove_vectors = dict()"
      ],
      "execution_count": 0,
      "outputs": []
    },
    {
      "cell_type": "code",
      "metadata": {
        "id": "84Vk4kxSwezR",
        "colab_type": "code",
        "colab": {}
      },
      "source": [
        "file = open('/content/drive/My Drive/glove.twitter.27B.25d.txt',encoding = 'utf-8')\n",
        "\n",
        "for line in file:\n",
        "  values = line.split()\n",
        "  word = values[0]\n",
        "  vectors = np.asarray(values[1:])\n",
        "  glove_vectors[word] = vectors\n",
        "file.close()"
      ],
      "execution_count": 0,
      "outputs": []
    },
    {
      "cell_type": "code",
      "metadata": {
        "id": "wMZ7ufBrxbJN",
        "colab_type": "code",
        "outputId": "6ffbff37-48eb-4120-f929-8bf17d2b4892",
        "colab": {
          "base_uri": "https://localhost:8080/",
          "height": 34
        }
      },
      "source": [
        "#There are 1193514 words with their vectors here\n",
        "len(glove_vectors.keys())"
      ],
      "execution_count": 0,
      "outputs": [
        {
          "output_type": "execute_result",
          "data": {
            "text/plain": [
              "1193514"
            ]
          },
          "metadata": {
            "tags": []
          },
          "execution_count": 60
        }
      ]
    },
    {
      "cell_type": "code",
      "metadata": {
        "id": "nWttvZMwyAl6",
        "colab_type": "code",
        "outputId": "5606d067-c9f4-41f9-dc1f-747e39e56597",
        "colab": {
          "base_uri": "https://localhost:8080/",
          "height": 102
        }
      },
      "source": [
        "#Global Vector Representation of word him\n",
        "glove_vectors.get('him')"
      ],
      "execution_count": 0,
      "outputs": [
        {
          "output_type": "execute_result",
          "data": {
            "text/plain": [
              "array(['-0.33672', '0.66134', '0.2701', '0.92599', '-0.73521', '-0.71368',\n",
              "       '0.58595', '0.051236', '-0.96658', '0.17068', '-0.64852', '1.0565',\n",
              "       '-5.6538', '-0.34841', '0.21554', '-0.16274', '0.39151', '-1.0089',\n",
              "       '-0.18985', '-1.0105', '0.16037', '0.59365', '0.53513', '-0.13699',\n",
              "       '-0.84796'], dtype='<U8')"
            ]
          },
          "metadata": {
            "tags": []
          },
          "execution_count": 61
        }
      ]
    },
    {
      "cell_type": "code",
      "metadata": {
        "id": "FfwwTvNR3giV",
        "colab_type": "code",
        "colab": {}
      },
      "source": [
        "# Creating a word and correspoding vector matrix and finding out which words arent present in glove\n",
        "word_vector_matrix = np.zeros((vocab_size, 25))\n",
        "unavailable = 0\n",
        "\n",
        "for word, index in tokenizer.word_index.items():\n",
        "  vector = glove_vectors.get(word)\n",
        "  if vector is not None:\n",
        "    word_vector_matrix[index] = vector\n",
        "  else:\n",
        "    unavailable = unavailable + 1\n",
        "    print(word)"
      ],
      "execution_count": 0,
      "outputs": []
    },
    {
      "cell_type": "code",
      "metadata": {
        "id": "Xjos-kgRLrvl",
        "colab_type": "code",
        "outputId": "c9f1582d-620e-464c-cb16-984727db6a79",
        "colab": {
          "base_uri": "https://localhost:8080/",
          "height": 34
        }
      },
      "source": [
        "unavailable"
      ],
      "execution_count": 0,
      "outputs": [
        {
          "output_type": "execute_result",
          "data": {
            "text/plain": [
              "96005"
            ]
          },
          "metadata": {
            "tags": []
          },
          "execution_count": 64
        }
      ]
    },
    {
      "cell_type": "code",
      "metadata": {
        "id": "0qf-UD78L9lO",
        "colab_type": "code",
        "colab": {}
      },
      "source": [
        "# Out of 171,533 words , 96005 are unavailable in glove. This can cause potential problem\n",
        "# This problem can be removed by using customised word2vec modelling using all these words"
      ],
      "execution_count": 0,
      "outputs": []
    },
    {
      "cell_type": "code",
      "metadata": {
        "id": "tBOMaUZNykWa",
        "colab_type": "code",
        "colab": {}
      },
      "source": [
        "#Now we will search for vectors of words in our dataset and build model"
      ],
      "execution_count": 0,
      "outputs": []
    },
    {
      "cell_type": "code",
      "metadata": {
        "id": "CwYUn_nA4mvv",
        "colab_type": "code",
        "outputId": "0eb69a6d-17df-4156-ba03-4486817e901d",
        "colab": {
          "base_uri": "https://localhost:8080/",
          "height": 136
        }
      },
      "source": [
        "X"
      ],
      "execution_count": 0,
      "outputs": [
        {
          "output_type": "execute_result",
          "data": {
            "text/plain": [
              "array([[  1230,    415,     51, ...,      0,      0,      0],\n",
              "       [   712,    173,   2946, ...,      0,      0,      0],\n",
              "       [   838,     17,    922, ...,      0,      0,      0],\n",
              "       ...,\n",
              "       [  1373,      7,      3, ...,      0,      0,      0],\n",
              "       [171521,    896,    687, ...,      0,      0,      0],\n",
              "       [   896,    687,     15, ...,      0,      0,      0]], dtype=int32)"
            ]
          },
          "metadata": {
            "tags": []
          },
          "execution_count": 65
        }
      ]
    },
    {
      "cell_type": "code",
      "metadata": {
        "id": "4mfzkK8G40lO",
        "colab_type": "code",
        "colab": {}
      },
      "source": [
        "vec_size = 25\n",
        "max_length = 1500\n",
        "#The glove vectors are represented in 25 dimension"
      ],
      "execution_count": 0,
      "outputs": []
    },
    {
      "cell_type": "code",
      "metadata": {
        "id": "ZOgohPQvGPNg",
        "colab_type": "code",
        "colab": {}
      },
      "source": [
        "import tensorflow as tf"
      ],
      "execution_count": 0,
      "outputs": []
    },
    {
      "cell_type": "code",
      "metadata": {
        "id": "Oy_UJ23DVPHu",
        "colab_type": "code",
        "outputId": "77590690-315b-4eaf-992f-960f6f7c6b64",
        "colab": {
          "base_uri": "https://localhost:8080/",
          "height": 629
        }
      },
      "source": [
        "#Let's make a keras model\n",
        "\n",
        "model = tf.keras.Sequential()\n",
        "#Now we will add embedding layer telling how many words are there and which weights to use(the glove ones)\n",
        "model.add(Embedding(vocab_size, vec_size, input_length = max_length, weights = [word_vector_matrix], trainable = False))\n",
        "\n",
        "model.add(Conv1D(128, 8 ,activation = 'relu'))\n",
        "model.add(MaxPooling1D(2))\n",
        "model.add(Dropout(0.3))\n",
        "\n",
        "model.add(Conv1D(64, 4, activation = 'relu'))\n",
        "model.add(MaxPooling1D(2))\n",
        "model.add(Dropout(0.2))\n",
        "\n",
        "model.add(Conv1D(32, 2, activation = 'relu'))\n",
        "model.add(MaxPooling1D(2))\n",
        "model.add(Dropout(0.1))\n",
        "\n",
        "model.add(Flatten())\n",
        "model.add(Dense(16, activation = 'relu' ))\n",
        "model.add(Dense(8,activation = 'relu'))\n",
        "model.add(Dense(1, activation = 'sigmoid'))\n",
        "\n",
        "model.summary()\n"
      ],
      "execution_count": 0,
      "outputs": [
        {
          "output_type": "stream",
          "text": [
            "Model: \"sequential_1\"\n",
            "_________________________________________________________________\n",
            "Layer (type)                 Output Shape              Param #   \n",
            "=================================================================\n",
            "embedding_1 (Embedding)      (None, 1500, 25)          4288325   \n",
            "_________________________________________________________________\n",
            "conv1d_3 (Conv1D)            (None, 1493, 128)         25728     \n",
            "_________________________________________________________________\n",
            "max_pooling1d_3 (MaxPooling1 (None, 746, 128)          0         \n",
            "_________________________________________________________________\n",
            "dropout_3 (Dropout)          (None, 746, 128)          0         \n",
            "_________________________________________________________________\n",
            "conv1d_4 (Conv1D)            (None, 743, 64)           32832     \n",
            "_________________________________________________________________\n",
            "max_pooling1d_4 (MaxPooling1 (None, 371, 64)           0         \n",
            "_________________________________________________________________\n",
            "dropout_4 (Dropout)          (None, 371, 64)           0         \n",
            "_________________________________________________________________\n",
            "conv1d_5 (Conv1D)            (None, 370, 32)           4128      \n",
            "_________________________________________________________________\n",
            "max_pooling1d_5 (MaxPooling1 (None, 185, 32)           0         \n",
            "_________________________________________________________________\n",
            "dropout_5 (Dropout)          (None, 185, 32)           0         \n",
            "_________________________________________________________________\n",
            "flatten_1 (Flatten)          (None, 5920)              0         \n",
            "_________________________________________________________________\n",
            "dense_3 (Dense)              (None, 16)                94736     \n",
            "_________________________________________________________________\n",
            "dense_4 (Dense)              (None, 8)                 136       \n",
            "_________________________________________________________________\n",
            "dense_5 (Dense)              (None, 1)                 9         \n",
            "=================================================================\n",
            "Total params: 4,445,894\n",
            "Trainable params: 157,569\n",
            "Non-trainable params: 4,288,325\n",
            "_________________________________________________________________\n"
          ],
          "name": "stdout"
        }
      ]
    },
    {
      "cell_type": "code",
      "metadata": {
        "id": "S_CKy6F2XaiT",
        "colab_type": "code",
        "colab": {}
      },
      "source": [
        "# Adam Optimizer was used for Experiment\n",
        "adam = tf.keras.optimizers.Adadelta(learning_rate=0.001, rho=0.95)"
      ],
      "execution_count": 0,
      "outputs": []
    },
    {
      "cell_type": "code",
      "metadata": {
        "id": "zGyU-0XkXt1W",
        "colab_type": "code",
        "colab": {}
      },
      "source": [
        "model.compile(optimizer = 'adam', loss = 'binary_crossentropy', metrics = ['accuracy'])"
      ],
      "execution_count": 0,
      "outputs": []
    },
    {
      "cell_type": "code",
      "metadata": {
        "id": "D8MoeoaNM_vm",
        "colab_type": "code",
        "colab": {}
      },
      "source": [
        "X_train = np.array(X_train)\n",
        "X_test = np.array(X_test)\n",
        "y_train = np.array(y_train)\n",
        "y_test = np.array(y_test)"
      ],
      "execution_count": 0,
      "outputs": []
    },
    {
      "cell_type": "code",
      "metadata": {
        "id": "cANRWPgmBEMt",
        "colab_type": "code",
        "outputId": "da65a3d8-b83d-4bc5-f724-a16904ed3cd2",
        "colab": {
          "base_uri": "https://localhost:8080/",
          "height": 207
        }
      },
      "source": [
        "#Training the Model(Epochs can be tuned to get more Accuracy)\n",
        "epochs = 5\n",
        "batch_size = 15\n",
        "\n",
        "history = model.fit(X_train, y_train, epochs=epochs, batch_size=batch_size,validation_data = (X_test, y_test))"
      ],
      "execution_count": 0,
      "outputs": [
        {
          "output_type": "stream",
          "text": [
            "Epoch 1/5\n",
            "655/655 [==============================] - 114s 174ms/step - loss: 0.1657 - accuracy: 0.9631 - val_loss: 0.1634 - val_accuracy: 0.9613\n",
            "Epoch 2/5\n",
            "655/655 [==============================] - 111s 169ms/step - loss: 0.1614 - accuracy: 0.9631 - val_loss: 0.1664 - val_accuracy: 0.9613\n",
            "Epoch 3/5\n",
            "655/655 [==============================] - 111s 169ms/step - loss: 0.1580 - accuracy: 0.9631 - val_loss: 0.1645 - val_accuracy: 0.9613\n",
            "Epoch 4/5\n",
            "655/655 [==============================] - 111s 169ms/step - loss: 0.1510 - accuracy: 0.9629 - val_loss: 0.1645 - val_accuracy: 0.9613\n",
            "Epoch 5/5\n",
            "655/655 [==============================] - 111s 169ms/step - loss: 0.1437 - accuracy: 0.9629 - val_loss: 0.1581 - val_accuracy: 0.9613\n"
          ],
          "name": "stdout"
        }
      ]
    },
    {
      "cell_type": "code",
      "metadata": {
        "id": "rVbeHgGiHt2C",
        "colab_type": "code",
        "outputId": "a4b216a4-cc76-4716-9129-3c012cc30c58",
        "colab": {
          "base_uri": "https://localhost:8080/",
          "height": 545
        }
      },
      "source": [
        "acc = history.history['accuracy']\n",
        "val_acc = history.history['val_accuracy']\n",
        "loss = history.history['loss']\n",
        "val_loss = history.history['val_loss']\n",
        "\n",
        "epochs = range(len(acc))\n",
        "\n",
        "plt.plot(epochs, acc, 'r', label='Training accuracy')\n",
        "plt.plot(epochs, val_acc, 'b', label='Validation accuracy')\n",
        "plt.title('Training and validation accuracy')\n",
        "\n",
        "plt.figure()\n",
        "\n",
        "plt.plot(epochs, loss, 'r', label='Training Loss')\n",
        "plt.plot(epochs, val_loss, 'b', label='Validation Loss')\n",
        "plt.title('Training and validation loss')\n",
        "plt.legend()\n",
        "\n",
        "plt.show()"
      ],
      "execution_count": 0,
      "outputs": [
        {
          "output_type": "display_data",
          "data": {
            "image/png": "[encoded data removed]",
            "text/plain": [
              "<Figure size 432x288 with 1 Axes>"
            ]
          },
          "metadata": {
            "tags": [],
            "needs_background": "light"
          }
        },
        {
          "output_type": "display_data",
          "data": {
            "image/png": "[encoded data removed]",
            "text/plain": [
              "<Figure size 432x288 with 1 Axes>"
            ]
          },
          "metadata": {
            "tags": [],
            "needs_background": "light"
          }
        }
      ]
    },
    {
      "cell_type": "code",
      "metadata": {
        "id": "SD-8xnQMRhhQ",
        "colab_type": "code",
        "colab": {}
      },
      "source": [
        "y_pred = model.predict(X_test)"
      ],
      "execution_count": 0,
      "outputs": []
    },
    {
      "cell_type": "code",
      "metadata": {
        "id": "A_YWVJlAR1pU",
        "colab_type": "code",
        "outputId": "8c446044-93bb-4247-9e3b-ad3158749c04",
        "colab": {
          "base_uri": "https://localhost:8080/",
          "height": 34
        }
      },
      "source": [
        "y_pred.shape"
      ],
      "execution_count": 0,
      "outputs": [
        {
          "output_type": "execute_result",
          "data": {
            "text/plain": [
              "(2455, 1)"
            ]
          },
          "metadata": {
            "tags": []
          },
          "execution_count": 81
        }
      ]
    },
    {
      "cell_type": "code",
      "metadata": {
        "id": "wD4EH05kR-Dn",
        "colab_type": "code",
        "outputId": "07d2093b-bd26-48a1-c5be-af20d62ffdbf",
        "colab": {
          "base_uri": "https://localhost:8080/",
          "height": 34
        }
      },
      "source": [
        "# Creating a bias for final prediction\n",
        "\n",
        "y_predfinal = []\n",
        "for e in y_pred:\n",
        "  if e > 0.2:\n",
        "    y_predfinal.append(1)\n",
        "  else:\n",
        "    y_predfinal.append(0)\n",
        "  \n",
        "y_predfinal = np.array(y_predfinal)\n",
        "y_predfinal.shape"
      ],
      "execution_count": 0,
      "outputs": [
        {
          "output_type": "execute_result",
          "data": {
            "text/plain": [
              "(2455,)"
            ]
          },
          "metadata": {
            "tags": []
          },
          "execution_count": 83
        }
      ]
    },
    {
      "cell_type": "code",
      "metadata": {
        "id": "wNnnRNRpR4Ut",
        "colab_type": "code",
        "outputId": "98ee49c8-e85b-4a4c-a7b4-853ed67b3974",
        "colab": {
          "base_uri": "https://localhost:8080/",
          "height": 34
        }
      },
      "source": [
        "y_test.shape"
      ],
      "execution_count": 0,
      "outputs": [
        {
          "output_type": "execute_result",
          "data": {
            "text/plain": [
              "(2455,)"
            ]
          },
          "metadata": {
            "tags": []
          },
          "execution_count": 82
        }
      ]
    },
    {
      "cell_type": "code",
      "metadata": {
        "id": "Yqro_ptuRqVY",
        "colab_type": "code",
        "outputId": "f678c132-24aa-44cb-81e9-fac04afd155a",
        "colab": {
          "base_uri": "https://localhost:8080/",
          "height": 51
        }
      },
      "source": [
        "# The model Detects 2357 real News articles out of 2451 real Articles\n",
        "# The model Detects 1 fake article out of 4 fake articles\n",
        "\n",
        "from sklearn.metrics import confusion_matrix\n",
        "confusion_matrix(y_test,y_predfinal)"
      ],
      "execution_count": 0,
      "outputs": [
        {
          "output_type": "execute_result",
          "data": {
            "text/plain": [
              "array([[2357,    3],\n",
              "       [  94,    1]])"
            ]
          },
          "metadata": {
            "tags": []
          },
          "execution_count": 85
        }
      ]
    },
    {
      "cell_type": "code",
      "metadata": {
        "id": "KoAF6QLSSiyd",
        "colab_type": "code",
        "colab": {}
      },
      "source": [
        "# The above result will be our baseline, we will train own word2vec model and add attention to improve results"
      ],
      "execution_count": 0,
      "outputs": []
    }
  ]
}