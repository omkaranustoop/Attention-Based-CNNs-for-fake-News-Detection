{
  "nbformat": 4,
  "nbformat_minor": 0,
  "metadata": {
    "colab": {
      "name": "Custom Word2Vec + Customized AlexNet.ipynb",
      "provenance": [],
      "collapsed_sections": [],
      "toc_visible": true
    },
    "kernelspec": {
      "name": "python3",
      "display_name": "Python 3"
    }
  },
  "cells": [
    {
      "cell_type": "code",
      "metadata": {
        "id": "7sNTwoYCjT1p",
        "colab_type": "code",
        "outputId": "30ee3b49-cd0f-4d89-8f73-f139c129d6ee",
        "colab": {
          "base_uri": "https://localhost:8080/",
          "height": 34
        }
      },
      "source": [
        "import tensorflow as tf\n",
        "print(tf.__version__)"
      ],
      "execution_count": 0,
      "outputs": [
        {
          "output_type": "stream",
          "text": [
            "2.2.0\n"
          ],
          "name": "stdout"
        }
      ]
    },
    {
      "cell_type": "code",
      "metadata": {
        "id": "4fp9Qg0PqIRA",
        "colab_type": "code",
        "colab": {}
      },
      "source": [
        "from tensorflow.keras.preprocessing.text import Tokenizer #Tokenize words to numerical format\n",
        "from tensorflow.keras.preprocessing.sequence import pad_sequences #Every word must have same length for matrix representation\n",
        "from tensorflow.keras.models import Sequential\n",
        "from tensorflow.keras.layers import Dense,Flatten,Embedding,Activation, Dropout\n",
        "from tensorflow.keras.layers import Conv1D, MaxPooling1D, GlobalMaxPooling1D"
      ],
      "execution_count": 0,
      "outputs": []
    },
    {
      "cell_type": "code",
      "metadata": {
        "id": "zag9ZXlCrMX9",
        "colab_type": "code",
        "colab": {}
      },
      "source": [
        "import numpy as np\n",
        "import pandas as pd\n",
        "from numpy import array\n",
        "from sklearn.model_selection import train_test_split"
      ],
      "execution_count": 0,
      "outputs": []
    },
    {
      "cell_type": "markdown",
      "metadata": {
        "id": "d08vbSkExcn5",
        "colab_type": "text"
      },
      "source": [
        "# Exploratory Data Analysis"
      ]
    },
    {
      "cell_type": "code",
      "metadata": {
        "id": "1uNcgQEsrZBv",
        "colab_type": "code",
        "outputId": "d7abffdc-5026-494d-e820-af9653c31cbe",
        "colab": {
          "base_uri": "https://localhost:8080/",
          "height": 34
        }
      },
      "source": [
        "data = pd.read_csv('/content/drive/My Drive/fake.csv')\n",
        "data.shape"
      ],
      "execution_count": 0,
      "outputs": [
        {
          "output_type": "execute_result",
          "data": {
            "text/plain": [
              "(12999, 20)"
            ]
          },
          "metadata": {
            "tags": []
          },
          "execution_count": 5
        }
      ]
    },
    {
      "cell_type": "code",
      "metadata": {
        "id": "jI4H7z70tmLD",
        "colab_type": "code",
        "outputId": "c7984072-1526-4b1c-c24f-2684bf452e17",
        "colab": {
          "base_uri": "https://localhost:8080/",
          "height": 598
        }
      },
      "source": [
        "data.head(5)"
      ],
      "execution_count": 0,
      "outputs": [
        {
          "output_type": "execute_result",
          "data": {
            "text/html": [
              "<div>\n",
              "<style scoped>\n",
              "    .dataframe tbody tr th:only-of-type {\n",
              "        vertical-align: middle;\n",
              "    }\n",
              "\n",
              "    .dataframe tbody tr th {\n",
              "        vertical-align: top;\n",
              "    }\n",
              "\n",
              "    .dataframe thead th {\n",
              "        text-align: right;\n",
              "    }\n",
              "</style>\n",
              "<table border=\"1\" class=\"dataframe\">\n",
              "  <thead>\n",
              "    <tr style=\"text-align: right;\">\n",
              "      <th></th>\n",
              "      <th>uuid</th>\n",
              "      <th>ord_in_thread</th>\n",
              "      <th>author</th>\n",
              "      <th>published</th>\n",
              "      <th>title</th>\n",
              "      <th>text</th>\n",
              "      <th>language</th>\n",
              "      <th>crawled</th>\n",
              "      <th>site_url</th>\n",
              "      <th>country</th>\n",
              "      <th>domain_rank</th>\n",
              "      <th>thread_title</th>\n",
              "      <th>spam_score</th>\n",
              "      <th>main_img_url</th>\n",
              "      <th>replies_count</th>\n",
              "      <th>participants_count</th>\n",
              "      <th>likes</th>\n",
              "      <th>comments</th>\n",
              "      <th>shares</th>\n",
              "      <th>type</th>\n",
              "    </tr>\n",
              "  </thead>\n",
              "  <tbody>\n",
              "    <tr>\n",
              "      <th>0</th>\n",
              "      <td>6a175f46bcd24d39b3e962ad0f29936721db70db</td>\n",
              "      <td>0</td>\n",
              "      <td>Barracuda Brigade</td>\n",
              "      <td>2016-10-26T21:41:00.000+03:00</td>\n",
              "      <td>Muslims BUSTED: They Stole Millions In Gov’t B...</td>\n",
              "      <td>Print They should pay all the back all the mon...</td>\n",
              "      <td>english</td>\n",
              "      <td>2016-10-27T01:49:27.168+03:00</td>\n",
              "      <td>100percentfedup.com</td>\n",
              "      <td>US</td>\n",
              "      <td>25689.0</td>\n",
              "      <td>Muslims BUSTED: They Stole Millions In Gov’t B...</td>\n",
              "      <td>0.000</td>\n",
              "      <td>http://bb4sp.com/wp-content/uploads/2016/10/Fu...</td>\n",
              "      <td>0</td>\n",
              "      <td>1</td>\n",
              "      <td>0</td>\n",
              "      <td>0</td>\n",
              "      <td>0</td>\n",
              "      <td>bias</td>\n",
              "    </tr>\n",
              "    <tr>\n",
              "      <th>1</th>\n",
              "      <td>2bdc29d12605ef9cf3f09f9875040a7113be5d5b</td>\n",
              "      <td>0</td>\n",
              "      <td>reasoning with facts</td>\n",
              "      <td>2016-10-29T08:47:11.259+03:00</td>\n",
              "      <td>Re: Why Did Attorney General Loretta Lynch Ple...</td>\n",
              "      <td>Why Did Attorney General Loretta Lynch Plead T...</td>\n",
              "      <td>english</td>\n",
              "      <td>2016-10-29T08:47:11.259+03:00</td>\n",
              "      <td>100percentfedup.com</td>\n",
              "      <td>US</td>\n",
              "      <td>25689.0</td>\n",
              "      <td>Re: Why Did Attorney General Loretta Lynch Ple...</td>\n",
              "      <td>0.000</td>\n",
              "      <td>http://bb4sp.com/wp-content/uploads/2016/10/Fu...</td>\n",
              "      <td>0</td>\n",
              "      <td>1</td>\n",
              "      <td>0</td>\n",
              "      <td>0</td>\n",
              "      <td>0</td>\n",
              "      <td>bias</td>\n",
              "    </tr>\n",
              "    <tr>\n",
              "      <th>2</th>\n",
              "      <td>c70e149fdd53de5e61c29281100b9de0ed268bc3</td>\n",
              "      <td>0</td>\n",
              "      <td>Barracuda Brigade</td>\n",
              "      <td>2016-10-31T01:41:49.479+02:00</td>\n",
              "      <td>BREAKING: Weiner Cooperating With FBI On Hilla...</td>\n",
              "      <td>Red State : \\nFox News Sunday reported this mo...</td>\n",
              "      <td>english</td>\n",
              "      <td>2016-10-31T01:41:49.479+02:00</td>\n",
              "      <td>100percentfedup.com</td>\n",
              "      <td>US</td>\n",
              "      <td>25689.0</td>\n",
              "      <td>BREAKING: Weiner Cooperating With FBI On Hilla...</td>\n",
              "      <td>0.000</td>\n",
              "      <td>http://bb4sp.com/wp-content/uploads/2016/10/Fu...</td>\n",
              "      <td>0</td>\n",
              "      <td>1</td>\n",
              "      <td>0</td>\n",
              "      <td>0</td>\n",
              "      <td>0</td>\n",
              "      <td>bias</td>\n",
              "    </tr>\n",
              "    <tr>\n",
              "      <th>3</th>\n",
              "      <td>7cf7c15731ac2a116dd7f629bd57ea468ed70284</td>\n",
              "      <td>0</td>\n",
              "      <td>Fed Up</td>\n",
              "      <td>2016-11-01T05:22:00.000+02:00</td>\n",
              "      <td>PIN DROP SPEECH BY FATHER OF DAUGHTER Kidnappe...</td>\n",
              "      <td>Email Kayla Mueller was a prisoner and torture...</td>\n",
              "      <td>english</td>\n",
              "      <td>2016-11-01T15:46:26.304+02:00</td>\n",
              "      <td>100percentfedup.com</td>\n",
              "      <td>US</td>\n",
              "      <td>25689.0</td>\n",
              "      <td>PIN DROP SPEECH BY FATHER OF DAUGHTER Kidnappe...</td>\n",
              "      <td>0.068</td>\n",
              "      <td>http://100percentfedup.com/wp-content/uploads/...</td>\n",
              "      <td>0</td>\n",
              "      <td>0</td>\n",
              "      <td>0</td>\n",
              "      <td>0</td>\n",
              "      <td>0</td>\n",
              "      <td>bias</td>\n",
              "    </tr>\n",
              "    <tr>\n",
              "      <th>4</th>\n",
              "      <td>0206b54719c7e241ffe0ad4315b808290dbe6c0f</td>\n",
              "      <td>0</td>\n",
              "      <td>Fed Up</td>\n",
              "      <td>2016-11-01T21:56:00.000+02:00</td>\n",
              "      <td>FANTASTIC! TRUMP'S 7 POINT PLAN To Reform Heal...</td>\n",
              "      <td>Email HEALTHCARE REFORM TO MAKE AMERICA GREAT ...</td>\n",
              "      <td>english</td>\n",
              "      <td>2016-11-01T23:59:42.266+02:00</td>\n",
              "      <td>100percentfedup.com</td>\n",
              "      <td>US</td>\n",
              "      <td>25689.0</td>\n",
              "      <td>FANTASTIC! TRUMP'S 7 POINT PLAN To Reform Heal...</td>\n",
              "      <td>0.865</td>\n",
              "      <td>http://100percentfedup.com/wp-content/uploads/...</td>\n",
              "      <td>0</td>\n",
              "      <td>0</td>\n",
              "      <td>0</td>\n",
              "      <td>0</td>\n",
              "      <td>0</td>\n",
              "      <td>bias</td>\n",
              "    </tr>\n",
              "  </tbody>\n",
              "</table>\n",
              "</div>"
            ],
            "text/plain": [
              "                                       uuid  ord_in_thread  ... shares  type\n",
              "0  6a175f46bcd24d39b3e962ad0f29936721db70db              0  ...      0  bias\n",
              "1  2bdc29d12605ef9cf3f09f9875040a7113be5d5b              0  ...      0  bias\n",
              "2  c70e149fdd53de5e61c29281100b9de0ed268bc3              0  ...      0  bias\n",
              "3  7cf7c15731ac2a116dd7f629bd57ea468ed70284              0  ...      0  bias\n",
              "4  0206b54719c7e241ffe0ad4315b808290dbe6c0f              0  ...      0  bias\n",
              "\n",
              "[5 rows x 20 columns]"
            ]
          },
          "metadata": {
            "tags": []
          },
          "execution_count": 5
        }
      ]
    },
    {
      "cell_type": "code",
      "metadata": {
        "id": "4Ixy4Aaztsx9",
        "colab_type": "code",
        "outputId": "66d0e256-b957-4c03-9b80-9319f3604654",
        "colab": {
          "base_uri": "https://localhost:8080/",
          "height": 564
        }
      },
      "source": [
        "data.tail(5)"
      ],
      "execution_count": 0,
      "outputs": [
        {
          "output_type": "execute_result",
          "data": {
            "text/html": [
              "<div>\n",
              "<style scoped>\n",
              "    .dataframe tbody tr th:only-of-type {\n",
              "        vertical-align: middle;\n",
              "    }\n",
              "\n",
              "    .dataframe tbody tr th {\n",
              "        vertical-align: top;\n",
              "    }\n",
              "\n",
              "    .dataframe thead th {\n",
              "        text-align: right;\n",
              "    }\n",
              "</style>\n",
              "<table border=\"1\" class=\"dataframe\">\n",
              "  <thead>\n",
              "    <tr style=\"text-align: right;\">\n",
              "      <th></th>\n",
              "      <th>uuid</th>\n",
              "      <th>ord_in_thread</th>\n",
              "      <th>author</th>\n",
              "      <th>published</th>\n",
              "      <th>title</th>\n",
              "      <th>text</th>\n",
              "      <th>language</th>\n",
              "      <th>crawled</th>\n",
              "      <th>site_url</th>\n",
              "      <th>country</th>\n",
              "      <th>domain_rank</th>\n",
              "      <th>thread_title</th>\n",
              "      <th>spam_score</th>\n",
              "      <th>main_img_url</th>\n",
              "      <th>replies_count</th>\n",
              "      <th>participants_count</th>\n",
              "      <th>likes</th>\n",
              "      <th>comments</th>\n",
              "      <th>shares</th>\n",
              "      <th>type</th>\n",
              "    </tr>\n",
              "  </thead>\n",
              "  <tbody>\n",
              "    <tr>\n",
              "      <th>12994</th>\n",
              "      <td>f1b5d0e44803f48732bde854a9fdf95837219b12</td>\n",
              "      <td>2</td>\n",
              "      <td>replaceme</td>\n",
              "      <td>2016-10-26T23:58:00.000+03:00</td>\n",
              "      <td>NaN</td>\n",
              "      <td>It DOES allow you to put a dog face on top of ...</td>\n",
              "      <td>english</td>\n",
              "      <td>2016-10-27T00:37:46.194+03:00</td>\n",
              "      <td>zerohedge.com</td>\n",
              "      <td>US</td>\n",
              "      <td>2435.0</td>\n",
              "      <td>Snapchat To Raise Up To $4 Billion In IPO, Val...</td>\n",
              "      <td>0.0</td>\n",
              "      <td>NaN</td>\n",
              "      <td>40</td>\n",
              "      <td>32</td>\n",
              "      <td>0</td>\n",
              "      <td>0</td>\n",
              "      <td>0</td>\n",
              "      <td>bs</td>\n",
              "    </tr>\n",
              "    <tr>\n",
              "      <th>12995</th>\n",
              "      <td>36011ceba3647e1bea78299b68b6fb705a1fc1ad</td>\n",
              "      <td>3</td>\n",
              "      <td>Freedumb</td>\n",
              "      <td>2016-10-27T00:02:00.000+03:00</td>\n",
              "      <td>NaN</td>\n",
              "      <td>Wait till you see what happens to the valuatio...</td>\n",
              "      <td>english</td>\n",
              "      <td>2016-10-27T00:37:46.220+03:00</td>\n",
              "      <td>zerohedge.com</td>\n",
              "      <td>US</td>\n",
              "      <td>2435.0</td>\n",
              "      <td>Snapchat To Raise Up To $4 Billion In IPO, Val...</td>\n",
              "      <td>0.0</td>\n",
              "      <td>NaN</td>\n",
              "      <td>40</td>\n",
              "      <td>32</td>\n",
              "      <td>0</td>\n",
              "      <td>0</td>\n",
              "      <td>0</td>\n",
              "      <td>bs</td>\n",
              "    </tr>\n",
              "    <tr>\n",
              "      <th>12996</th>\n",
              "      <td>6995d1aa9ac99926106489b14b5530e85358059a</td>\n",
              "      <td>4</td>\n",
              "      <td>major major maj...</td>\n",
              "      <td>2016-10-27T00:06:00.000+03:00</td>\n",
              "      <td>NaN</td>\n",
              "      <td>I'm waiting for the one that puts a pussy on m...</td>\n",
              "      <td>english</td>\n",
              "      <td>2016-10-27T00:37:46.244+03:00</td>\n",
              "      <td>zerohedge.com</td>\n",
              "      <td>US</td>\n",
              "      <td>2435.0</td>\n",
              "      <td>Snapchat To Raise Up To $4 Billion In IPO, Val...</td>\n",
              "      <td>0.0</td>\n",
              "      <td>NaN</td>\n",
              "      <td>40</td>\n",
              "      <td>32</td>\n",
              "      <td>0</td>\n",
              "      <td>0</td>\n",
              "      <td>0</td>\n",
              "      <td>bs</td>\n",
              "    </tr>\n",
              "    <tr>\n",
              "      <th>12997</th>\n",
              "      <td>7de8ae90eee164eb756db6c8a3772288e11d7a94</td>\n",
              "      <td>5</td>\n",
              "      <td>beemasters</td>\n",
              "      <td>2016-10-27T00:09:00.000+03:00</td>\n",
              "      <td>NaN</td>\n",
              "      <td>$4 Billion even after they are known to be kee...</td>\n",
              "      <td>english</td>\n",
              "      <td>2016-10-27T00:37:46.247+03:00</td>\n",
              "      <td>zerohedge.com</td>\n",
              "      <td>US</td>\n",
              "      <td>2435.0</td>\n",
              "      <td>Snapchat To Raise Up To $4 Billion In IPO, Val...</td>\n",
              "      <td>0.0</td>\n",
              "      <td>NaN</td>\n",
              "      <td>40</td>\n",
              "      <td>32</td>\n",
              "      <td>0</td>\n",
              "      <td>0</td>\n",
              "      <td>0</td>\n",
              "      <td>bs</td>\n",
              "    </tr>\n",
              "    <tr>\n",
              "      <th>12998</th>\n",
              "      <td>dabef7095b7d9dae6eb0d83c4cbb40b85efd7ae5</td>\n",
              "      <td>6</td>\n",
              "      <td>i&amp;#039;m-confused</td>\n",
              "      <td>2016-10-27T00:09:00.000+03:00</td>\n",
              "      <td>NaN</td>\n",
              "      <td>of course - how else would they disceminate te...</td>\n",
              "      <td>english</td>\n",
              "      <td>2016-10-27T00:37:46.260+03:00</td>\n",
              "      <td>zerohedge.com</td>\n",
              "      <td>US</td>\n",
              "      <td>2435.0</td>\n",
              "      <td>Snapchat To Raise Up To $4 Billion In IPO, Val...</td>\n",
              "      <td>0.0</td>\n",
              "      <td>NaN</td>\n",
              "      <td>40</td>\n",
              "      <td>32</td>\n",
              "      <td>0</td>\n",
              "      <td>0</td>\n",
              "      <td>0</td>\n",
              "      <td>bs</td>\n",
              "    </tr>\n",
              "  </tbody>\n",
              "</table>\n",
              "</div>"
            ],
            "text/plain": [
              "                                           uuid  ord_in_thread  ... shares type\n",
              "12994  f1b5d0e44803f48732bde854a9fdf95837219b12              2  ...      0   bs\n",
              "12995  36011ceba3647e1bea78299b68b6fb705a1fc1ad              3  ...      0   bs\n",
              "12996  6995d1aa9ac99926106489b14b5530e85358059a              4  ...      0   bs\n",
              "12997  7de8ae90eee164eb756db6c8a3772288e11d7a94              5  ...      0   bs\n",
              "12998  dabef7095b7d9dae6eb0d83c4cbb40b85efd7ae5              6  ...      0   bs\n",
              "\n",
              "[5 rows x 20 columns]"
            ]
          },
          "metadata": {
            "tags": []
          },
          "execution_count": 6
        }
      ]
    },
    {
      "cell_type": "code",
      "metadata": {
        "id": "UTbNRbhJvA_W",
        "colab_type": "code",
        "colab": {}
      },
      "source": [
        "# Lets create y_label i.e Spam or not by Creating a Bias\n",
        "# Any article with spam level >0.2 is marked as spam\n",
        "\n",
        "y_data = []\n",
        "for e in data['spam_score']:\n",
        "  if e > 0.2:\n",
        "    y_data.append(1)\n",
        "  else:\n",
        "    y_data.append(0)"
      ],
      "execution_count": 0,
      "outputs": []
    },
    {
      "cell_type": "code",
      "metadata": {
        "id": "a8l9aHjsvTjX",
        "colab_type": "code",
        "outputId": "c37f087f-40d1-4e64-ee1a-4bdc2a6666d2",
        "colab": {
          "base_uri": "https://localhost:8080/",
          "height": 34
        }
      },
      "source": [
        "len(y_data)"
      ],
      "execution_count": 0,
      "outputs": [
        {
          "output_type": "execute_result",
          "data": {
            "text/plain": [
              "12999"
            ]
          },
          "metadata": {
            "tags": []
          },
          "execution_count": 8
        }
      ]
    },
    {
      "cell_type": "code",
      "metadata": {
        "id": "bUFdvnz1vhXb",
        "colab_type": "code",
        "colab": {}
      },
      "source": [
        "count_0 = 0\n",
        "count_1 = 0\n",
        "for e in y_data:\n",
        "  if(e == 1):\n",
        "    count_1 = count_1 + 1\n",
        "  else:\n",
        "    count_0 = count_0 + 1"
      ],
      "execution_count": 0,
      "outputs": []
    },
    {
      "cell_type": "code",
      "metadata": {
        "id": "vZyU4pTnvt2v",
        "colab_type": "code",
        "outputId": "5a482bde-2f7e-4fd7-ff37-a1fdcbed2e0a",
        "colab": {
          "base_uri": "https://localhost:8080/",
          "height": 34
        }
      },
      "source": [
        "print(count_0)"
      ],
      "execution_count": 0,
      "outputs": [
        {
          "output_type": "stream",
          "text": [
            "12499\n"
          ],
          "name": "stdout"
        }
      ]
    },
    {
      "cell_type": "code",
      "metadata": {
        "id": "msmYWNnkvwHw",
        "colab_type": "code",
        "outputId": "dfc75fce-91a4-40fb-b346-5a598958056b",
        "colab": {
          "base_uri": "https://localhost:8080/",
          "height": 34
        }
      },
      "source": [
        "print(count_1)"
      ],
      "execution_count": 0,
      "outputs": [
        {
          "output_type": "stream",
          "text": [
            "500\n"
          ],
          "name": "stdout"
        }
      ]
    },
    {
      "cell_type": "code",
      "metadata": {
        "id": "xl-opoi_gxj6",
        "colab_type": "code",
        "colab": {}
      },
      "source": [
        "# Clearly the Above analysis shows imbalanced dataset"
      ],
      "execution_count": 0,
      "outputs": []
    },
    {
      "cell_type": "code",
      "metadata": {
        "id": "Qb5YcISMxzQ4",
        "colab_type": "code",
        "colab": {}
      },
      "source": [
        "# X_data is combination of text and title because content + title both can play a pivotal role in determining label\n",
        "\n",
        "X_data = data['text'] + data['title']"
      ],
      "execution_count": 0,
      "outputs": []
    },
    {
      "cell_type": "code",
      "metadata": {
        "id": "8lhtF4Wgx9t0",
        "colab_type": "code",
        "outputId": "3294008d-f912-4d8f-f8ec-e4bd18cc6e0b",
        "colab": {
          "base_uri": "https://localhost:8080/",
          "height": 34
        }
      },
      "source": [
        "X_data.shape"
      ],
      "execution_count": 0,
      "outputs": [
        {
          "output_type": "execute_result",
          "data": {
            "text/plain": [
              "(12999,)"
            ]
          },
          "metadata": {
            "tags": []
          },
          "execution_count": 13
        }
      ]
    },
    {
      "cell_type": "code",
      "metadata": {
        "id": "RjxRtIP430ef",
        "colab_type": "code",
        "outputId": "a7d75985-92c8-4d77-ea18-99bf62e56f10",
        "colab": {
          "base_uri": "https://localhost:8080/",
          "height": 54
        }
      },
      "source": [
        "# How a sample X_data looks like\n",
        "\n",
        "X_data[1000]"
      ],
      "execution_count": 0,
      "outputs": [
        {
          "output_type": "execute_result",
          "data": {
            "text/plain": [
              "'Email \\n\\nThe excitement over the US election is culminating as the due date is getting closer. Each candidate is trying to use any device at hand to denigrate the other and morality is the last thing to strike the minds of the candidates. The fact of the matter is that morality is a dead circle in the American politics. Hillary Clinton, the democratic candidate, uses f-word in a debate ( http://en.institutomanquehue.org/publications/news/did-hillary-clinton-mutter-donald-trump-debate.html ) watched by hundreds of millions of people around the world and finds no shame in it. Even American religious leaders believe that Clinton is not competent to be the president of a religious country like United States ( http://en.institutomanquehue.org/publications/news/christian-right-leader-hillary-clinton-hostile-biblical-christianity.html ). On the other hand, the GOP candidate, Donald trump , has no better condition. His sexual harassments and violent ideas towards women were shocking not only for female victims, but also for the dominant male group in America. The violent use of words to address different groups of people, mainly in social media ( http://en.institutomanquehue.org/publications/news/as-first-lady-melania-trump-wants-to-save-you-from-her-husband.html ) , made it hard for the parents to allow their kids to follow him. Besides, the number of women that accused Trump of groping and rape ( http://en.institutomanquehue.org/publications/news/list-women-accused-donald-trump-of-sexual-assault.html ) is increasing day by day and the list is running on. The so-called locker-room video of Trump talking dirty about women and his attitude towards them leaked to the public to be the final shot on the republican candidate, but it did not have that much affect. It seems that even grabbing “the women by the p…y” could not change their idea about Trump. \\nAll these information, some released by the opponent candidate and some by other sources mainly WikiLeaks, seems to have had little significance in the public orientation in choosing a candidate. This has less to do with the people than with the administration system and media empire in the United States. \\nThe fact that Trump does not talk about a rigged-election for respecting democracy and exercising the law is clear as a truth. His words that “I will accept the result of the election if I were chosen” is more like a joke than the words of a would-be president. What Assange is trying to say in his tweet is that the rig is being done on a higher level than the polls or the voting system. The whole administration and political system is rigged in America and the people will not choose a candidate; they are chosen to choose. This is the truth behind the weird public orientation towards election in spite of all the information released about the corruptions of the two candidates in mass media. The fact that the media and the political system are rigging the election in a latent mode is the key to the question raised about the mysteries of the American election.Rigged Primary, Media, and Candidate; the American Rigged System'"
            ]
          },
          "metadata": {
            "tags": []
          },
          "execution_count": 12
        }
      ]
    },
    {
      "cell_type": "markdown",
      "metadata": {
        "id": "4HSowvt72Orw",
        "colab_type": "text"
      },
      "source": [
        "# Cleaning and Tokenizing X_data and y_data"
      ]
    },
    {
      "cell_type": "code",
      "metadata": {
        "id": "biBejCo62V5-",
        "colab_type": "code",
        "outputId": "de4c30c9-72cb-40c1-913f-f101992a4e69",
        "colab": {
          "base_uri": "https://localhost:8080/",
          "height": 51
        }
      },
      "source": [
        "import matplotlib.pyplot as plt\n",
        "from bs4 import BeautifulSoup\n",
        "import re\n",
        "import nltk\n",
        "nltk.download('stopwords')\n",
        "from nltk.corpus import stopwords"
      ],
      "execution_count": 0,
      "outputs": [
        {
          "output_type": "stream",
          "text": [
            "[nltk_data] Downloading package stopwords to /root/nltk_data...\n",
            "[nltk_data]   Unzipping corpora/stopwords.zip.\n"
          ],
          "name": "stdout"
        }
      ]
    },
    {
      "cell_type": "code",
      "metadata": {
        "id": "qrqDH7IY2ip_",
        "colab_type": "code",
        "colab": {}
      },
      "source": [
        "#Data Pre-Processing(Treating Symbols and Stopwords Present in Data)\n",
        "\n",
        "REPLACE_BY_SPACE_RE = re.compile('[/(){}\\[\\]\\|@,;]') #These Symbols will be replaced with Space\n",
        "BAD_SYMBOLS_RE = re.compile('[^0-9a-z #+_]')         #These Symbols will be Removed from Text\n",
        "STOPWORDS = set(stopwords.words('english')) "
      ],
      "execution_count": 0,
      "outputs": []
    },
    {
      "cell_type": "code",
      "metadata": {
        "id": "MxFr66Qn2l-3",
        "colab_type": "code",
        "colab": {}
      },
      "source": [
        "#Text Cleaning Functions\n",
        "\n",
        "def string_form(value):\n",
        "    return str(value)\n",
        "\n",
        "def clean_text(text):\n",
        "   \n",
        "    text = BeautifulSoup(text, \"lxml\").text\n",
        "    text = text.lower()  #LowerCase Text\n",
        "    text = REPLACE_BY_SPACE_RE.sub(' ', text) #Replace Certain Symbols by Space in Text\n",
        "    text = BAD_SYMBOLS_RE.sub('', text) #Delete Certain Symbols from Text\n",
        "    text = ' '.join(word for word in text.split() if word not in STOPWORDS) #Remove Stopwords from Text\n",
        "    return text"
      ],
      "execution_count": 0,
      "outputs": []
    },
    {
      "cell_type": "code",
      "metadata": {
        "id": "smodOObg2qS_",
        "colab_type": "code",
        "colab": {}
      },
      "source": [
        "# Text Pre-processing and cleaning operations\n",
        "\n",
        "X_data = X_data.apply(string_form)\n",
        "X_data = X_data.apply(clean_text)"
      ],
      "execution_count": 0,
      "outputs": []
    },
    {
      "cell_type": "code",
      "metadata": {
        "id": "WmagNjfU4OjY",
        "colab_type": "code",
        "colab": {}
      },
      "source": [
        "# Let us Remove all nan values\n",
        "\n",
        "X_data_final = []\n",
        "y_data_final = []\n",
        "\n",
        "for e in range(len(X_data)):\n",
        "  if(X_data[e] != 'nan'):\n",
        "    X_data_final.append(X_data[e])\n",
        "    y_data_final.append(y_data[e])"
      ],
      "execution_count": 0,
      "outputs": []
    },
    {
      "cell_type": "code",
      "metadata": {
        "id": "T4XPSEkP4uPh",
        "colab_type": "code",
        "outputId": "d3a29753-436b-4693-c705-e00bc0c8aa54",
        "colab": {
          "base_uri": "https://localhost:8080/",
          "height": 34
        }
      },
      "source": [
        "len(X_data_final)"
      ],
      "execution_count": 0,
      "outputs": [
        {
          "output_type": "execute_result",
          "data": {
            "text/plain": [
              "12273"
            ]
          },
          "metadata": {
            "tags": []
          },
          "execution_count": 18
        }
      ]
    },
    {
      "cell_type": "code",
      "metadata": {
        "id": "EwB117q540Ec",
        "colab_type": "code",
        "outputId": "14de8e57-6db1-4584-9b4d-01de6464de4b",
        "colab": {
          "base_uri": "https://localhost:8080/",
          "height": 34
        }
      },
      "source": [
        "len(y_data_final)"
      ],
      "execution_count": 0,
      "outputs": [
        {
          "output_type": "execute_result",
          "data": {
            "text/plain": [
              "12273"
            ]
          },
          "metadata": {
            "tags": []
          },
          "execution_count": 19
        }
      ]
    },
    {
      "cell_type": "code",
      "metadata": {
        "id": "cB0_lP_35ysh",
        "colab_type": "code",
        "colab": {}
      },
      "source": [
        "tokenizer = Tokenizer()\n",
        "tokenizer.fit_on_texts(X_data_final)"
      ],
      "execution_count": 0,
      "outputs": []
    },
    {
      "cell_type": "code",
      "metadata": {
        "id": "ed3sen1N5-G3",
        "colab_type": "code",
        "colab": {}
      },
      "source": [
        "# Let's see all the words tokenized\n",
        "\n",
        "vocab = tokenizer.index_word\n",
        "vocab"
      ],
      "execution_count": 0,
      "outputs": []
    },
    {
      "cell_type": "code",
      "metadata": {
        "id": "da4NWR0_6Lud",
        "colab_type": "code",
        "outputId": "3bff1d10-b54d-4e1e-c3da-f114e5338575",
        "colab": {
          "base_uri": "https://localhost:8080/",
          "height": 34
        }
      },
      "source": [
        "#We saw the tokenization of words\n",
        "#Now we will get length of vocabulary then do embedding\n",
        "vocab_size = len(tokenizer.word_index) + 1\n",
        "vocab_size"
      ],
      "execution_count": 0,
      "outputs": [
        {
          "output_type": "execute_result",
          "data": {
            "text/plain": [
              "171533"
            ]
          },
          "metadata": {
            "tags": []
          },
          "execution_count": 22
        }
      ]
    },
    {
      "cell_type": "code",
      "metadata": {
        "id": "tmBHLz0r6XUY",
        "colab_type": "code",
        "colab": {}
      },
      "source": [
        "# We have a staggering 171533 distinct words after text cleaning"
      ],
      "execution_count": 0,
      "outputs": []
    },
    {
      "cell_type": "code",
      "metadata": {
        "id": "SLmuyYTz6eH4",
        "colab_type": "code",
        "colab": {}
      },
      "source": [
        "#We have 28711 unique words\n",
        "encoded_text = tokenizer.texts_to_sequences(X_data_final)"
      ],
      "execution_count": 0,
      "outputs": []
    },
    {
      "cell_type": "code",
      "metadata": {
        "id": "6pHyDJ6W6n5X",
        "colab_type": "code",
        "outputId": "761af767-86c1-4210-e510-99615fe913b5",
        "colab": {
          "base_uri": "https://localhost:8080/",
          "height": 918
        }
      },
      "source": [
        "#This is text data tokenized and as present in dataset, i.e as sentences\n",
        "encoded_text[0]"
      ],
      "execution_count": 0,
      "outputs": [
        {
          "output_type": "execute_result",
          "data": {
            "text/plain": [
              "[1230,\n",
              " 415,\n",
              " 51,\n",
              " 97,\n",
              " 1541,\n",
              " 501,\n",
              " 340,\n",
              " 209,\n",
              " 390,\n",
              " 275,\n",
              " 77,\n",
              " 6432,\n",
              " 16035,\n",
              " 53,\n",
              " 36,\n",
              " 25,\n",
              " 9643,\n",
              " 61,\n",
              " 69,\n",
              " 156,\n",
              " 4428,\n",
              " 20,\n",
              " 3317,\n",
              " 156,\n",
              " 30275,\n",
              " 6086,\n",
              " 396,\n",
              " 135,\n",
              " 20,\n",
              " 1103,\n",
              " 176,\n",
              " 331,\n",
              " 825,\n",
              " 210,\n",
              " 1384,\n",
              " 798,\n",
              " 10,\n",
              " 5,\n",
              " 574,\n",
              " 1154,\n",
              " 1104,\n",
              " 2464,\n",
              " 683,\n",
              " 22313,\n",
              " 82760,\n",
              " 39,\n",
              " 139,\n",
              " 82761,\n",
              " 7402,\n",
              " 6086,\n",
              " 397,\n",
              " 3318,\n",
              " 1103]"
            ]
          },
          "metadata": {
            "tags": []
          },
          "execution_count": 24
        }
      ]
    },
    {
      "cell_type": "code",
      "metadata": {
        "id": "okL4lKJ3FLi-",
        "colab_type": "code",
        "outputId": "761e07f4-912b-4092-c1af-d9737c1cfd00",
        "colab": {
          "base_uri": "https://localhost:8080/",
          "height": 34
        }
      },
      "source": [
        "len(encoded_text)"
      ],
      "execution_count": 0,
      "outputs": [
        {
          "output_type": "execute_result",
          "data": {
            "text/plain": [
              "12273"
            ]
          },
          "metadata": {
            "tags": []
          },
          "execution_count": 25
        }
      ]
    },
    {
      "cell_type": "markdown",
      "metadata": {
        "id": "ZRj0H35RFtiQ",
        "colab_type": "text"
      },
      "source": [
        "# Finding Average Length of an article"
      ]
    },
    {
      "cell_type": "code",
      "metadata": {
        "id": "v9wntDufFPCp",
        "colab_type": "code",
        "outputId": "a70f3270-c0b8-4216-d84b-0f76e230bc1d",
        "colab": {
          "base_uri": "https://localhost:8080/",
          "height": 34
        }
      },
      "source": [
        "# We want to keep articles which have minimum 100 words and maximum 1500 words to prevent under-fitting and over-fitting\n",
        "\n",
        "min = 100\n",
        "max = 1500\n",
        "count = 0\n",
        "for e in encoded_text:\n",
        "  if(len(e) > min and len(e) < max):\n",
        "    count = count + 1\n",
        "  \n",
        "count"
      ],
      "execution_count": 0,
      "outputs": [
        {
          "output_type": "execute_result",
          "data": {
            "text/plain": [
              "9461"
            ]
          },
          "metadata": {
            "tags": []
          },
          "execution_count": 26
        }
      ]
    },
    {
      "cell_type": "code",
      "metadata": {
        "id": "310zV-bEGXbh",
        "colab_type": "code",
        "colab": {}
      },
      "source": [
        "# By trial and error it is observed that 9461 artciles out of 12773 fall between 100 and 1500 words\n",
        "# Hence, we pad sequences to length 1500 to take care of bulk of the articles"
      ],
      "execution_count": 0,
      "outputs": []
    },
    {
      "cell_type": "code",
      "metadata": {
        "id": "BUjbJWnP62z7",
        "colab_type": "code",
        "colab": {}
      },
      "source": [
        "#Max length of any text sequence in the dataset\n",
        "\n",
        "max_length = 1500\n",
        "X = pad_sequences(encoded_text, maxlen = max_length, padding = 'post')"
      ],
      "execution_count": 0,
      "outputs": []
    },
    {
      "cell_type": "code",
      "metadata": {
        "id": "rw6tDf5O67MM",
        "colab_type": "code",
        "outputId": "cbf49ca2-7884-41f9-baf8-49522dcdb18a",
        "colab": {
          "base_uri": "https://localhost:8080/",
          "height": 136
        }
      },
      "source": [
        "print(X)"
      ],
      "execution_count": 0,
      "outputs": [
        {
          "output_type": "stream",
          "text": [
            "[[  1230    415     51 ...      0      0      0]\n",
            " [   712    173   2946 ...      0      0      0]\n",
            " [   838     17    922 ...      0      0      0]\n",
            " ...\n",
            " [  1373      7      3 ...      0      0      0]\n",
            " [171521    896    687 ...      0      0      0]\n",
            " [   896    687     15 ...      0      0      0]]\n"
          ],
          "name": "stdout"
        }
      ]
    },
    {
      "cell_type": "code",
      "metadata": {
        "id": "4T-EQ5G-7ClI",
        "colab_type": "code",
        "outputId": "095bff5c-a8d8-4ee4-b686-76783711a2a7",
        "colab": {
          "base_uri": "https://localhost:8080/",
          "height": 34
        }
      },
      "source": [
        "X.shape"
      ],
      "execution_count": 0,
      "outputs": [
        {
          "output_type": "execute_result",
          "data": {
            "text/plain": [
              "(12273, 1500)"
            ]
          },
          "metadata": {
            "tags": []
          },
          "execution_count": 31
        }
      ]
    },
    {
      "cell_type": "code",
      "metadata": {
        "id": "8x0dd-UdKEqU",
        "colab_type": "code",
        "outputId": "9d2a9e1e-cbc0-4d28-ab3d-63174fb7a36f",
        "colab": {
          "base_uri": "https://localhost:8080/",
          "height": 34
        }
      },
      "source": [
        "X[0]"
      ],
      "execution_count": 0,
      "outputs": [
        {
          "output_type": "execute_result",
          "data": {
            "text/plain": [
              "array([1230,  415,   51, ...,    0,    0,    0], dtype=int32)"
            ]
          },
          "metadata": {
            "tags": []
          },
          "execution_count": 29
        }
      ]
    },
    {
      "cell_type": "code",
      "metadata": {
        "id": "M3-A4GmZ7JNp",
        "colab_type": "code",
        "colab": {}
      },
      "source": [
        "# Now finally we have X as cleaned, tokenized and padded X_data and y_data_final as y_data"
      ],
      "execution_count": 0,
      "outputs": []
    },
    {
      "cell_type": "code",
      "metadata": {
        "id": "hG8XcaNr0XAS",
        "colab_type": "code",
        "colab": {}
      },
      "source": [
        "# Now that we have X_data and y_data we will split them\n",
        "\n",
        "from sklearn.model_selection import train_test_split\n",
        "X_train, X_test, y_train , y_test = train_test_split(X,y_data_final, test_size = 0.2)"
      ],
      "execution_count": 0,
      "outputs": []
    },
    {
      "cell_type": "code",
      "metadata": {
        "id": "OWRrTCp5v5bX",
        "colab_type": "code",
        "colab": {}
      },
      "source": [
        "#Since the Dataset is Un-Balanced we need to apply Over-Sampling\n",
        "#We need to tokenize and pad X_train and X_test before applying smote"
      ],
      "execution_count": 0,
      "outputs": []
    },
    {
      "cell_type": "code",
      "metadata": {
        "id": "9ZAaEXxfwsS4",
        "colab_type": "code",
        "outputId": "5af40a5f-c978-4da1-f040-7a321a5beff2",
        "colab": {
          "base_uri": "https://localhost:8080/",
          "height": 139
        }
      },
      "source": [
        "from imblearn.over_sampling import SMOTE\n",
        "sm = SMOTE(random_state=27, ratio = 1.0)\n",
        "x_train_over, y_train_over = sm.fit_sample(X_train, y_train)"
      ],
      "execution_count": 0,
      "outputs": [
        {
          "output_type": "stream",
          "text": [
            "/usr/local/lib/python3.6/dist-packages/sklearn/externals/six.py:31: FutureWarning: The module is deprecated in version 0.21 and will be removed in version 0.23 since we've dropped support for Python 2.7. Please rely on the official version of six (https://pypi.org/project/six/).\n",
            "  \"(https://pypi.org/project/six/).\", FutureWarning)\n",
            "/usr/local/lib/python3.6/dist-packages/sklearn/utils/deprecation.py:144: FutureWarning: The sklearn.neighbors.base module is  deprecated in version 0.22 and will be removed in version 0.24. The corresponding classes / functions should instead be imported from sklearn.neighbors. Anything that cannot be imported from sklearn.neighbors is now part of the private API.\n",
            "  warnings.warn(message, FutureWarning)\n",
            "/usr/local/lib/python3.6/dist-packages/sklearn/utils/deprecation.py:87: FutureWarning: Function safe_indexing is deprecated; safe_indexing is deprecated in version 0.22 and will be removed in version 0.24.\n",
            "  warnings.warn(msg, category=FutureWarning)\n"
          ],
          "name": "stderr"
        }
      ]
    },
    {
      "cell_type": "code",
      "metadata": {
        "id": "BLP2bEFjKV_G",
        "colab_type": "code",
        "colab": {}
      },
      "source": [
        "# Let us count classes in y_train_over\n",
        "\n",
        "count1 = 0\n",
        "count0 = 0\n",
        "for e in y_train_over:\n",
        "  if e == 1:\n",
        "    count1 = count1 + 1\n",
        "  elif e == 0:\n",
        "    count0 = count0 + 1"
      ],
      "execution_count": 0,
      "outputs": []
    },
    {
      "cell_type": "code",
      "metadata": {
        "id": "VZyVYxx_KlVZ",
        "colab_type": "code",
        "outputId": "c0d50ebe-924a-4fbb-bdc8-87968ef1ec5e",
        "colab": {
          "base_uri": "https://localhost:8080/",
          "height": 34
        }
      },
      "source": [
        "# Now we can see that both classes are balanced\n",
        "\n",
        "print(count0,count1)"
      ],
      "execution_count": 0,
      "outputs": [
        {
          "output_type": "stream",
          "text": [
            "9460 9460\n"
          ],
          "name": "stdout"
        }
      ]
    },
    {
      "cell_type": "code",
      "metadata": {
        "id": "KvcmGxvL7fsX",
        "colab_type": "code",
        "outputId": "b3aff78b-a13f-46a2-ca40-ed6c13220f60",
        "colab": {
          "base_uri": "https://localhost:8080/",
          "height": 34
        }
      },
      "source": [
        "y_train_over.shape"
      ],
      "execution_count": 0,
      "outputs": [
        {
          "output_type": "execute_result",
          "data": {
            "text/plain": [
              "(18920,)"
            ]
          },
          "metadata": {
            "tags": []
          },
          "execution_count": 34
        }
      ]
    },
    {
      "cell_type": "code",
      "metadata": {
        "id": "OoNcUK2u7lyK",
        "colab_type": "code",
        "colab": {}
      },
      "source": [
        "# now finally classes are balanced"
      ],
      "execution_count": 0,
      "outputs": []
    },
    {
      "cell_type": "markdown",
      "metadata": {
        "id": "_gQ86mRDtpHF",
        "colab_type": "text"
      },
      "source": [
        "\n",
        "\n",
        "\n",
        "# Using Self-Trained Vectors\n"
      ]
    },
    {
      "cell_type": "code",
      "metadata": {
        "id": "D8ykxWpUuE3i",
        "colab_type": "code",
        "colab": {}
      },
      "source": [
        "self_vectors = dict()"
      ],
      "execution_count": 0,
      "outputs": []
    },
    {
      "cell_type": "code",
      "metadata": {
        "id": "84Vk4kxSwezR",
        "colab_type": "code",
        "colab": {}
      },
      "source": [
        "file = open('/content/drive/My Drive/w2v_model_New.txt',encoding = 'utf-8')\n",
        "\n",
        "for line in file:\n",
        "  values = line.split()\n",
        "  word = values[0]\n",
        "  vectors = np.asarray(values[1:])\n",
        "  self_vectors[word] = vectors\n",
        "file.close()"
      ],
      "execution_count": 0,
      "outputs": []
    },
    {
      "cell_type": "code",
      "metadata": {
        "id": "wMZ7ufBrxbJN",
        "colab_type": "code",
        "outputId": "0459d318-f61d-4590-c73e-9a30d47ef919",
        "colab": {
          "base_uri": "https://localhost:8080/",
          "height": 34
        }
      },
      "source": [
        "#There are 73,083 words with their vectors here\n",
        "len(self_vectors.keys())"
      ],
      "execution_count": 0,
      "outputs": [
        {
          "output_type": "execute_result",
          "data": {
            "text/plain": [
              "73083"
            ]
          },
          "metadata": {
            "tags": []
          },
          "execution_count": 38
        }
      ]
    },
    {
      "cell_type": "code",
      "metadata": {
        "id": "FfwwTvNR3giV",
        "colab_type": "code",
        "colab": {}
      },
      "source": [
        "# Creating a word and correspoding vector matrix and finding out which words arent present in glove\n",
        "word_vector_matrix = np.zeros((vocab_size, 100))\n",
        "unavailable = 0\n",
        "\n",
        "for word, index in tokenizer.word_index.items():\n",
        "  vector = self_vectors.get(word)\n",
        "  if vector is not None:\n",
        "    word_vector_matrix[index] = vector\n",
        "  else:\n",
        "    unavailable = unavailable + 1\n",
        "    print(word)"
      ],
      "execution_count": 0,
      "outputs": []
    },
    {
      "cell_type": "code",
      "metadata": {
        "id": "Xjos-kgRLrvl",
        "colab_type": "code",
        "outputId": "fe7c5ce2-35f0-45b5-e682-c25e3cf27cbb",
        "colab": {
          "base_uri": "https://localhost:8080/",
          "height": 34
        }
      },
      "source": [
        "unavailable"
      ],
      "execution_count": 0,
      "outputs": [
        {
          "output_type": "execute_result",
          "data": {
            "text/plain": [
              "106599"
            ]
          },
          "metadata": {
            "tags": []
          },
          "execution_count": 40
        }
      ]
    },
    {
      "cell_type": "code",
      "metadata": {
        "id": "0qf-UD78L9lO",
        "colab_type": "code",
        "colab": {}
      },
      "source": [
        "# Out of 171,533 words , 106,599 are unavailable in self because we used word freq >= 2\n",
        "# This problem can be removed by using customised word2vec modelling using all words(even with frequency 1)"
      ],
      "execution_count": 0,
      "outputs": []
    },
    {
      "cell_type": "code",
      "metadata": {
        "id": "tBOMaUZNykWa",
        "colab_type": "code",
        "colab": {}
      },
      "source": [
        "#Now we will search for vectors of words in our dataset and build model"
      ],
      "execution_count": 0,
      "outputs": []
    },
    {
      "cell_type": "code",
      "metadata": {
        "id": "CwYUn_nA4mvv",
        "colab_type": "code",
        "outputId": "2c368bff-c27d-4379-b289-210ceb4cbd5e",
        "colab": {
          "base_uri": "https://localhost:8080/",
          "height": 136
        }
      },
      "source": [
        "X"
      ],
      "execution_count": 0,
      "outputs": [
        {
          "output_type": "execute_result",
          "data": {
            "text/plain": [
              "array([[  1230,    415,     51, ...,      0,      0,      0],\n",
              "       [   712,    173,   2946, ...,      0,      0,      0],\n",
              "       [   838,     17,    922, ...,      0,      0,      0],\n",
              "       ...,\n",
              "       [  1373,      7,      3, ...,      0,      0,      0],\n",
              "       [171521,    896,    687, ...,      0,      0,      0],\n",
              "       [   896,    687,     15, ...,      0,      0,      0]], dtype=int32)"
            ]
          },
          "metadata": {
            "tags": []
          },
          "execution_count": 41
        }
      ]
    },
    {
      "cell_type": "code",
      "metadata": {
        "id": "4mfzkK8G40lO",
        "colab_type": "code",
        "colab": {}
      },
      "source": [
        "vec_size = 100\n",
        "max_length = 1500\n",
        "\n",
        "#The Custom Trained vectors are represented in 100 dimension"
      ],
      "execution_count": 0,
      "outputs": []
    },
    {
      "cell_type": "markdown",
      "metadata": {
        "id": "_YKmsGlvPu-4",
        "colab_type": "text"
      },
      "source": [
        "# AlexNet Trial"
      ]
    },
    {
      "cell_type": "code",
      "metadata": {
        "id": "PazhoUoVQaY7",
        "colab_type": "code",
        "outputId": "1e78f0d5-b8ba-4303-e78b-27a65c73dc5a",
        "colab": {
          "base_uri": "https://localhost:8080/",
          "height": 629
        }
      },
      "source": [
        "#Let's make a keras model\n",
        "\n",
        "model2 = tf.keras.Sequential()\n",
        "#Now we will add embedding layer telling how many words are there and which weights to use(the custom ones)\n",
        "model2.add(Embedding(vocab_size, vec_size, input_length = max_length, weights = [word_vector_matrix], trainable = False))\n",
        "\n",
        "model2.add(Conv1D(96, 11 ,strides = 4, activation = 'relu'))\n",
        "model2.add(MaxPooling1D(pool_size = 3, strides = 2))\n",
        "\n",
        "model2.add(Conv1D(256, 5,padding = 'same', activation = 'relu'))\n",
        "model2.add(MaxPooling1D(pool_size = 3, strides = 2))\n",
        "\n",
        "model2.add(Conv1D(384, 3,padding = 'same', activation = 'relu'))\n",
        "model2.add(Conv1D(384, 3,padding = 'same', activation = 'relu'))\n",
        "model2.add(Conv1D(256, 3,padding = 'same', activation = 'relu'))\n",
        "model2.add(MaxPooling1D(pool_size = 3,strides = 2))\n",
        "\n",
        "model2.add(Flatten())\n",
        "model2.add(Dense(128, activation = 'relu' ))\n",
        "model2.add(Dense(256,activation = 'relu'))\n",
        "model2.add(Dense(64, activation = 'relu'))\n",
        "model2.add(Dense(1, activation = 'sigmoid'))\n",
        "\n",
        "model2.summary()\n"
      ],
      "execution_count": 0,
      "outputs": [
        {
          "output_type": "stream",
          "text": [
            "Model: \"sequential_1\"\n",
            "_________________________________________________________________\n",
            "Layer (type)                 Output Shape              Param #   \n",
            "=================================================================\n",
            "embedding_1 (Embedding)      (None, 1500, 100)         17153300  \n",
            "_________________________________________________________________\n",
            "conv1d_3 (Conv1D)            (None, 373, 96)           105696    \n",
            "_________________________________________________________________\n",
            "max_pooling1d_3 (MaxPooling1 (None, 186, 96)           0         \n",
            "_________________________________________________________________\n",
            "conv1d_4 (Conv1D)            (None, 186, 256)          123136    \n",
            "_________________________________________________________________\n",
            "max_pooling1d_4 (MaxPooling1 (None, 92, 256)           0         \n",
            "_________________________________________________________________\n",
            "conv1d_5 (Conv1D)            (None, 92, 384)           295296    \n",
            "_________________________________________________________________\n",
            "conv1d_6 (Conv1D)            (None, 92, 384)           442752    \n",
            "_________________________________________________________________\n",
            "conv1d_7 (Conv1D)            (None, 92, 256)           295168    \n",
            "_________________________________________________________________\n",
            "max_pooling1d_5 (MaxPooling1 (None, 45, 256)           0         \n",
            "_________________________________________________________________\n",
            "flatten_1 (Flatten)          (None, 11520)             0         \n",
            "_________________________________________________________________\n",
            "dense_3 (Dense)              (None, 128)               1474688   \n",
            "_________________________________________________________________\n",
            "dense_4 (Dense)              (None, 256)               33024     \n",
            "_________________________________________________________________\n",
            "dense_5 (Dense)              (None, 64)                16448     \n",
            "_________________________________________________________________\n",
            "dense_6 (Dense)              (None, 1)                 65        \n",
            "=================================================================\n",
            "Total params: 19,939,573\n",
            "Trainable params: 2,786,273\n",
            "Non-trainable params: 17,153,300\n",
            "_________________________________________________________________\n"
          ],
          "name": "stdout"
        }
      ]
    },
    {
      "cell_type": "code",
      "metadata": {
        "id": "tE-s8sDRRv15",
        "colab_type": "code",
        "colab": {}
      },
      "source": [
        "# Adam Optimizer was used for Experiment\n",
        "adam = tf.keras.optimizers.Adadelta(learning_rate=0.001, rho=0.95)"
      ],
      "execution_count": 0,
      "outputs": []
    },
    {
      "cell_type": "code",
      "metadata": {
        "colab_type": "code",
        "id": "A6k0fqMUR5Fa",
        "colab": {}
      },
      "source": [
        "model2.compile(optimizer = 'adam', loss = 'binary_crossentropy', metrics = ['accuracy'])"
      ],
      "execution_count": 0,
      "outputs": []
    },
    {
      "cell_type": "code",
      "metadata": {
        "colab_type": "code",
        "outputId": "742f2042-6d26-400c-d941-9df07bae2825",
        "id": "E1hRM86RR5Fy",
        "colab": {
          "base_uri": "https://localhost:8080/",
          "height": 717
        }
      },
      "source": [
        "#Training the Model\n",
        "epochs = 20\n",
        "batch_size = 15\n",
        "\n",
        "history2 = model2.fit(X_train, y_train, epochs=epochs, batch_size=batch_size,validation_split = 0.2)"
      ],
      "execution_count": 0,
      "outputs": [
        {
          "output_type": "stream",
          "text": [
            "Epoch 1/20\n",
            "655/655 [==============================] - 15s 22ms/step - loss: 0.1802 - accuracy: 0.9642 - val_loss: 0.2963 - val_accuracy: 0.9568\n",
            "Epoch 2/20\n",
            "655/655 [==============================] - 14s 22ms/step - loss: 0.1809 - accuracy: 0.9641 - val_loss: 0.1773 - val_accuracy: 0.9568\n",
            "Epoch 3/20\n",
            "655/655 [==============================] - 14s 22ms/step - loss: 0.1744 - accuracy: 0.9642 - val_loss: 0.1801 - val_accuracy: 0.9568\n",
            "Epoch 4/20\n",
            "655/655 [==============================] - 14s 22ms/step - loss: 0.1630 - accuracy: 0.9642 - val_loss: 0.1954 - val_accuracy: 0.9568\n",
            "Epoch 5/20\n",
            "655/655 [==============================] - 14s 22ms/step - loss: 0.1576 - accuracy: 0.9644 - val_loss: 0.1973 - val_accuracy: 0.9568\n",
            "Epoch 6/20\n",
            "655/655 [==============================] - 14s 22ms/step - loss: 0.1573 - accuracy: 0.9646 - val_loss: 0.1812 - val_accuracy: 0.9568\n",
            "Epoch 7/20\n",
            "655/655 [==============================] - 14s 22ms/step - loss: 0.1509 - accuracy: 0.9642 - val_loss: 0.1681 - val_accuracy: 0.9568\n",
            "Epoch 8/20\n",
            "655/655 [==============================] - 14s 22ms/step - loss: 0.1399 - accuracy: 0.9661 - val_loss: 0.1689 - val_accuracy: 0.9564\n",
            "Epoch 9/20\n",
            "655/655 [==============================] - 14s 22ms/step - loss: 0.1343 - accuracy: 0.9695 - val_loss: 0.1693 - val_accuracy: 0.9576\n",
            "Epoch 10/20\n",
            "655/655 [==============================] - 14s 22ms/step - loss: 0.1100 - accuracy: 0.9747 - val_loss: 0.1676 - val_accuracy: 0.9544\n",
            "Epoch 11/20\n",
            "655/655 [==============================] - 14s 22ms/step - loss: 0.0972 - accuracy: 0.9780 - val_loss: 0.1866 - val_accuracy: 0.9548\n",
            "Epoch 12/20\n",
            "655/655 [==============================] - 14s 22ms/step - loss: 0.0783 - accuracy: 0.9802 - val_loss: 0.2121 - val_accuracy: 0.9580\n",
            "Epoch 13/20\n",
            "655/655 [==============================] - 15s 22ms/step - loss: 0.0678 - accuracy: 0.9834 - val_loss: 0.2109 - val_accuracy: 0.9536\n",
            "Epoch 14/20\n",
            "655/655 [==============================] - 14s 22ms/step - loss: 0.0594 - accuracy: 0.9851 - val_loss: 0.3768 - val_accuracy: 0.9580\n",
            "Epoch 15/20\n",
            "655/655 [==============================] - 14s 22ms/step - loss: 0.0414 - accuracy: 0.9890 - val_loss: 0.3409 - val_accuracy: 0.9523\n",
            "Epoch 16/20\n",
            "655/655 [==============================] - 14s 22ms/step - loss: 0.0357 - accuracy: 0.9915 - val_loss: 0.7612 - val_accuracy: 0.9580\n",
            "Epoch 17/20\n",
            "655/655 [==============================] - 14s 22ms/step - loss: 0.0280 - accuracy: 0.9928 - val_loss: 0.2727 - val_accuracy: 0.9589\n",
            "Epoch 18/20\n",
            "655/655 [==============================] - 14s 22ms/step - loss: 0.0302 - accuracy: 0.9937 - val_loss: 0.5921 - val_accuracy: 0.9568\n",
            "Epoch 19/20\n",
            "655/655 [==============================] - 14s 22ms/step - loss: 0.0265 - accuracy: 0.9938 - val_loss: 0.4571 - val_accuracy: 0.9572\n",
            "Epoch 20/20\n",
            "655/655 [==============================] - 14s 22ms/step - loss: 0.0275 - accuracy: 0.9928 - val_loss: 0.3707 - val_accuracy: 0.9564\n"
          ],
          "name": "stdout"
        }
      ]
    },
    {
      "cell_type": "code",
      "metadata": {
        "colab_type": "code",
        "outputId": "95407a2d-95fb-4a10-b484-cbc2076e86f6",
        "id": "SL9BfSedTRlg",
        "colab": {
          "base_uri": "https://localhost:8080/",
          "height": 545
        }
      },
      "source": [
        "acc = history2.history['accuracy']\n",
        "val_acc = history2.history['val_accuracy']\n",
        "loss = history2.history['loss']\n",
        "val_loss = history2.history['val_loss']\n",
        "\n",
        "epochs = range(len(acc))\n",
        "\n",
        "plt.plot(epochs, acc, 'r', label='Training accuracy')\n",
        "plt.plot(epochs, val_acc, 'b', label='Validation accuracy')\n",
        "plt.title('Training and validation accuracy')\n",
        "\n",
        "plt.figure()\n",
        "\n",
        "plt.plot(epochs, loss, 'r', label='Training Loss')\n",
        "plt.plot(epochs, val_loss, 'b', label='Validation Loss')\n",
        "plt.title('Training and validation loss')\n",
        "plt.legend()\n",
        "\n",
        "plt.show()"
      ],
      "execution_count": 0,
      "outputs": [
        {
          "output_type": "display_data",
          "data": {
            "image/png": "[encoded data removed]",
            "text/plain": [
              "<Figure size 432x288 with 1 Axes>"
            ]
          },
          "metadata": {
            "tags": [],
            "needs_background": "light"
          }
        },
        {
          "output_type": "display_data",
          "data": {
            "image/png": "[encoded data removed]",
            "text/plain": [
              "<Figure size 432x288 with 1 Axes>"
            ]
          },
          "metadata": {
            "tags": [],
            "needs_background": "light"
          }
        }
      ]
    },
    {
      "cell_type": "code",
      "metadata": {
        "colab_type": "code",
        "id": "MBJzXWS8TRlu",
        "colab": {}
      },
      "source": [
        "y_pred = model2.predict(X_test)"
      ],
      "execution_count": 0,
      "outputs": []
    },
    {
      "cell_type": "code",
      "metadata": {
        "colab_type": "code",
        "outputId": "c7696e1a-91b7-47fe-8d89-d58fa3ca1dff",
        "id": "ipnFNoeUTRl0",
        "colab": {
          "base_uri": "https://localhost:8080/",
          "height": 34
        }
      },
      "source": [
        "y_pred.shape"
      ],
      "execution_count": 0,
      "outputs": [
        {
          "output_type": "execute_result",
          "data": {
            "text/plain": [
              "(2455, 1)"
            ]
          },
          "metadata": {
            "tags": []
          },
          "execution_count": 71
        }
      ]
    },
    {
      "cell_type": "code",
      "metadata": {
        "colab_type": "code",
        "outputId": "bac1ec95-443e-446e-c5d6-79ecc37d7fd3",
        "id": "ZoLevlGVTRl4",
        "colab": {
          "base_uri": "https://localhost:8080/",
          "height": 34
        }
      },
      "source": [
        "# Creating a bias for final prediction\n",
        "\n",
        "y_predfinal = []\n",
        "for e in y_pred:\n",
        "  if e > 0.2:\n",
        "    y_predfinal.append(1)\n",
        "  else:\n",
        "    y_predfinal.append(0)\n",
        "  \n",
        "y_predfinal = np.array(y_predfinal)\n",
        "y_predfinal.shape"
      ],
      "execution_count": 0,
      "outputs": [
        {
          "output_type": "execute_result",
          "data": {
            "text/plain": [
              "(2455,)"
            ]
          },
          "metadata": {
            "tags": []
          },
          "execution_count": 72
        }
      ]
    },
    {
      "cell_type": "code",
      "metadata": {
        "colab_type": "code",
        "outputId": "a3d69276-afe7-4c12-9f99-18b11885b92a",
        "id": "SDwZjjpuTRl7",
        "colab": {
          "base_uri": "https://localhost:8080/",
          "height": 34
        }
      },
      "source": [
        "y_test.shape"
      ],
      "execution_count": 0,
      "outputs": [
        {
          "output_type": "execute_result",
          "data": {
            "text/plain": [
              "(2455,)"
            ]
          },
          "metadata": {
            "tags": []
          },
          "execution_count": 73
        }
      ]
    },
    {
      "cell_type": "code",
      "metadata": {
        "colab_type": "code",
        "outputId": "1be716a9-f51e-4fdd-d717-d281e00c42b9",
        "id": "TMcuGGtZTRmU",
        "colab": {
          "base_uri": "https://localhost:8080/",
          "height": 51
        }
      },
      "source": [
        "# The Model Detected 2321 Real News Articles Out of 2404\n",
        "# The Model Detected 23 Fake Articles Out of 51\n",
        "\n",
        "from sklearn.metrics import confusion_matrix,classification_report\n",
        "confusion_matrix(y_test,y_predfinal)"
      ],
      "execution_count": 0,
      "outputs": [
        {
          "output_type": "execute_result",
          "data": {
            "text/plain": [
              "array([[2321,   28],\n",
              "       [  83,   23]])"
            ]
          },
          "metadata": {
            "tags": []
          },
          "execution_count": 74
        }
      ]
    },
    {
      "cell_type": "code",
      "metadata": {
        "colab_type": "code",
        "outputId": "e47f195d-299b-4231-c3eb-b7a7c2ba1bdc",
        "id": "zAH_jIZcTRmY",
        "colab": {
          "base_uri": "https://localhost:8080/",
          "height": 170
        }
      },
      "source": [
        "# Precision and Recall Are High For Detecting Real News Articles and Less for Detecting Fake News Articles\n",
        "\n",
        "print(classification_report(y_test,y_predfinal))"
      ],
      "execution_count": 0,
      "outputs": [
        {
          "output_type": "stream",
          "text": [
            "              precision    recall  f1-score   support\n",
            "\n",
            "           0       0.97      0.99      0.98      2349\n",
            "           1       0.45      0.22      0.29       106\n",
            "\n",
            "    accuracy                           0.95      2455\n",
            "   macro avg       0.71      0.60      0.63      2455\n",
            "weighted avg       0.94      0.95      0.95      2455\n",
            "\n"
          ],
          "name": "stdout"
        }
      ]
    },
    {
      "cell_type": "code",
      "metadata": {
        "colab_type": "code",
        "outputId": "3c47e74d-01c0-4587-e246-ad04e37c9672",
        "id": "0trqEUucTRmc",
        "colab": {
          "base_uri": "https://localhost:8080/",
          "height": 34
        }
      },
      "source": [
        "# Saving Model\n",
        "# serialize model to JSON\n",
        "model_json = model2.to_json()\n",
        "with open(\"model2.json\", \"w\") as json_file:\n",
        "    json_file.write(model_json)\n",
        "# serialize weights to HDF5\n",
        "model2.save_weights(\"model2.h5\")\n",
        "print(\"Saved model to disk\")"
      ],
      "execution_count": 0,
      "outputs": [
        {
          "output_type": "stream",
          "text": [
            "Saved model to disk\n"
          ],
          "name": "stdout"
        }
      ]
    }
  ]
}